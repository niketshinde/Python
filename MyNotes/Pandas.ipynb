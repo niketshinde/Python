{
 "cells": [
  {
   "cell_type": "code",
   "execution_count": 59,
   "metadata": {},
   "outputs": [
    {
     "name": "stdout",
     "output_type": "stream",
     "text": [
      "                  KEYS        INT        PF   PREPROD\n",
      "0              DATASET       SET1       NaN       NaN\n",
      "1      CUST_FIRST_NAME     ATCust    ATCust    ATCust\n",
      "2       CUST_LAST_NAME      _SSN_     _SSN_     _SSN_\n",
      "3             CUST_SSN      _SSN_     _SSN_     _SSN_\n",
      "4            CUST_TYPE   personal  personal  personal\n",
      "5     CUST_STREET_NAME  Test str.       NaN       NaN\n",
      "6  CUST_STREET_ADDRESS          1       NaN       NaN\n",
      "7     CUST_POSTAL_CODE      10005       NaN       NaN\n",
      "['DATASET', 'CUST_FIRST_NAME', 'CUST_LAST_NAME', 'CUST_SSN', 'CUST_TYPE', 'CUST_STREET_NAME', 'CUST_STREET_ADDRESS', 'CUST_POSTAL_CODE']\n",
      "                                    KEYS        INT        PF   PREPROD\n",
      "DATASET                          DATASET       SET1       NaN       NaN\n",
      "CUST_FIRST_NAME          CUST_FIRST_NAME     ATCust    ATCust    ATCust\n",
      "CUST_LAST_NAME            CUST_LAST_NAME      _SSN_     _SSN_     _SSN_\n",
      "CUST_SSN                        CUST_SSN      _SSN_     _SSN_     _SSN_\n",
      "CUST_TYPE                      CUST_TYPE   personal  personal  personal\n",
      "CUST_STREET_NAME        CUST_STREET_NAME  Test str.       NaN       NaN\n",
      "CUST_STREET_ADDRESS  CUST_STREET_ADDRESS          1       NaN       NaN\n",
      "CUST_POSTAL_CODE        CUST_POSTAL_CODE      10005       NaN       NaN\n",
      "                           INT\n",
      "DATASET                   SET1\n",
      "CUST_FIRST_NAME         ATCust\n",
      "CUST_LAST_NAME           _SSN_\n",
      "CUST_SSN                 _SSN_\n",
      "CUST_TYPE             personal\n",
      "CUST_STREET_NAME     Test str.\n",
      "CUST_STREET_ADDRESS          1\n",
      "CUST_POSTAL_CODE         10005\n",
      "{'INT': {'DATASET': 'SET1', 'CUST_FIRST_NAME': 'ATCust', 'CUST_LAST_NAME': '_SSN_', 'CUST_SSN': '_SSN_', 'CUST_TYPE': 'personal', 'CUST_STREET_NAME': 'Test str.', 'CUST_STREET_ADDRESS': '1', 'CUST_POSTAL_CODE': '10005'}}\n",
      "{'DATASET': 'SET1', 'CUST_FIRST_NAME': 'ATCust', 'CUST_LAST_NAME': '_SSN_', 'CUST_SSN': '_SSN_', 'CUST_TYPE': 'personal', 'CUST_STREET_NAME': 'Test str.', 'CUST_STREET_ADDRESS': '1', 'CUST_POSTAL_CODE': '10005'}\n"
     ]
    }
   ],
   "source": [
    "import pandas as pd\n",
    "df  = pd.read_csv(\"GlobalData.csv\",delimiter='|')\n",
    "\n",
    "print (df)\n",
    "\n",
    "age_list = df[\"KEYS\"].tolist()\n",
    "print(age_list)\n",
    "\n",
    "df.index= age_list\n",
    "\n",
    "print (df)\n",
    "\n",
    "df1  = pd.read_csv(\"GlobalData.csv\",delimiter='|',usecols=['INT'])\n",
    "df1.index=age_list\n",
    "\n",
    "\n",
    "print (df1)\n",
    "dit= df1.to_dict(orient='dict')\n",
    "print(dit)\n",
    "print(dit['INT'])\n",
    "\n",
    "\n",
    "\n",
    "\n",
    "\n"
   ]
  },
  {
   "cell_type": "code",
   "execution_count": 66,
   "metadata": {
    "scrolled": true
   },
   "outputs": [
    {
     "name": "stdout",
     "output_type": "stream",
     "text": [
      "{'KEYS': {'DATASET': 'DATASET', 'CUST_FIRST_NAME': 'CUST_FIRST_NAME', 'CUST_LAST_NAME': 'CUST_LAST_NAME', 'CUST_SSN': 'CUST_SSN', 'CUST_TYPE': 'CUST_TYPE', 'CUST_STREET_NAME': 'CUST_STREET_NAME', 'CUST_STREET_ADDRESS': 'CUST_STREET_ADDRESS', 'CUST_POSTAL_CODE': 'CUST_POSTAL_CODE'}, 'INT': {'DATASET': 'SET1', 'CUST_FIRST_NAME': 'ATCust', 'CUST_LAST_NAME': '_SSN_', 'CUST_SSN': '_SSN_', 'CUST_TYPE': 'personal', 'CUST_STREET_NAME': 'Test str.', 'CUST_STREET_ADDRESS': '1', 'CUST_POSTAL_CODE': '10005'}, 'PF': {'DATASET': nan, 'CUST_FIRST_NAME': 'ATCust', 'CUST_LAST_NAME': '_SSN_', 'CUST_SSN': '_SSN_', 'CUST_TYPE': 'personal', 'CUST_STREET_NAME': nan, 'CUST_STREET_ADDRESS': nan, 'CUST_POSTAL_CODE': nan}, 'PREPROD': {'DATASET': nan, 'CUST_FIRST_NAME': 'ATCust', 'CUST_LAST_NAME': '_SSN_', 'CUST_SSN': '_SSN_', 'CUST_TYPE': 'personal', 'CUST_STREET_NAME': nan, 'CUST_STREET_ADDRESS': nan, 'CUST_POSTAL_CODE': nan}}\n"
     ]
    }
   ],
   "source": [
    "\n",
    "df  = pd.read_csv(\"GlobalData.csv\",delimiter='|')\n",
    "\n",
    "column_list = df[\"KEYS\"].tolist()\n",
    "df.index= column_list\n",
    "\n",
    "print(df.to_dict())\n"
   ]
  },
  {
   "cell_type": "code",
   "execution_count": 24,
   "metadata": {},
   "outputs": [
    {
     "name": "stdout",
     "output_type": "stream",
     "text": [
      "             SET1          SET2          SET3\n",
      "0    1.986122e+11  196612210002  1.988051e+11\n",
      "1    1.986122e+11  196612210010  1.988051e+11\n",
      "2    1.986122e+11  196612210028  1.988051e+11\n",
      "3    1.986122e+11  196612210036  1.988051e+11\n",
      "4    1.986122e+11  196612210044  1.988051e+11\n",
      "5    1.986122e+11  196612210051  1.988051e+11\n",
      "6    1.986122e+11  196612210069  1.988051e+11\n",
      "7    1.986122e+11  196612210077  1.988051e+11\n",
      "8    1.986122e+11  196612210085  1.988051e+11\n",
      "9    1.986122e+11  196612210093  1.988051e+11\n",
      "10   1.986122e+11  196612210101  1.988051e+11\n",
      "11   1.986122e+11  196612210119  1.988051e+11\n",
      "12   1.986122e+11  196612210127  1.988051e+11\n",
      "13   1.986122e+11  196612210135  1.988051e+11\n",
      "14   1.986122e+11  196612210143  1.988051e+11\n",
      "15   1.986122e+11  196612210150  1.988051e+11\n",
      "16   1.986122e+11  196612210168  1.988051e+11\n",
      "17   1.986122e+11  196612210176  1.988051e+11\n",
      "18   1.986122e+11  196612210184  1.988051e+11\n",
      "19   1.986122e+11  196612210192  1.988051e+11\n",
      "20   1.986122e+11  196612210200  1.988051e+11\n",
      "21   1.986122e+11  196612210218  1.988051e+11\n",
      "22   1.986122e+11  196612210226  1.988051e+11\n",
      "23   1.986122e+11  196612210234  1.988051e+11\n",
      "24   1.986122e+11  196612210242  1.988051e+11\n",
      "25   1.986122e+11  196612210259  1.988051e+11\n",
      "26   1.986122e+11  196612210267  1.988051e+11\n",
      "27   1.986122e+11  196612210275  1.988051e+11\n",
      "28   1.986122e+11  196612210283  1.988051e+11\n",
      "29   1.986122e+11  196612210291  1.988051e+11\n",
      "..            ...           ...           ...\n",
      "970           NaN  196612219706           NaN\n",
      "971           NaN  196612219714           NaN\n",
      "972           NaN  196612219722           NaN\n",
      "973           NaN  196612219730           NaN\n",
      "974           NaN  196612219748           NaN\n",
      "975           NaN  196612219755           NaN\n",
      "976           NaN  196612219763           NaN\n",
      "977           NaN  196612219771           NaN\n",
      "978           NaN  196612219789           NaN\n",
      "979           NaN  196612219797           NaN\n",
      "980           NaN  196612219805           NaN\n",
      "981           NaN  196612219813           NaN\n",
      "982           NaN  196612219821           NaN\n",
      "983           NaN  196612219839           NaN\n",
      "984           NaN  196612219847           NaN\n",
      "985           NaN  196612219854           NaN\n",
      "986           NaN  196612219862           NaN\n",
      "987           NaN  196612219870           NaN\n",
      "988           NaN  196612219888           NaN\n",
      "989           NaN  196612219896           NaN\n",
      "990           NaN  196612219904           NaN\n",
      "991           NaN  196612219912           NaN\n",
      "992           NaN  196612219920           NaN\n",
      "993           NaN  196612219938           NaN\n",
      "994           NaN  196612219946           NaN\n",
      "995           NaN  196612219953           NaN\n",
      "996           NaN  196612219961           NaN\n",
      "997           NaN  196612219979           NaN\n",
      "998           NaN  196612219987           NaN\n",
      "999           NaN  196612219995           NaN\n",
      "\n",
      "[1000 rows x 3 columns]\n",
      "999   NaN\n",
      "Name: SET1, dtype: float64\n"
     ]
    }
   ],
   "source": []
  },
  {
   "cell_type": "code",
   "execution_count": 118,
   "metadata": {},
   "outputs": [
    {
     "name": "stdout",
     "output_type": "stream",
     "text": [
      "198805054445\n",
      "\n"
     ]
    }
   ],
   "source": [
    "import pandas as pd\n",
    "import re\n",
    "column_name= \"SET3\"\n",
    "df  = pd.read_csv(\"SSN.CSV\",delimiter='|')\n",
    "df_read = df[df[column_name].notnull()]\n",
    "value = str(df_read.loc[df_read.shape[0]-1,column_name])\n",
    "print (re.sub(\"\\..*\", \"\", value,re.I))\n",
    "\n",
    "df.loc[df_read.shape[0]-1,column_name] = ''\n",
    "print(df.loc[df_read.shape[0]-1,column_name])\n",
    "df.to_csv(\"SSN.CSV\", index=False, encoding='utf8',sep='|')\n"
   ]
  },
  {
   "cell_type": "code",
   "execution_count": 54,
   "metadata": {},
   "outputs": [
    {
     "name": "stdout",
     "output_type": "stream",
     "text": [
      "198612225972\n"
     ]
    }
   ],
   "source": [
    "import re\n",
    "print (re.sub(\"\\..*\", \"\", \"198612225972.0\"))"
   ]
  },
  {
   "cell_type": "code",
   "execution_count": 41,
   "metadata": {},
   "outputs": [
    {
     "name": "stdout",
     "output_type": "stream",
     "text": [
      "198612226012.0\n"
     ]
    }
   ],
   "source": [
    "import pandas as pd\n",
    "df  = pd.read_csv(\"SSN1.csv\",delimiter='|')\n",
    "df_read = df[df['SET1'].notnull()]\n",
    "print(df_read.loc[df_read.shape[0]-1,\"SET1\"])"
   ]
  },
  {
   "cell_type": "code",
   "execution_count": 99,
   "metadata": {},
   "outputs": [
    {
     "name": "stdout",
     "output_type": "stream",
     "text": [
      "<_sre.SRE_Match object; span=(0, 5), match='$SSN$'>\n",
      "$SSN$\n"
     ]
    }
   ],
   "source": [
    "import re\n",
    "text = '$SSN$'\n",
    "pattern = re.compile(r'\\$.*\\$',re.I)\n",
    "matches = pattern.finditer(text)\n",
    "for match in matches:\n",
    "    print(match)\n",
    "print(text[0:5])"
   ]
  },
  {
   "cell_type": "code",
   "execution_count": 96,
   "metadata": {},
   "outputs": [
    {
     "name": "stdout",
     "output_type": "stream",
     "text": [
      "<_sre.SRE_Match object; span=(0, 18), match='[%CUST_LAST_NAME%]'>\n",
      "[%CUS\n"
     ]
    }
   ],
   "source": [
    "import re\n",
    "text = '[%CUST_LAST_NAME%]'\n",
    "pattern = re.compile(r'\\[.*\\]',re.I)\n",
    "matches = pattern.finditer(text)\n",
    "for match in matches:\n",
    "    print(match)\n",
    "print(text[0:5])"
   ]
  },
  {
   "cell_type": "code",
   "execution_count": 117,
   "metadata": {},
   "outputs": [
    {
     "name": "stdout",
     "output_type": "stream",
     "text": [
      "<_sre.SRE_Match object; span=(1, 37), match='%CUST_FIRST_NAME%,+,%CUST_LAST_NAME%'>\n",
      "CUST_FIRST_NAME%,+,%CUST_LAST_NAME\n"
     ]
    }
   ],
   "source": [
    "import re\n",
    "text = '[%CUST_FIRST_NAME%,+,%CUST_LAST_NAME%]'\n",
    "pattern = re.compile(r'\\%.*%',re.I)\n",
    "matches = pattern.finditer(text)\n",
    "for match in matches:\n",
    "    print(match)\n",
    "    print(text[match.span()[0]+1:match.span()[1]-1])"
   ]
  },
  {
   "cell_type": "code",
   "execution_count": 52,
   "metadata": {},
   "outputs": [
    {
     "name": "stdout",
     "output_type": "stream",
     "text": [
      "2018-12-27\n"
     ]
    }
   ],
   "source": [
    "import re\n",
    "import datetime\n",
    "from dateutil.relativedelta import relativedelta\n",
    "\n",
    "text = '[%CUST_FIRST_NAME%,concat,%CUST_LAST_NAME%]'\n",
    "text = '[10,+,-4 ]'\n",
    "text = '[%CUST_FIRST_NAME%]'\n",
    "text = '[Today,date,-1,d]'\n",
    "text = text.strip()\n",
    "if text.startswith(r'[') and text.endswith(r']'):\n",
    "    text = text[1:-1]\n",
    "    values = text.split(sep=',') \n",
    "    \n",
    "    for i,item in enumerate(values):\n",
    "        values[i] = item.strip()\n",
    "        if values[i].startswith(r'%') and values[i].endswith(r'%'):\n",
    "            values[i] = item[1:-1]\n",
    "    if (len(values)>1):\n",
    "        if values[1].lower() == '+':\n",
    "            cell_value =int(values[0])+ int(values[2])\n",
    "        elif values[1].lower() == '-':\n",
    "            cell_value =int(values[0]) - int(values[2])\n",
    "        elif values[1].lower() == 'concat':\n",
    "            cell_value =values[0]+' '+values[2]\n",
    "        elif values[1].lower() == 'date':\n",
    "            cell_value = datetime.datetime.today() if values[0].lower() == 'today' else parse(values[0])\n",
    "            cell_value = add_date(cell_value,int(values[2]),values[3])\n",
    "            cell_value = cell_value.date().strftime('%Y-%m-%d')\n",
    "        elif values[1].lower() == 'datetime':\n",
    "            cell_value = datetime.datetime.today() if values[0].lower() == 'today' else parse(values[0])\n",
    "            cell_value = add_date(cell_value,int(values[2]),values[3])\n",
    "            cell_value = cell_value.strftime('%Y-%m-%d %H:%M:%S')\n",
    "        else:\n",
    "            pass\n",
    "    else:\n",
    "        cell_value =values[0]\n",
    "elif  text.startswith(r'$') and text.endswith(r'$'):\n",
    "    pass\n",
    "else:\n",
    "    pass\n",
    "    \n",
    "    \n",
    "\n",
    "def add_date(day,num,interval):\n",
    "    added_date= day\n",
    "    if(interval=='d' or interval== 'days'):\n",
    "        added_date = day + relativedelta(days=+num)\n",
    "    elif(interval=='m' or interval== 'months'):\n",
    "        added_date = day + relativedelta(months=+num)\n",
    "    elif(interval=='y' or interval== 'years'):\n",
    "        added_date = day + relativedelta(years=+num)\n",
    "    elif(interval=='hh' or interval== 'hours'):\n",
    "        added_date = day + relativedelta(days=+num)\n",
    "    elif(interval=='mm' or interval== 'minutes'):\n",
    "        added_date = day + relativedelta(days=+num)\n",
    "    elif(interval=='ss' or interval== 'seconds'):\n",
    "        added_date = day + relativedelta(seconds=+num)\n",
    "    else:\n",
    "        pass\n",
    "    return added_date\n",
    "            \n",
    "print(cell_value)"
   ]
  },
  {
   "cell_type": "code",
   "execution_count": 21,
   "metadata": {},
   "outputs": [
    {
     "name": "stdout",
     "output_type": "stream",
     "text": [
      "-6\n"
     ]
    }
   ],
   "source": [
    "print ( int('-10')+int('4'))"
   ]
  },
  {
   "cell_type": "code",
   "execution_count": 17,
   "metadata": {},
   "outputs": [
    {
     "name": "stdout",
     "output_type": "stream",
     "text": [
      "Enter  your Age-19\n",
      "Yes input string is an Integer.\n",
      "Input number value is:  -19\n"
     ]
    }
   ],
   "source": [
    "user_input = input (\"Enter  your Age\")\n",
    "try:\n",
    "   val = int(user_input)\n",
    "   print(\"Yes input string is an Integer.\")\n",
    "   print(\"Input number value is: \", val)\n",
    "except ValueError:\n",
    "   print(\"That's not an int!\")\n",
    "   print(\"No.. input string is not an Integer. It's a string\")"
   ]
  },
  {
   "cell_type": "code",
   "execution_count": 18,
   "metadata": {},
   "outputs": [
    {
     "name": "stdout",
     "output_type": "stream",
     "text": [
      "Enter your number-12\n",
      "User input is string \n"
     ]
    }
   ],
   "source": [
    "user_number  = input(\"Enter your number\")\n",
    "if( user_number.isdigit()):\n",
    "    print(\"User input is Number \")\n",
    "else:\n",
    "    print(\"User input is string \")"
   ]
  },
  {
   "cell_type": "code",
   "execution_count": 36,
   "metadata": {},
   "outputs": [
    {
     "name": "stdout",
     "output_type": "stream",
     "text": [
      "1\n"
     ]
    }
   ],
   "source": [
    "values = \"test\".split(sep=',')\n",
    "print(len(values))"
   ]
  },
  {
   "cell_type": "code",
   "execution_count": 7,
   "metadata": {},
   "outputs": [
    {
     "ename": "NameError",
     "evalue": "name 'date' is not defined",
     "output_type": "error",
     "traceback": [
      "\u001b[1;31m---------------------------------------------------------------------------\u001b[0m",
      "\u001b[1;31mNameError\u001b[0m                                 Traceback (most recent call last)",
      "\u001b[1;32m<ipython-input-7-272d08c71a0e>\u001b[0m in \u001b[0;36m<module>\u001b[1;34m()\u001b[0m\n\u001b[0;32m      1\u001b[0m \u001b[1;32mimport\u001b[0m \u001b[0mdatetime\u001b[0m\u001b[1;33m\u001b[0m\u001b[0m\n\u001b[1;32m----> 2\u001b[1;33m \u001b[0mtoday\u001b[0m \u001b[1;33m=\u001b[0m \u001b[0mdate\u001b[0m\u001b[1;33m.\u001b[0m\u001b[0mtoday\u001b[0m\u001b[1;33m(\u001b[0m\u001b[1;33m)\u001b[0m\u001b[1;33m\u001b[0m\u001b[0m\n\u001b[0m\u001b[0;32m      3\u001b[0m \u001b[1;33m\u001b[0m\u001b[0m\n\u001b[0;32m      4\u001b[0m \u001b[0mprint\u001b[0m\u001b[1;33m(\u001b[0m\u001b[0mtoday\u001b[0m \u001b[1;33m+\u001b[0m \u001b[0mrelativedelta\u001b[0m\u001b[1;33m(\u001b[0m\u001b[0mdays\u001b[0m\u001b[1;33m=\u001b[0m\u001b[1;33m+\u001b[0m\u001b[1;36m1\u001b[0m\u001b[1;33m)\u001b[0m\u001b[1;33m)\u001b[0m\u001b[1;33m\u001b[0m\u001b[0m\n\u001b[0;32m      5\u001b[0m \u001b[1;33m\u001b[0m\u001b[0m\n",
      "\u001b[1;31mNameError\u001b[0m: name 'date' is not defined"
     ]
    }
   ],
   "source": [
    "import datetime\n",
    "today = date.today()\n",
    "\n",
    "print(today + relativedelta(days=+1))\n",
    "      "
   ]
  },
  {
   "cell_type": "code",
   "execution_count": 8,
   "metadata": {},
   "outputs": [
    {
     "name": "stdout",
     "output_type": "stream",
     "text": [
      "Current Date Time: 2018-12-28 09:42:52.573132\n",
      "Add 6 days: 2019-01-03 09:42:52.573132\n",
      "Add 6 months: 2019-06-28 09:42:52.573132\n",
      "Add 6 years: 2024-12-28 09:42:52.573132\n",
      "Add 6 hours: 2018-12-28 15:42:52.573132\n",
      "Add 6 mins: 2018-12-28 09:48:52.573132\n",
      "Add 6 seconds: 2018-12-28 09:42:58.573132\n"
     ]
    }
   ],
   "source": [
    "import datetime\n",
    "from dateutil.relativedelta import relativedelta\n",
    " \n",
    "add_days = datetime.datetime.today() + relativedelta(days=+6)\n",
    "add_months = datetime.datetime.today() + relativedelta(months=+6)\n",
    "add_years = datetime.datetime.today() + relativedelta(years=+6)\n",
    " \n",
    "add_hours = datetime.datetime.today() + relativedelta(hours=+6)\n",
    "add_mins = datetime.datetime.today() + relativedelta(minutes=+6)\n",
    "add_seconds = datetime.datetime.today() + relativedelta(seconds=+6)\n",
    " \n",
    "print(\"Current Date Time:\", datetime.datetime.today())\n",
    "print(\"Add 6 days:\", add_days)\n",
    "print(\"Add 6 months:\", add_months)\n",
    "print(\"Add 6 years:\", add_years)\n",
    "print(\"Add 6 hours:\", add_hours)\n",
    "print(\"Add 6 mins:\", add_mins)\n",
    "print(\"Add 6 seconds:\", add_seconds)"
   ]
  },
  {
   "cell_type": "code",
   "execution_count": 30,
   "metadata": {},
   "outputs": [
    {
     "name": "stdout",
     "output_type": "stream",
     "text": [
      "2017-12-28 10:36:12.331689\n"
     ]
    }
   ],
   "source": [
    "import datetime\n",
    "from dateutil.relativedelta import relativedelta\n",
    "\n",
    "def add_date(day,num,interval):\n",
    "    added_date= day\n",
    "    if(interval=='d' or interval== 'days'):\n",
    "        added_date = day + relativedelta(days=+num)\n",
    "    elif(interval=='m' or interval== 'months'):\n",
    "        added_date = day + relativedelta(months=+num)\n",
    "    elif(interval=='y' or interval== 'years'):\n",
    "        added_date = day + relativedelta(years=+num)\n",
    "    elif(interval=='hh' or interval== 'hours'):\n",
    "        added_date = day + relativedelta(days=+num)\n",
    "    elif(interval=='mm' or interval== 'minutes'):\n",
    "        added_date = day + relativedelta(days=+num)\n",
    "    elif(interval=='ss' or interval== 'seconds'):\n",
    "        added_date = day + relativedelta(seconds=+num)\n",
    "    else:\n",
    "        pass\n",
    "    return added_date\n",
    "\n",
    "# def convert_to_date(date_string):\n",
    "#     if ('-'in date_string):\n",
    "#         if (len(date_string)>8):\n",
    "#             d = datetime.datetime.strptime(date_time_str, '%Y-%m-%d %H:%M:%S')\n",
    "#         else:\n",
    "#             datetime.datetime.strptime(date_time_str, '%Y-%m-%d')\n",
    "\n",
    "\n",
    "print(add_date(datetime.datetime.today(),-1,'y'))"
   ]
  },
  {
   "cell_type": "code",
   "execution_count": 39,
   "metadata": {},
   "outputs": [
    {
     "name": "stdout",
     "output_type": "stream",
     "text": [
      "True\n",
      "8\n"
     ]
    }
   ],
   "source": [
    "str1 = \"2017-12-28\"\n",
    "print('-' in str1)\n",
    "print(len('1-1-2019'))"
   ]
  },
  {
   "cell_type": "code",
   "execution_count": 41,
   "metadata": {},
   "outputs": [
    {
     "name": "stdout",
     "output_type": "stream",
     "text": [
      "Date-time: 2018-06-29 08:15:27\n",
      "Date-time: 2018-06-29 00:00:00\n",
      "Date-time: 2018-06-29 00:00:00\n"
     ]
    }
   ],
   "source": [
    "\n",
    "date_time_str = '2018-06-29 08:15:27'  \n",
    "date_time_obj = datetime.datetime.strptime(date_time_str, '%Y-%m-%d %H:%M:%S')\n",
    "print('Date-time:', date_time_obj)  \n",
    "\n",
    "date_time_str = '2018-6-29'  \n",
    "date_time_obj = datetime.datetime.strptime(date_time_str, '%Y-%m-%d') \n",
    "print('Date-time:', date_time_obj)\n",
    "\n",
    "date_time_str = '2018/6/29'  \n",
    "date_time_obj = datetime.datetime.strptime(date_time_str, '%Y/%m/%d') \n",
    "print('Date-time:', date_time_obj)"
   ]
  },
  {
   "cell_type": "code",
   "execution_count": 23,
   "metadata": {},
   "outputs": [
    {
     "name": "stdout",
     "output_type": "stream",
     "text": [
      "Date: 2018-06-29\n",
      "Time: 08:15:27\n",
      "Date-time: 2018-06-29 08:15:27\n"
     ]
    }
   ],
   "source": [
    "\n",
    "date_time_str = '2018 06 29 08:15:27'  \n",
    "date_time_obj = datetime.datetime.strptime(date_time_str, '%Y %m %d %H:%M:%S')\n",
    "\n",
    "print('Date:', date_time_obj.date())  \n",
    "print('Time:', date_time_obj.time())  \n",
    "print('Date-time:', date_time_obj)  "
   ]
  },
  {
   "cell_type": "code",
   "execution_count": 29,
   "metadata": {},
   "outputs": [
    {
     "name": "stdout",
     "output_type": "stream",
     "text": [
      "Parsing: 2018-06-29 08:15:27.243860\n",
      "2018-06-29\n",
      "08:15:27.243860\n",
      "None\n",
      "\n",
      "\n",
      "Parsing: Jun 28 2018  7:40AM\n",
      "2018-06-28\n",
      "07:40:00\n",
      "None\n",
      "\n",
      "\n",
      "Parsing: Jun 28 2018 at 7:40AM\n",
      "2018-06-28\n",
      "07:40:00\n",
      "None\n",
      "\n",
      "\n",
      "Parsing: September 18, 2017, 22:19:55\n",
      "2017-09-18\n",
      "22:19:55\n",
      "None\n",
      "\n",
      "\n",
      "Parsing: Sun, 05/12/1999, 12:30PM\n",
      "1999-05-12\n",
      "12:30:00\n",
      "None\n",
      "\n",
      "\n",
      "Parsing: Mon, 21 March, 2015\n",
      "2015-03-21\n",
      "00:00:00\n",
      "None\n",
      "\n",
      "\n",
      "Parsing: 2018-03-12T10:12:45Z\n",
      "2018-03-12\n",
      "10:12:45\n",
      "tzutc()\n",
      "\n",
      "\n",
      "Parsing: 2018-06-29 17:08:00.586525+00:00\n",
      "2018-06-29\n",
      "17:08:00.586525\n",
      "tzutc()\n",
      "\n",
      "\n",
      "Parsing: 2018-06-29 17:08:00.586525+05:00\n",
      "2018-06-29\n",
      "17:08:00.586525\n",
      "tzoffset(None, 18000)\n",
      "\n",
      "\n",
      "Parsing: Tuesday , 6th September, 2017 at 4:30pm05/12/1999, 12:30:11PM\n"
     ]
    },
    {
     "ename": "ValueError",
     "evalue": "('Unknown string format:', 'Tuesday , 6th September, 2017 at 4:30pm05/12/1999, 12:30:11PM')",
     "output_type": "error",
     "traceback": [
      "\u001b[1;31m---------------------------------------------------------------------------\u001b[0m",
      "\u001b[1;31mValueError\u001b[0m                                Traceback (most recent call last)",
      "\u001b[1;32m<ipython-input-29-25c8e795f355>\u001b[0m in \u001b[0;36m<module>\u001b[1;34m()\u001b[0m\n\u001b[0;32m     19\u001b[0m \u001b[1;32mfor\u001b[0m \u001b[0mdate\u001b[0m \u001b[1;32min\u001b[0m \u001b[0mdate_array\u001b[0m\u001b[1;33m:\u001b[0m\u001b[1;33m\u001b[0m\u001b[0m\n\u001b[0;32m     20\u001b[0m     \u001b[0mprint\u001b[0m\u001b[1;33m(\u001b[0m\u001b[1;34m'Parsing: '\u001b[0m \u001b[1;33m+\u001b[0m \u001b[0mdate\u001b[0m\u001b[1;33m)\u001b[0m\u001b[1;33m\u001b[0m\u001b[0m\n\u001b[1;32m---> 21\u001b[1;33m     \u001b[0mdt\u001b[0m \u001b[1;33m=\u001b[0m \u001b[0mparse\u001b[0m\u001b[1;33m(\u001b[0m\u001b[0mdate\u001b[0m\u001b[1;33m)\u001b[0m\u001b[1;33m\u001b[0m\u001b[0m\n\u001b[0m\u001b[0;32m     22\u001b[0m     \u001b[0mprint\u001b[0m\u001b[1;33m(\u001b[0m\u001b[0mdt\u001b[0m\u001b[1;33m.\u001b[0m\u001b[0mdate\u001b[0m\u001b[1;33m(\u001b[0m\u001b[1;33m)\u001b[0m\u001b[1;33m)\u001b[0m\u001b[1;33m\u001b[0m\u001b[0m\n\u001b[0;32m     23\u001b[0m     \u001b[0mprint\u001b[0m\u001b[1;33m(\u001b[0m\u001b[0mdt\u001b[0m\u001b[1;33m.\u001b[0m\u001b[0mtime\u001b[0m\u001b[1;33m(\u001b[0m\u001b[1;33m)\u001b[0m\u001b[1;33m)\u001b[0m\u001b[1;33m\u001b[0m\u001b[0m\n",
      "\u001b[1;32m~\\AppData\\Local\\Continuum\\anaconda3\\lib\\site-packages\\dateutil\\parser\\_parser.py\u001b[0m in \u001b[0;36mparse\u001b[1;34m(timestr, parserinfo, **kwargs)\u001b[0m\n\u001b[0;32m   1354\u001b[0m         \u001b[1;32mreturn\u001b[0m \u001b[0mparser\u001b[0m\u001b[1;33m(\u001b[0m\u001b[0mparserinfo\u001b[0m\u001b[1;33m)\u001b[0m\u001b[1;33m.\u001b[0m\u001b[0mparse\u001b[0m\u001b[1;33m(\u001b[0m\u001b[0mtimestr\u001b[0m\u001b[1;33m,\u001b[0m \u001b[1;33m**\u001b[0m\u001b[0mkwargs\u001b[0m\u001b[1;33m)\u001b[0m\u001b[1;33m\u001b[0m\u001b[0m\n\u001b[0;32m   1355\u001b[0m     \u001b[1;32melse\u001b[0m\u001b[1;33m:\u001b[0m\u001b[1;33m\u001b[0m\u001b[0m\n\u001b[1;32m-> 1356\u001b[1;33m         \u001b[1;32mreturn\u001b[0m \u001b[0mDEFAULTPARSER\u001b[0m\u001b[1;33m.\u001b[0m\u001b[0mparse\u001b[0m\u001b[1;33m(\u001b[0m\u001b[0mtimestr\u001b[0m\u001b[1;33m,\u001b[0m \u001b[1;33m**\u001b[0m\u001b[0mkwargs\u001b[0m\u001b[1;33m)\u001b[0m\u001b[1;33m\u001b[0m\u001b[0m\n\u001b[0m\u001b[0;32m   1357\u001b[0m \u001b[1;33m\u001b[0m\u001b[0m\n\u001b[0;32m   1358\u001b[0m \u001b[1;33m\u001b[0m\u001b[0m\n",
      "\u001b[1;32m~\\AppData\\Local\\Continuum\\anaconda3\\lib\\site-packages\\dateutil\\parser\\_parser.py\u001b[0m in \u001b[0;36mparse\u001b[1;34m(self, timestr, default, ignoretz, tzinfos, **kwargs)\u001b[0m\n\u001b[0;32m    646\u001b[0m \u001b[1;33m\u001b[0m\u001b[0m\n\u001b[0;32m    647\u001b[0m         \u001b[1;32mif\u001b[0m \u001b[0mres\u001b[0m \u001b[1;32mis\u001b[0m \u001b[1;32mNone\u001b[0m\u001b[1;33m:\u001b[0m\u001b[1;33m\u001b[0m\u001b[0m\n\u001b[1;32m--> 648\u001b[1;33m             \u001b[1;32mraise\u001b[0m \u001b[0mValueError\u001b[0m\u001b[1;33m(\u001b[0m\u001b[1;34m\"Unknown string format:\"\u001b[0m\u001b[1;33m,\u001b[0m \u001b[0mtimestr\u001b[0m\u001b[1;33m)\u001b[0m\u001b[1;33m\u001b[0m\u001b[0m\n\u001b[0m\u001b[0;32m    649\u001b[0m \u001b[1;33m\u001b[0m\u001b[0m\n\u001b[0;32m    650\u001b[0m         \u001b[1;32mif\u001b[0m \u001b[0mlen\u001b[0m\u001b[1;33m(\u001b[0m\u001b[0mres\u001b[0m\u001b[1;33m)\u001b[0m \u001b[1;33m==\u001b[0m \u001b[1;36m0\u001b[0m\u001b[1;33m:\u001b[0m\u001b[1;33m\u001b[0m\u001b[0m\n",
      "\u001b[1;31mValueError\u001b[0m: ('Unknown string format:', 'Tuesday , 6th September, 2017 at 4:30pm05/12/1999, 12:30:11PM')"
     ]
    }
   ],
   "source": [
    "from dateutil.parser import parse\n",
    "\n",
    "date_array = [  \n",
    "    '2018-06-29 08:15:27.243860',\n",
    "    'Jun 28 2018  7:40AM',\n",
    "    'Jun 28 2018 at 7:40AM',\n",
    "    'September 18, 2017, 22:19:55',\n",
    "    'Sun, 05/12/1999, 12:30PM',\n",
    "    'Mon, 21 March, 2015',\n",
    "    '2018-03-12T10:12:45Z',\n",
    "    '2018-06-29 17:08:00.586525+00:00',\n",
    "    '2018-06-29 17:08:00.586525+05:00',\n",
    "    'Tuesday , 6th September, 2017 at 4:30pm'\n",
    "]\n",
    "\n",
    "for date in date_array:  \n",
    "    print('Parsing: ' + date)\n",
    "    dt = parse(date)\n",
    "    print(dt.date())\n",
    "    print(dt.time())\n",
    "    print(dt.tzinfo)\n",
    "    print('\\n')"
   ]
  },
  {
   "cell_type": "code",
   "execution_count": 59,
   "metadata": {},
   "outputs": [
    {
     "ename": "LookupError",
     "evalue": "'base64' is not a text encoding; use codecs.encode() to handle arbitrary codecs",
     "output_type": "error",
     "traceback": [
      "\u001b[1;31m---------------------------------------------------------------------------\u001b[0m",
      "\u001b[1;31mLookupError\u001b[0m                               Traceback (most recent call last)",
      "\u001b[1;32m<ipython-input-59-b4459632a25b>\u001b[0m in \u001b[0;36m<module>\u001b[1;34m()\u001b[0m\n\u001b[1;32m----> 1\u001b[1;33m \u001b[0mprint\u001b[0m \u001b[1;33m(\u001b[0m\u001b[1;34m'your string'\u001b[0m\u001b[1;33m.\u001b[0m\u001b[0mencode\u001b[0m\u001b[1;33m(\u001b[0m\u001b[1;34m'base64'\u001b[0m\u001b[1;33m)\u001b[0m\u001b[1;33m)\u001b[0m\u001b[1;33m\u001b[0m\u001b[0m\n\u001b[0m",
      "\u001b[1;31mLookupError\u001b[0m: 'base64' is not a text encoding; use codecs.encode() to handle arbitrary codecs"
     ]
    }
   ],
   "source": [
    "print ('your string'.encode('base64'))\n",
    "\n"
   ]
  },
  {
   "cell_type": "code",
   "execution_count": 2,
   "metadata": {},
   "outputs": [
    {
     "ename": "ValueError",
     "evalue": "Length mismatch: Expected axis has 14 elements, new values have 4 elements",
     "output_type": "error",
     "traceback": [
      "\u001b[1;31m---------------------------------------------------------------------------\u001b[0m",
      "\u001b[1;31mValueError\u001b[0m                                Traceback (most recent call last)",
      "\u001b[1;32m<ipython-input-2-8cf8921a1d08>\u001b[0m in \u001b[0;36m<module>\u001b[1;34m()\u001b[0m\n\u001b[0;32m     16\u001b[0m \u001b[0mcolumn_list\u001b[0m \u001b[1;33m=\u001b[0m \u001b[0mtest_dictionary\u001b[0m\u001b[1;33m[\u001b[0m\u001b[1;34m'KEYS'\u001b[0m\u001b[1;33m]\u001b[0m\u001b[1;33m.\u001b[0m\u001b[0mkeys\u001b[0m\u001b[1;33m(\u001b[0m\u001b[1;33m)\u001b[0m\u001b[1;33m\u001b[0m\u001b[0m\n\u001b[0;32m     17\u001b[0m \u001b[0mdf\u001b[0m \u001b[1;33m=\u001b[0m \u001b[0mpd\u001b[0m\u001b[1;33m.\u001b[0m\u001b[0mDataFrame\u001b[0m\u001b[1;33m.\u001b[0m\u001b[0mfrom_dict\u001b[0m\u001b[1;33m(\u001b[0m\u001b[0mtest_dictionary\u001b[0m\u001b[1;33m)\u001b[0m\u001b[1;33m\u001b[0m\u001b[0m\n\u001b[1;32m---> 18\u001b[1;33m \u001b[0mdf\u001b[0m\u001b[1;33m.\u001b[0m\u001b[0mindex\u001b[0m \u001b[1;33m=\u001b[0m \u001b[0mcolumn_list\u001b[0m\u001b[1;33m\u001b[0m\u001b[0m\n\u001b[0m\u001b[0;32m     19\u001b[0m \u001b[0mdf\u001b[0m\u001b[1;33m.\u001b[0m\u001b[0mdrop\u001b[0m\u001b[1;33m(\u001b[0m\u001b[0mcolumns\u001b[0m\u001b[1;33m=\u001b[0m\u001b[1;33m[\u001b[0m\u001b[1;34m'KEYS'\u001b[0m\u001b[1;33m]\u001b[0m\u001b[1;33m)\u001b[0m\u001b[1;33m\u001b[0m\u001b[0m\n\u001b[0;32m     20\u001b[0m \u001b[0mprint\u001b[0m\u001b[1;33m(\u001b[0m\u001b[0mdf\u001b[0m\u001b[1;33m)\u001b[0m\u001b[1;33m\u001b[0m\u001b[0m\n",
      "\u001b[1;32m~\\AppData\\Local\\Continuum\\anaconda3\\lib\\site-packages\\pandas\\core\\generic.py\u001b[0m in \u001b[0;36m__setattr__\u001b[1;34m(self, name, value)\u001b[0m\n\u001b[0;32m   4383\u001b[0m         \u001b[1;32mtry\u001b[0m\u001b[1;33m:\u001b[0m\u001b[1;33m\u001b[0m\u001b[0m\n\u001b[0;32m   4384\u001b[0m             \u001b[0mobject\u001b[0m\u001b[1;33m.\u001b[0m\u001b[0m__getattribute__\u001b[0m\u001b[1;33m(\u001b[0m\u001b[0mself\u001b[0m\u001b[1;33m,\u001b[0m \u001b[0mname\u001b[0m\u001b[1;33m)\u001b[0m\u001b[1;33m\u001b[0m\u001b[0m\n\u001b[1;32m-> 4385\u001b[1;33m             \u001b[1;32mreturn\u001b[0m \u001b[0mobject\u001b[0m\u001b[1;33m.\u001b[0m\u001b[0m__setattr__\u001b[0m\u001b[1;33m(\u001b[0m\u001b[0mself\u001b[0m\u001b[1;33m,\u001b[0m \u001b[0mname\u001b[0m\u001b[1;33m,\u001b[0m \u001b[0mvalue\u001b[0m\u001b[1;33m)\u001b[0m\u001b[1;33m\u001b[0m\u001b[0m\n\u001b[0m\u001b[0;32m   4386\u001b[0m         \u001b[1;32mexcept\u001b[0m \u001b[0mAttributeError\u001b[0m\u001b[1;33m:\u001b[0m\u001b[1;33m\u001b[0m\u001b[0m\n\u001b[0;32m   4387\u001b[0m             \u001b[1;32mpass\u001b[0m\u001b[1;33m\u001b[0m\u001b[0m\n",
      "\u001b[1;32mpandas\\_libs\\properties.pyx\u001b[0m in \u001b[0;36mpandas._libs.properties.AxisProperty.__set__\u001b[1;34m()\u001b[0m\n",
      "\u001b[1;32m~\\AppData\\Local\\Continuum\\anaconda3\\lib\\site-packages\\pandas\\core\\generic.py\u001b[0m in \u001b[0;36m_set_axis\u001b[1;34m(self, axis, labels)\u001b[0m\n\u001b[0;32m    643\u001b[0m \u001b[1;33m\u001b[0m\u001b[0m\n\u001b[0;32m    644\u001b[0m     \u001b[1;32mdef\u001b[0m \u001b[0m_set_axis\u001b[0m\u001b[1;33m(\u001b[0m\u001b[0mself\u001b[0m\u001b[1;33m,\u001b[0m \u001b[0maxis\u001b[0m\u001b[1;33m,\u001b[0m \u001b[0mlabels\u001b[0m\u001b[1;33m)\u001b[0m\u001b[1;33m:\u001b[0m\u001b[1;33m\u001b[0m\u001b[0m\n\u001b[1;32m--> 645\u001b[1;33m         \u001b[0mself\u001b[0m\u001b[1;33m.\u001b[0m\u001b[0m_data\u001b[0m\u001b[1;33m.\u001b[0m\u001b[0mset_axis\u001b[0m\u001b[1;33m(\u001b[0m\u001b[0maxis\u001b[0m\u001b[1;33m,\u001b[0m \u001b[0mlabels\u001b[0m\u001b[1;33m)\u001b[0m\u001b[1;33m\u001b[0m\u001b[0m\n\u001b[0m\u001b[0;32m    646\u001b[0m         \u001b[0mself\u001b[0m\u001b[1;33m.\u001b[0m\u001b[0m_clear_item_cache\u001b[0m\u001b[1;33m(\u001b[0m\u001b[1;33m)\u001b[0m\u001b[1;33m\u001b[0m\u001b[0m\n\u001b[0;32m    647\u001b[0m \u001b[1;33m\u001b[0m\u001b[0m\n",
      "\u001b[1;32m~\\AppData\\Local\\Continuum\\anaconda3\\lib\\site-packages\\pandas\\core\\internals.py\u001b[0m in \u001b[0;36mset_axis\u001b[1;34m(self, axis, new_labels)\u001b[0m\n\u001b[0;32m   3321\u001b[0m             raise ValueError(\n\u001b[0;32m   3322\u001b[0m                 \u001b[1;34m'Length mismatch: Expected axis has {old} elements, new '\u001b[0m\u001b[1;33m\u001b[0m\u001b[0m\n\u001b[1;32m-> 3323\u001b[1;33m                 'values have {new} elements'.format(old=old_len, new=new_len))\n\u001b[0m\u001b[0;32m   3324\u001b[0m \u001b[1;33m\u001b[0m\u001b[0m\n\u001b[0;32m   3325\u001b[0m         \u001b[0mself\u001b[0m\u001b[1;33m.\u001b[0m\u001b[0maxes\u001b[0m\u001b[1;33m[\u001b[0m\u001b[0maxis\u001b[0m\u001b[1;33m]\u001b[0m \u001b[1;33m=\u001b[0m \u001b[0mnew_labels\u001b[0m\u001b[1;33m\u001b[0m\u001b[0m\n",
      "\u001b[1;31mValueError\u001b[0m: Length mismatch: Expected axis has 14 elements, new values have 4 elements"
     ]
    }
   ],
   "source": [
    "import pandas as pd\n",
    "data = {'KEYS': {'CUSTOMER_ID': 'CUSTOMER_ID', 'DATE': 'DATE', 'FUTURE_DATE': 'FUTURE_DATE', 'CONTRACT_DATE': 'CONTRACT_DATE'}, 'ITR1': {'CUSTOMER_ID': '', 'DATE': '[today,date,1,d]', 'FUTURE_DATE': '', 'CONTRACT_DATE': ''}, 'ITR2': {'CUSTOMER_ID': 'ITR1', 'DATE': 'ITR1', 'FUTURE_DATE': '[today,date,1,y]', 'CONTRACT_DATE': ''}, 'ITR3': {'CUSTOMER_ID': 'ITR1', 'DATE': 'ITR2', 'FUTURE_DATE': '', 'CONTRACT_DATE': '[%DATE%,datetime,1,y]'}}\n",
    "#test_dictionary =\t{'KEYS': {'CUSTOMER_ID': 'CUSTOMER_ID', 'DATE': 'DATE', 'FUTURE_DATE': 'FUTURE_DATE', 'CONTRACT_DATE': 'CONTRACT_DATE'}, 'ITR1': {'CUSTOMER_ID': '', 'DATE': '2019-01-01', 'FUTURE_DATE': '', 'CONTRACT_DATE': '', 'DATASET': 'SET1', 'CUST_SSN': '198612225766', 'CUST_FIRST_NAME': 'ATCust', 'CUST_LAST_NAME': '198612225766', 'CUST_FULL_NAME': 'ATCust 198612225766', 'CUST_TYPE': 'personal', 'CUST_STREET_NAME': 'Test str.', 'CUST_STREET_ADDRESS': '1', 'CUST_POSTAL_CODE': '10005', 'TODAY': '$today$'}, 'ITR2': {'CUSTOMER_ID': 'ITR1', 'DATE': 'ITR1', 'FUTURE_DATE': '[today,date,1,y]', 'CONTRACT_DATE': ''}, 'ITR3': {'CUSTOMER_ID': 'ITR1', 'DATE': 'ITR2', 'FUTURE_DATE': '', 'CONTRACT_DATE': '[%DATE%,datetime,1,y]'}}\n",
    "#gobal_dictionary = {'DATASET': 'SET1', 'CUST_SSN': '198612225741', 'CUST_FIRST_NAME': 'ATCust', 'CUST_LAST_NAME': '198612225741', 'CUST_FULL_NAME': 'ATCust 198612225741', 'CUST_TYPE': 'personal', 'CUST_STREET_NAME': 'Test str.', 'CUST_STREET_ADDRESS': '1', 'CUST_POSTAL_CODE': '10005', 'TODAY': '$today$'}\n",
    "\n",
    "\n",
    "for iteration in list(test_dictionary.keys()):\n",
    "    for key in list(test_dictionary[iteration].keys()):\n",
    "        if key in list(gobal_dictionary.keys()):\n",
    "            pass\n",
    "        else:\n",
    "            test_dictionary[iteration][key] = ''\n",
    "\n",
    "\n",
    "\n",
    "column_list = test_dictionary['KEYS'].keys()\n",
    "df = pd.DataFrame.from_dict(test_dictionary)\n",
    "df.index = column_list\n",
    "df.drop(columns=['KEYS'])\n",
    "print(df)\n",
    "columns_header = list (test_dictionary.keys())\n",
    "columns_header.remove('KEYS')\n",
    "print(columns_header)\n",
    "df.to_csv(path_or_buf='Data.csv',sep='|',index=True, columns = columns_header )\n",
    "\n",
    "\n"
   ]
  },
  {
   "cell_type": "code",
   "execution_count": 12,
   "metadata": {},
   "outputs": [
    {
     "name": "stdout",
     "output_type": "stream",
     "text": [
      "                  KEYS        INT        PF   PREPROD\n",
      "0              DATASET       SET1                    \n",
      "1      CUST_FIRST_NAME     ATCust    ATCust    ATCust\n",
      "2       CUST_LAST_NAME      _SSN_     _SSN_     _SSN_\n",
      "3             CUST_SSN      _SSN_     _SSN_     _SSN_\n",
      "4            CUST_TYPE   personal  personal  personal\n",
      "5     CUST_STREET_NAME  Test str.                    \n",
      "6  CUST_STREET_ADDRESS          1                    \n",
      "7     CUST_POSTAL_CODE      10005                    \n",
      "                                    KEYS        INT        PF   PREPROD\n",
      "DATASET                          DATASET       SET1                    \n",
      "CUST_FIRST_NAME          CUST_FIRST_NAME     ATCust    ATCust    ATCust\n",
      "CUST_LAST_NAME            CUST_LAST_NAME      _SSN_     _SSN_     _SSN_\n",
      "CUST_SSN                        CUST_SSN      _SSN_     _SSN_     _SSN_\n",
      "CUST_TYPE                      CUST_TYPE   personal  personal  personal\n",
      "CUST_STREET_NAME        CUST_STREET_NAME  Test str.                    \n",
      "CUST_STREET_ADDRESS  CUST_STREET_ADDRESS          1                    \n",
      "CUST_POSTAL_CODE        CUST_POSTAL_CODE      10005                    \n"
     ]
    }
   ],
   "source": [
    "    df = pd.read_csv(\"GlobalData.csv\", delimiter='|', keep_default_na=False)\n",
    "    print(df)\n",
    "    column_list = df[\"KEYS\"].tolist()\n",
    "    df.index = column_list\n",
    "    print(df)\n"
   ]
  },
  {
   "cell_type": "code",
   "execution_count": 56,
   "metadata": {},
   "outputs": [
    {
     "name": "stdout",
     "output_type": "stream",
     "text": [
      "{'KEYS': {'CUSTOMER_ID': 'CUSTOMER_ID', 'DATE': 'DATE', 'FUTURE_DATE': 'FUTURE_DATE', 'CONTRACT_DATE': 'CONTRACT_DATE', 'DATASET': 'DATASET', 'CUST_SSN': 'CUST_SSN', 'CUST_FIRST_NAME': 'CUST_FIRST_NAME', 'CUST_LAST_NAME': 'CUST_LAST_NAME', 'CUST_FULL_NAME': 'CUST_FULL_NAME', 'CUST_TYPE': 'CUST_TYPE', 'CUST_STREET_NAME': 'CUST_STREET_NAME', 'CUST_STREET_ADDRESS': 'CUST_STREET_ADDRESS', 'CUST_POSTAL_CODE': 'CUST_POSTAL_CODE', 'TODAY': 'TODAY'}, 'ITR1': {'CUSTOMER_ID': '', 'DATE': '2019-01-01', 'FUTURE_DATE': '', 'CONTRACT_DATE': '', 'DATASET': 'SET1', 'CUST_SSN': '198612225766', 'CUST_FIRST_NAME': 'ATCust', 'CUST_LAST_NAME': '198612225766', 'CUST_FULL_NAME': 'ATCust 198612225766', 'CUST_TYPE': 'personal', 'CUST_STREET_NAME': 'Test str.', 'CUST_STREET_ADDRESS': '1', 'CUST_POSTAL_CODE': '10005', 'TODAY': '$today$'}, 'ITR2': {'CUSTOMER_ID': 'ITR1', 'DATE': 'ITR1', 'FUTURE_DATE': '[today,date,1,y]', 'CONTRACT_DATE': '', 'DATASET': '', 'CUST_SSN': '', 'CUST_FIRST_NAME': '', 'CUST_LAST_NAME': '', 'CUST_FULL_NAME': '', 'CUST_TYPE': '', 'CUST_STREET_NAME': '', 'CUST_STREET_ADDRESS': '', 'CUST_POSTAL_CODE': '', 'TODAY': ''}, 'ITR3': {'CUSTOMER_ID': 'ITR1', 'DATE': 'ITR2', 'FUTURE_DATE': '', 'CONTRACT_DATE': '[%DATE%,datetime,1,y]', 'DATASET': '', 'CUST_SSN': '', 'CUST_FIRST_NAME': '', 'CUST_LAST_NAME': '', 'CUST_FULL_NAME': '', 'CUST_TYPE': '', 'CUST_STREET_NAME': '', 'CUST_STREET_ADDRESS': '', 'CUST_POSTAL_CODE': '', 'TODAY': ''}}\n"
     ]
    }
   ],
   "source": [
    "test_dictionary =\t{'KEYS': {'CUSTOMER_ID': 'CUSTOMER_ID', 'DATE': 'DATE', 'FUTURE_DATE': 'FUTURE_DATE', 'CONTRACT_DATE': 'CONTRACT_DATE'}, 'ITR1': {'CUSTOMER_ID': '', 'DATE': '2019-01-01', 'FUTURE_DATE': '', 'CONTRACT_DATE': '', 'DATASET': 'SET1', 'CUST_SSN': '198612225766', 'CUST_FIRST_NAME': 'ATCust', 'CUST_LAST_NAME': '198612225766', 'CUST_FULL_NAME': 'ATCust 198612225766', 'CUST_TYPE': 'personal', 'CUST_STREET_NAME': 'Test str.', 'CUST_STREET_ADDRESS': '1', 'CUST_POSTAL_CODE': '10005', 'TODAY': '$today$'}, 'ITR2': {'CUSTOMER_ID': 'ITR1', 'DATE': 'ITR1', 'FUTURE_DATE': '[today,date,1,y]', 'CONTRACT_DATE': ''}, 'ITR3': {'CUSTOMER_ID': 'ITR1', 'DATE': 'ITR2', 'FUTURE_DATE': '', 'CONTRACT_DATE': '[%DATE%,datetime,1,y]'}}\n",
    "gobal_dictionary = {'DATASET': 'SET1', 'CUST_SSN': '198612225741', 'CUST_FIRST_NAME': 'ATCust', 'CUST_LAST_NAME': '198612225741', 'CUST_FULL_NAME': 'ATCust 198612225741', 'CUST_TYPE': 'personal', 'CUST_STREET_NAME': 'Test str.', 'CUST_STREET_ADDRESS': '1', 'CUST_POSTAL_CODE': '10005', 'TODAY': '$today$'}\n",
    "\n",
    "\n",
    "for iteration in list(test_dictionary.keys()):\n",
    "    for key in list(gobal_dictionary.keys()):\n",
    "        if key in list(test_dictionary[iteration].keys()):\n",
    "            pass\n",
    "        else:\n",
    "            if iteration == 'KEYS':\n",
    "                test_dictionary[iteration][key] = key\n",
    "            else:\n",
    "                test_dictionary[iteration][key] = ''\n",
    "print(test_dictionary)"
   ]
  },
  {
   "cell_type": "code",
   "execution_count": 7,
   "metadata": {},
   "outputs": [
    {
     "name": "stdout",
     "output_type": "stream",
     "text": [
      "ADB\n",
      "ITR\n",
      "ITR\n",
      "IT3\n",
      "ITR\n"
     ]
    }
   ],
   "source": [
    "gobal_dictionary = {'DATASET': 'ITR', 'CUST_SSN': '198612225741', 'CUST_FIRST_NAME': 'ATCust', 'CUST_LAST_NAME': '198612225741', 'CUST_FULL_NAME': 'ATCust 198612225741', 'CUST_TYPE': 'personal', 'CUST_STREET_NAME': 'Test str.', 'CUST_STREET_ADDRESS': '1', 'CUST_POSTAL_CODE': '10005', 'TODAY': '$today$'}\n",
    "\n",
    "\n",
    "values = ['adb  ','itr1  ','  itr4','it3r','ITR6'] \n",
    "for i, item in enumerate(values):\n",
    "    values[i] = item.strip()\n",
    "    print(values[i][0:3].upper())\n",
    "    if item[0:3].upper() == \"ITR\":\n",
    "        values[i] = \"data_dictionary[values[i]][key]\"\n",
    "    else:\n",
    "        pass"
   ]
  },
  {
   "cell_type": "code",
   "execution_count": 22,
   "metadata": {},
   "outputs": [
    {
     "name": "stdout",
     "output_type": "stream",
     "text": [
      "dict_keys(['CUSTOMER_ID', 'DATASET', 'CUST_SSN', 'CUST_FIRST_NAME', 'CUST_LAST_NAME', 'CUST_FULL_NAME', 'CUST_TYPE', 'CUST_STREET_NAME', 'CUST_STREET_NUMBER', 'CUST_FLAT_NUMBER', 'CUST_FLOOR_NUMBER', 'CUST_POSTAL_CODE', 'CUST_COUNTRY', 'CUST_EMAIL', 'CUST_PHONE', 'TODAY', 'A', 'B'])\n",
      "                                  KEYS                    ITR1  ITR2  ITR3\n",
      "CUSTOMER_ID                          A              value of B            \n",
      "DATASET                              B              value of B            \n",
      "CUST_SSN                   CUSTOMER_ID                          ITR1  ITR1\n",
      "CUST_FIRST_NAME           CUST_COUNTRY                 SVERIGE            \n",
      "CUST_LAST_NAME              CUST_EMAIL  niket.shinde@tieto.com            \n",
      "CUST_FULL_NAME         CUST_FIRST_NAME                  ATCust            \n",
      "CUST_TYPE             CUST_FLAT_NUMBER                       4            \n",
      "CUST_STREET_NAME     CUST_FLOOR_NUMBER                                    \n",
      "CUST_STREET_NUMBER      CUST_FULL_NAME     ATCust 198612224942            \n",
      "CUST_FLAT_NUMBER        CUST_LAST_NAME            198612224942            \n",
      "CUST_FLOOR_NUMBER           CUST_PHONE                12345778            \n",
      "CUST_POSTAL_CODE      CUST_POSTAL_CODE                   10005            \n",
      "CUST_COUNTRY                  CUST_SSN            198612224942            \n",
      "CUST_EMAIL            CUST_STREET_NAME               Test str.            \n",
      "CUST_PHONE          CUST_STREET_NUMBER                       1            \n",
      "TODAY                        CUST_TYPE                personal            \n",
      "A                              DATASET                    SET1            \n",
      "B                                TODAY              2019-01-09            \n",
      "['KEYS', 'ITR1', 'ITR2', 'ITR3']\n"
     ]
    }
   ],
   "source": [
    "import pandas as pd\n",
    "dictdata = {'KEYS': {'CUSTOMER_ID': 'CUSTOMER_ID', 'DATASET': 'DATASET', 'CUST_SSN': 'CUST_SSN', 'CUST_FIRST_NAME': 'CUST_FIRST_NAME', 'CUST_LAST_NAME': 'CUST_LAST_NAME', 'CUST_FULL_NAME': 'CUST_FULL_NAME', 'CUST_TYPE': 'CUST_TYPE', 'CUST_STREET_NAME': 'CUST_STREET_NAME', 'CUST_STREET_NUMBER': 'CUST_STREET_NUMBER', 'CUST_FLAT_NUMBER': 'CUST_FLAT_NUMBER', 'CUST_FLOOR_NUMBER': 'CUST_FLOOR_NUMBER', 'CUST_POSTAL_CODE': 'CUST_POSTAL_CODE', 'CUST_COUNTRY': 'CUST_COUNTRY', 'CUST_EMAIL': 'CUST_EMAIL', 'CUST_PHONE': 'CUST_PHONE', 'TODAY': 'TODAY', 'A': 'A', 'B': 'B'}, 'ITR1': {'CUSTOMER_ID': '', 'DATASET': 'SET1', 'CUST_SSN': '198612224942', 'CUST_FIRST_NAME': 'ATCust', 'CUST_LAST_NAME': '198612224942', 'CUST_FULL_NAME': 'ATCust 198612224942', 'CUST_TYPE': 'personal', 'CUST_STREET_NAME': 'Test str.', 'CUST_STREET_NUMBER': '1', 'CUST_FLAT_NUMBER': '4', 'CUST_FLOOR_NUMBER': '', 'CUST_POSTAL_CODE': '10005', 'CUST_COUNTRY': 'SVERIGE', 'CUST_EMAIL': 'niket.shinde@tieto.com', 'CUST_PHONE': '12345778', 'TODAY': '2019-01-09', 'A': 'value of B', 'B': 'value of B'}, 'ITR2': {'CUSTOMER_ID': 'ITR1', 'DATASET': '', 'CUST_SSN': '', 'CUST_FIRST_NAME': '', 'CUST_LAST_NAME': '', 'CUST_FULL_NAME': '', 'CUST_TYPE': '', 'CUST_STREET_NAME': '', 'CUST_STREET_NUMBER': '', 'CUST_FLAT_NUMBER': '', 'CUST_FLOOR_NUMBER': '', 'CUST_POSTAL_CODE': '', 'CUST_COUNTRY': '', 'CUST_EMAIL': '', 'CUST_PHONE': '', 'TODAY': '', 'A': '', 'B': ''}, 'ITR3': {'CUSTOMER_ID': 'ITR1', 'DATASET': '', 'CUST_SSN': '', 'CUST_FIRST_NAME': '', 'CUST_LAST_NAME': '', 'CUST_FULL_NAME': '', 'CUST_TYPE': '', 'CUST_STREET_NAME': '', 'CUST_STREET_NUMBER': '', 'CUST_FLAT_NUMBER': '', 'CUST_FLOOR_NUMBER': '', 'CUST_POSTAL_CODE': '', 'CUST_COUNTRY': '', 'CUST_EMAIL': '', 'CUST_PHONE': '', 'TODAY': '', 'A': '', 'B': ''}}\n",
    "#test_dictionary =\t{'KEYS': {'CUSTOMER_ID': 'CUSTOMER_ID', 'DATE': 'DATE', 'FUTURE_DATE': 'FUTURE_DATE', 'CONTRACT_DATE': 'CONTRACT_DATE'}, 'ITR1': {'CUSTOMER_ID': '', 'DATE': '2019-01-01', 'FUTURE_DATE': '', 'CONTRACT_DATE': '', 'DATASET': 'SET1', 'CUST_SSN': '198612225766', 'CUST_FIRST_NAME': 'ATCust', 'CUST_LAST_NAME': '198612225766', 'CUST_FULL_NAME': 'ATCust 198612225766', 'CUST_TYPE': 'personal', 'CUST_STREET_NAME': 'Test str.', 'CUST_STREET_ADDRESS': '1', 'CUST_POSTAL_CODE': '10005', 'TODAY': '$today$'}, 'ITR2': {'CUSTOMER_ID': 'ITR1', 'DATE': 'ITR1', 'FUTURE_DATE': '[today,date,1,y]', 'CONTRACT_DATE': ''}, 'ITR3': {'CUSTOMER_ID': 'ITR1', 'DATE': 'ITR2', 'FUTURE_DATE': '', 'CONTRACT_DATE': '[%DATE%,datetime,1,y]'}}\n",
    "#gobal_dictionary = {'DATASET': 'SET1', 'CUST_SSN': '198612225741', 'CUST_FIRST_NAME': 'ATCust', 'CUST_LAST_NAME': '198612225741', 'CUST_FULL_NAME': 'ATCust 198612225741', 'CUST_TYPE': 'personal', 'CUST_STREET_NAME': 'Test str.', 'CUST_STREET_ADDRESS': '1', 'CUST_POSTAL_CODE': '10005', 'TODAY': '$today$'}\n",
    "\n",
    "file_path= 'GlobalData'\n",
    "csv_file_delimiter =\"|\"\n",
    "    \n",
    "column_list = dictdata['KEYS'].keys()\n",
    "#print (dictdata.pop('KEYS'))\n",
    "df = pd.DataFrame.from_dict(dictdata,orient='columns')\n",
    "print(column_list)\n",
    "df.index = column_list\n",
    "#df.drop(columns=['KEYS'])\n",
    "print(df)\n",
    "columns_header = list(dictdata.keys())\n",
    "#columns_header.remove('KEYS')\n",
    "print(columns_header)\n",
    "df.to_csv(path_or_buf=file_path+'.csv', sep=csv_file_delimiter, index=False, columns=columns_header, index_label=None)\n"
   ]
  },
  {
   "cell_type": "code",
   "execution_count": null,
   "metadata": {},
   "outputs": [],
   "source": []
  }
 ],
 "metadata": {
  "kernelspec": {
   "display_name": "Python 3",
   "language": "python",
   "name": "python3"
  },
  "language_info": {
   "codemirror_mode": {
    "name": "ipython",
    "version": 3
   },
   "file_extension": ".py",
   "mimetype": "text/x-python",
   "name": "python",
   "nbconvert_exporter": "python",
   "pygments_lexer": "ipython3",
   "version": "3.6.5"
  }
 },
 "nbformat": 4,
 "nbformat_minor": 2
}
