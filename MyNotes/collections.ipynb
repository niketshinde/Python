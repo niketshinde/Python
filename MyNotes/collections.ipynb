{
 "cells": [
  {
   "cell_type": "raw",
   "metadata": {},
   "source": [
    "This module implements specialized container datatypes providing alternatives to Python’s general purpose built-in containers, dict, list, set, and tuple.\n",
    "\n",
    "namedtuple()\t\n",
    "deque\t\n",
    "ChainMap\t\n",
    "Counter\tdict \n",
    "OrderedDict\t\n",
    "defaultdict\t\n",
    "UserDict\t\n",
    "UserList\t\n",
    "UserString\t"
   ]
  },
  {
   "cell_type": "markdown",
   "metadata": {},
   "source": [
    "In python by default, it is not able to provide abstract classes, but python comes up with a module which provides the base for defining Abstract Base classes(ABC) and that module name is ABC. ABC works by marking methods of the base class as abstract and then registering concrete classes as implementations of the abstract base. A method becomes an abstract by decorated it with a keyword @abstractmethod. For Example –"
   ]
  },
  {
   "cell_type": "code",
   "execution_count": 12,
   "metadata": {},
   "outputs": [
    {
     "name": "stdout",
     "output_type": "stream",
     "text": [
      "I have 3 sides\n",
      "I have 4 sides\n",
      "I have 5 sides\n",
      "I have 6 sides\n",
      "No Abstract method\n"
     ]
    }
   ],
   "source": [
    "# Python program showing \n",
    "# abstract base class work \n",
    "  \n",
    "from abc import ABC, abstractmethod \n",
    "  \n",
    "class Polygon(ABC): \n",
    "  \n",
    "    # abstract method \n",
    "    def noofsides(self): \n",
    "        pass\n",
    "  \n",
    "class Triangle(Polygon): \n",
    "  \n",
    "    # overriding abstract method \n",
    "    def noofsides(self): \n",
    "        print(\"I have 3 sides\") \n",
    "  \n",
    "class Pentagon(Polygon): \n",
    "  \n",
    "    # overriding abstract method \n",
    "    def noofsides(self): \n",
    "        print(\"I have 5 sides\") \n",
    "  \n",
    "class Hexagon(Polygon): \n",
    "  \n",
    "    # overriding abstract method \n",
    "    def noofsides(self): \n",
    "        print(\"I have 6 sides\") \n",
    "  \n",
    "class Quadrilateral(Polygon): \n",
    "  \n",
    "    # overriding abstract method \n",
    "    def noofsides(self): \n",
    "        print(\"I have 4 sides\") \n",
    "        \n",
    "class test(Polygon):\n",
    "    def tester(self): \n",
    "        print(\"No Abstract method\") \n",
    "        \n",
    "  \n",
    "# Driver code \n",
    "R = Triangle() \n",
    "R.noofsides() \n",
    "  \n",
    "K = Quadrilateral() \n",
    "K.noofsides() \n",
    "  \n",
    "R = Pentagon() \n",
    "R.noofsides() \n",
    "  \n",
    "K = Hexagon() \n",
    "K.noofsides() \n",
    "\n",
    "t = test() \n",
    "t.tester() \n",
    "t.noofsides()"
   ]
  },
  {
   "cell_type": "code",
   "execution_count": 22,
   "metadata": {},
   "outputs": [],
   "source": [
    "p = Polygon()\n",
    "p.noofsides()"
   ]
  },
  {
   "cell_type": "markdown",
   "metadata": {},
   "source": [
    "#### Implementation Through Subclassing :"
   ]
  },
  {
   "cell_type": "code",
   "execution_count": 13,
   "metadata": {},
   "outputs": [
    {
     "name": "stdout",
     "output_type": "stream",
     "text": [
      "True\n",
      "True\n"
     ]
    }
   ],
   "source": [
    "# Python program showing \n",
    "# implementation of abstract \n",
    "# class through subclassing \n",
    "  \n",
    "import abc \n",
    "  \n",
    "class parent:        \n",
    "    def geeks(self): \n",
    "        pass\n",
    "  \n",
    "class child(parent): \n",
    "    def geeks(self): \n",
    "        print(\"child class\") \n",
    "  \n",
    "# Driver code \n",
    "print( issubclass(child, parent)) \n",
    "print( isinstance(child(), parent)) "
   ]
  },
  {
   "cell_type": "markdown",
   "metadata": {},
   "source": [
    "#### Concrete Methods in Abstract Base Classes :"
   ]
  },
  {
   "cell_type": "code",
   "execution_count": 14,
   "metadata": {},
   "outputs": [
    {
     "name": "stdout",
     "output_type": "stream",
     "text": [
      "Abstract Base Class\n",
      "subclass \n"
     ]
    }
   ],
   "source": [
    "# Python program invoking a  \n",
    "# method using super() \n",
    "  \n",
    "import abc \n",
    "from abc import ABC, abstractmethod \n",
    "  \n",
    "class R(ABC): \n",
    "    def rk(self): \n",
    "        print(\"Abstract Base Class\") \n",
    "  \n",
    "class K(R): \n",
    "    def rk(self): \n",
    "        super().rk() \n",
    "        print(\"subclass \") \n",
    "  \n",
    "# Driver code \n",
    "r = K() \n",
    "r.rk() "
   ]
  },
  {
   "cell_type": "markdown",
   "metadata": {},
   "source": [
    "In the above program, we can invoke the methods in abstract classes by using super()."
   ]
  },
  {
   "cell_type": "markdown",
   "metadata": {},
   "source": [
    "Abstract Properties :\n",
    "Abstract classes includes attributes in addition to methods, you can require the attributes in concrete classes by defining them with @abstractproperty."
   ]
  },
  {
   "cell_type": "code",
   "execution_count": 19,
   "metadata": {},
   "outputs": [
    {
     "name": "stdout",
     "output_type": "stream",
     "text": [
      "Can't instantiate abstract class parent with abstract methods geeks\n",
      "child class\n"
     ]
    }
   ],
   "source": [
    "# Python program showing \n",
    "# abstract properties \n",
    "  \n",
    "import abc \n",
    "from abc import ABC, abstractmethod \n",
    "  \n",
    "class parent(ABC): \n",
    "    @abc.abstractproperty \n",
    "    def geeks(self): \n",
    "        return \"parent class\"\n",
    "class child(parent): \n",
    "       \n",
    "    @property\n",
    "    def geeks(self): \n",
    "        return \"child class\"\n",
    "   \n",
    "   \n",
    "try: \n",
    "    r =parent() \n",
    "    print( r.geeks) \n",
    "except Exception as err: \n",
    "    print (err) \n",
    "   \n",
    "r = child() \n",
    "print (r.geeks) "
   ]
  },
  {
   "cell_type": "markdown",
   "metadata": {},
   "source": [
    "In the above example, the Base class cannot be instantiated because it has only an abstract version of the property getter method."
   ]
  },
  {
   "cell_type": "code",
   "execution_count": 23,
   "metadata": {},
   "outputs": [
    {
     "ename": "TypeError",
     "evalue": "Can't instantiate abstract class Animal with abstract methods move",
     "output_type": "error",
     "traceback": [
      "\u001b[1;31m---------------------------------------------------------------------------\u001b[0m",
      "\u001b[1;31mTypeError\u001b[0m                                 Traceback (most recent call last)",
      "\u001b[1;32m<ipython-input-23-43255c5258ea>\u001b[0m in \u001b[0;36m<module>\u001b[1;34m()\u001b[0m\n\u001b[0;32m     24\u001b[0m         \u001b[0mprint\u001b[0m\u001b[1;33m(\u001b[0m\u001b[1;34m\"I can roar\"\u001b[0m\u001b[1;33m)\u001b[0m\u001b[1;33m\u001b[0m\u001b[0m\n\u001b[0;32m     25\u001b[0m \u001b[1;33m\u001b[0m\u001b[0m\n\u001b[1;32m---> 26\u001b[1;33m \u001b[0mc\u001b[0m\u001b[1;33m=\u001b[0m\u001b[0mAnimal\u001b[0m\u001b[1;33m(\u001b[0m\u001b[1;33m)\u001b[0m\u001b[1;33m\u001b[0m\u001b[0m\n\u001b[0m",
      "\u001b[1;31mTypeError\u001b[0m: Can't instantiate abstract class Animal with abstract methods move"
     ]
    }
   ],
   "source": [
    "# Python program showing \n",
    "# abstract class cannot \n",
    "# be an instantiation \n",
    "from abc import ABC,abstractmethod \n",
    "  \n",
    "class Animal(ABC): \n",
    "    @abstractmethod\n",
    "    def move(self): \n",
    "        pass\n",
    "class Human(Animal): \n",
    "    def move(self): \n",
    "        print(\"I can walk and run\") \n",
    "  \n",
    "class Snake(Animal): \n",
    "    def move(self): \n",
    "        print(\"I can crawl\") \n",
    "  \n",
    "class Dog(Animal): \n",
    "    def move(self): \n",
    "        print(\"I can bark\") \n",
    "  \n",
    "class Lion(Animal): \n",
    "    def move(self): \n",
    "        print(\"I can roar\") \n",
    "  \n",
    "c=Animal() "
   ]
  },
  {
   "cell_type": "markdown",
   "metadata": {},
   "source": [
    "### ChainMap in Python\n",
    "Python also contains a container called “ChainMap” which encapsulates many dictionaries into one unit. ChainMap is member of module “collections“.\n",
    "\n",
    "Operations on ChainMap\n",
    "\n",
    "Access Operations\n",
    "1. keys() :- This function is used to display all the keys of all the dictionaries in ChainMap.\n",
    "\n",
    "2. values() :- This function is used to display values of all the dictionaries in ChainMap.\n",
    "\n",
    "3. maps :- This function is used to display keys with corresponding values of all the dictionaries in ChainMap."
   ]
  },
  {
   "cell_type": "raw",
   "metadata": {},
   "source": [
    "chain.maps\n",
    "chain.keys()\n",
    "chain.values()\n",
    "c = chain.copy()\n",
    "chain.fromkeys({'1':1,'2':2}))\n",
    "chain.get('b')\n",
    "chain.items()\n",
    "chain.pop('b')\n",
    "chain.parents)\n",
    "chain.setdefault('f')\n",
    "chain.update({'f':5,'h':9}))\n",
    "chain1 = chain.new_child({'r':0})\n"
   ]
  },
  {
   "cell_type": "code",
   "execution_count": 28,
   "metadata": {},
   "outputs": [],
   "source": [
    "# importing collections for ChainMap operations \n",
    "import collections "
   ]
  },
  {
   "cell_type": "code",
   "execution_count": 27,
   "metadata": {},
   "outputs": [
    {
     "name": "stdout",
     "output_type": "stream",
     "text": [
      "All the ChainMap contents are : \n",
      "[{'a': 1, 'b': 2}, {'b': 3, 'c': 4}]\n"
     ]
    }
   ],
   "source": [
    "  \n",
    "# initializing dictionaries \n",
    "dic1 = { 'a' : 1, 'b' : 2 } \n",
    "dic2 = { 'b' : 3, 'c' : 4 } \n",
    "  \n",
    "# initializing ChainMap \n",
    "chain = collections.ChainMap(dic1, dic2) \n",
    "\n",
    "# printing chainMap using maps \n",
    "print (\"All the ChainMap contents are : \") \n",
    "print (chain.maps) "
   ]
  },
  {
   "cell_type": "code",
   "execution_count": 29,
   "metadata": {
    "scrolled": true
   },
   "outputs": [
    {
     "name": "stdout",
     "output_type": "stream",
     "text": [
      "All keys of ChainMap are : \n",
      "['b', 'c', 'a']\n"
     ]
    }
   ],
   "source": [
    "# printing keys using keys() \n",
    "print (\"All keys of ChainMap are : \") \n",
    "print (list(chain.keys())) "
   ]
  },
  {
   "cell_type": "code",
   "execution_count": 30,
   "metadata": {
    "scrolled": true
   },
   "outputs": [
    {
     "name": "stdout",
     "output_type": "stream",
     "text": [
      "All values of ChainMap are : \n",
      "[2, 4, 1]\n"
     ]
    }
   ],
   "source": [
    "# printing keys using keys() \n",
    "print (\"All values of ChainMap are : \") \n",
    "print (list(chain.values())) "
   ]
  },
  {
   "cell_type": "code",
   "execution_count": 31,
   "metadata": {
    "scrolled": true
   },
   "outputs": [
    {
     "name": "stdout",
     "output_type": "stream",
     "text": [
      "[{'a': 1, 'b': 2}, {'b': 3, 'c': 4}]\n"
     ]
    }
   ],
   "source": [
    "c = chain.copy()\n",
    "print(c.maps)"
   ]
  },
  {
   "cell_type": "code",
   "execution_count": 32,
   "metadata": {
    "scrolled": true
   },
   "outputs": [
    {
     "name": "stdout",
     "output_type": "stream",
     "text": [
      "ChainMap({'1': None, '2': None})\n",
      "2\n"
     ]
    }
   ],
   "source": [
    "print(chain.fromkeys({'1':1,'2':2}))\n",
    "print(chain.get('b'))"
   ]
  },
  {
   "cell_type": "code",
   "execution_count": 33,
   "metadata": {
    "scrolled": true
   },
   "outputs": [
    {
     "name": "stdout",
     "output_type": "stream",
     "text": [
      "ItemsView(ChainMap({'a': 1, 'b': 2}, {'b': 3, 'c': 4}))\n"
     ]
    }
   ],
   "source": [
    "print(chain.items())"
   ]
  },
  {
   "cell_type": "code",
   "execution_count": 34,
   "metadata": {},
   "outputs": [
    {
     "name": "stdout",
     "output_type": "stream",
     "text": [
      "2\n",
      "[{'a': 1}, {'b': 3, 'c': 4}]\n"
     ]
    }
   ],
   "source": [
    "\n",
    "print(chain.pop('b'))\n",
    "print (chain.maps) "
   ]
  },
  {
   "cell_type": "code",
   "execution_count": 1,
   "metadata": {
    "scrolled": true
   },
   "outputs": [
    {
     "name": "stdout",
     "output_type": "stream",
     "text": [
      "All the ChainMap contents are : \n",
      "[{'a': 1, 'b': 2}, {'b': 3, 'c': 4}]\n",
      "All keys of ChainMap are : \n",
      "['b', 'c', 'a']\n",
      "All values of ChainMap are : \n",
      "[2, 4, 1]\n",
      "[{'a': 1, 'b': 2}, {'b': 3, 'c': 4}]\n",
      "ChainMap({'1': None, '2': None})\n",
      "2\n",
      "ItemsView(ChainMap({'a': 1, 'b': 2}, {'b': 3, 'c': 4}))\n",
      "2\n",
      "[{'a': 1}, {'b': 3, 'c': 4}]\n",
      "ChainMap({'b': 3, 'c': 4})\n",
      "None\n",
      "4\n",
      "[{'a': 1, 'f': None, 'g': 4}, {'b': 3, 'c': 4}]\n",
      "None\n",
      "[{'a': 1, 'f': 5, 'g': 4, 'h': 9}, {'b': 3, 'c': 4}]\n",
      "ValuesView(ChainMap({'a': 1, 'f': 5, 'g': 4, 'h': 9}, {'b': 3, 'c': 4}))\n",
      "[{'b': 0}, {'a': 1, 'f': 5, 'g': 4, 'h': 9}, {'b': 3, 'c': 4}]\n",
      "3\n"
     ]
    }
   ],
   "source": [
    "\n",
    "print(chain.parents)\n",
    "\n",
    "print(chain.setdefault('f'))\n",
    "print(chain.setdefault('g',4))\n",
    "print (chain.maps) \n",
    "\n",
    "print(chain.update({'f':5,'h':9}))\n",
    "print (chain.maps)\n",
    "\n",
    "print(chain.values())\n",
    "\n",
    "chain1 = chain.new_child({'b':0})\n",
    "print (chain1.maps)\n",
    "\n",
    "chain1.maps = reversed(chain1.maps) \n",
    "print (chain1['b'])"
   ]
  },
  {
   "cell_type": "markdown",
   "metadata": {},
   "source": [
    "# Collections Module\n",
    "\n",
    "The collections module is a built-in module that implements specialized container data types providing alternatives to Python’s general purpose built-in containers. We've already gone over the basics: dict, list, set, and tuple.\n",
    "\n",
    "Now we'll learn about the alternatives that the collections module provides.\n",
    "\n",
    "## Counter\n",
    "\n",
    "*Counter* is a *dict* subclass which helps count hashable objects. Inside of it elements are stored as dictionary keys and the counts of the objects are stored as the value.\n",
    "\n",
    "Let's see how it can be used:"
   ]
  },
  {
   "cell_type": "code",
   "execution_count": 2,
   "metadata": {},
   "outputs": [],
   "source": [
    "from collections import Counter"
   ]
  },
  {
   "cell_type": "code",
   "execution_count": 37,
   "metadata": {},
   "outputs": [
    {
     "data": {
      "text/plain": [
       "Counter({1: 6, 2: 6, 3: 4, 12: 1, 32: 1, 21: 1, 223: 1})"
      ]
     },
     "execution_count": 37,
     "metadata": {},
     "output_type": "execute_result"
    }
   ],
   "source": [
    "lst = [1,2,2,2,2,3,3,3,1,2,1,12,3,2,32,1,21,1,223,1]\n",
    "\n",
    "Counter(lst)"
   ]
  },
  {
   "cell_type": "code",
   "execution_count": 4,
   "metadata": {},
   "outputs": [
    {
     "data": {
      "text/plain": [
       "Counter({'a': 2, 'b': 7, 's': 6, 'h': 3})"
      ]
     },
     "execution_count": 4,
     "metadata": {},
     "output_type": "execute_result"
    }
   ],
   "source": [
    "Counter('aabsbsbsbhshhbbsbs')"
   ]
  },
  {
   "cell_type": "code",
   "execution_count": 38,
   "metadata": {},
   "outputs": [
    {
     "data": {
      "text/plain": [
       "Counter({'How': 1,\n",
       "         'many': 1,\n",
       "         'times': 2,\n",
       "         'does': 1,\n",
       "         'each': 3,\n",
       "         'word': 3,\n",
       "         'show': 1,\n",
       "         'up': 1,\n",
       "         'in': 1,\n",
       "         'this': 1,\n",
       "         'sentence': 1})"
      ]
     },
     "execution_count": 38,
     "metadata": {},
     "output_type": "execute_result"
    }
   ],
   "source": [
    "s = 'How many times does each word show up in this sentence word times each each word'\n",
    "\n",
    "words = s.split()\n",
    "\n",
    "Counter(words)"
   ]
  },
  {
   "cell_type": "code",
   "execution_count": 43,
   "metadata": {},
   "outputs": [],
   "source": [
    "Count = Counter(words)"
   ]
  },
  {
   "cell_type": "code",
   "execution_count": 44,
   "metadata": {
    "scrolled": true
   },
   "outputs": [
    {
     "name": "stdout",
     "output_type": "stream",
     "text": [
      "Counter({'each': 3, 'word': 3, 'times': 2, 'How': 1, 'many': 1, 'does': 1, 'show': 1, 'up': 1, 'in': 1, 'this': 1, 'sentence': 1})\n"
     ]
    }
   ],
   "source": [
    "c1 =Count.copy()\n",
    "print(c1)"
   ]
  },
  {
   "cell_type": "code",
   "execution_count": 45,
   "metadata": {},
   "outputs": [
    {
     "name": "stdout",
     "output_type": "stream",
     "text": [
      "Counter({'each': 3, 'word': 3, 'times': 2, 'How': 1, 'many': 1, 'does': 1, 'show': 1, 'up': 1, 'in': 1, 'this': 1, 'sentence': 1})\n",
      "Counter()\n"
     ]
    }
   ],
   "source": [
    "print(c1)\n",
    "c1.clear()\n",
    "print(c1)"
   ]
  },
  {
   "cell_type": "code",
   "execution_count": 46,
   "metadata": {},
   "outputs": [
    {
     "name": "stdout",
     "output_type": "stream",
     "text": [
      "['a', 'a', 'a', 'a', 'b', 'b']\n"
     ]
    }
   ],
   "source": [
    "c2 = Counter(a=4, b=2, c=0, d=-2)\n",
    "print(list (c2.elements()))"
   ]
  },
  {
   "cell_type": "markdown",
   "metadata": {},
   "source": [
    "#### fromkeys(iterable)¶\n",
    "This class method is not implemented for Counter objects."
   ]
  },
  {
   "cell_type": "code",
   "execution_count": 47,
   "metadata": {},
   "outputs": [
    {
     "name": "stdout",
     "output_type": "stream",
     "text": [
      "Counter({'each': 3, 'word': 3, 'times': 2, 'How': 1, 'many': 1, 'does': 1, 'show': 1, 'up': 1, 'in': 1, 'this': 1, 'sentence': 1})\n",
      "2\n"
     ]
    }
   ],
   "source": [
    "print(Count)\n",
    "print (Count.get('times'))"
   ]
  },
  {
   "cell_type": "code",
   "execution_count": 48,
   "metadata": {},
   "outputs": [
    {
     "name": "stdout",
     "output_type": "stream",
     "text": [
      "dict_items([('How', 1), ('many', 1), ('times', 2), ('does', 1), ('each', 3), ('word', 3), ('show', 1), ('up', 1), ('in', 1), ('this', 1), ('sentence', 1)])\n"
     ]
    }
   ],
   "source": [
    "print (Count.items())"
   ]
  },
  {
   "cell_type": "code",
   "execution_count": 49,
   "metadata": {},
   "outputs": [
    {
     "name": "stdout",
     "output_type": "stream",
     "text": [
      "dict_keys(['How', 'many', 'times', 'does', 'each', 'word', 'show', 'up', 'in', 'this', 'sentence'])\n"
     ]
    }
   ],
   "source": [
    "print (Count.keys())"
   ]
  },
  {
   "cell_type": "code",
   "execution_count": 81,
   "metadata": {},
   "outputs": [
    {
     "name": "stdout",
     "output_type": "stream",
     "text": [
      "[('a', 15), ('j', 3), ('s', 2), ('d', 2), ('l', 2), ('k', 2)]\n",
      "('a', 15)\n",
      "('k', 2)\n"
     ]
    }
   ],
   "source": [
    "print (Counter('saaaaaaaaaaaaadjsalkjdlkaj').most_common())\n",
    "print (Counter('saaaaaaaaaaaaadjsalkjdlkaj').most_common()[0])\n",
    "print (Counter('saaaaaaaaaaaaadjsalkjdlkaj').most_common()[-1])"
   ]
  },
  {
   "cell_type": "code",
   "execution_count": 57,
   "metadata": {},
   "outputs": [
    {
     "name": "stdout",
     "output_type": "stream",
     "text": [
      "[('a', 3), ('j', 3), ('s', 2)]\n"
     ]
    }
   ],
   "source": [
    "print (Counter('sadjsalkjdlkaj').most_common(3))"
   ]
  },
  {
   "cell_type": "code",
   "execution_count": 60,
   "metadata": {},
   "outputs": [
    {
     "name": "stdout",
     "output_type": "stream",
     "text": [
      "('sentence', 1)\n"
     ]
    }
   ],
   "source": [
    "print (Count.popitem())"
   ]
  },
  {
   "cell_type": "code",
   "execution_count": 63,
   "metadata": {},
   "outputs": [
    {
     "name": "stdout",
     "output_type": "stream",
     "text": [
      "4\n"
     ]
    }
   ],
   "source": [
    "print (Counter('aaaabbbccn').pop('a'))"
   ]
  },
  {
   "cell_type": "code",
   "execution_count": 64,
   "metadata": {},
   "outputs": [
    {
     "name": "stdout",
     "output_type": "stream",
     "text": [
      "Counter({'each': 3, 'word': 3, 'times': 2, 'How': 1, 'many': 1, 'does': 1, 'show': 1, 'up': 1, 'in': 1, 'this': 1})\n",
      "Counter({'How': 1, 'many': 1, 'times': 2, 'does': 1, 'each': 3, 'word': 3, 'show': 1, 'up': 1, 'in': 1, 'this': 1, 'niket': None})\n"
     ]
    }
   ],
   "source": [
    "print(Count)\n",
    "Count.setdefault(\"niket\")\n",
    "print(Count)"
   ]
  },
  {
   "cell_type": "code",
   "execution_count": 69,
   "metadata": {},
   "outputs": [
    {
     "name": "stdout",
     "output_type": "stream",
     "text": [
      "Counter({'How': 1, 'many': 1, 'times': 2, 'does': 1, 'each': 3, 'word': 3, 'show': 1, 'up': 1, 'in': 1, 'this': 1, 'niket': None, 'niket1': None, 'niket1:test': None})\n",
      "Counter({'How': 1, 'many': 1, 'times': 2, 'does': 1, 'each': 3, 'word': 3, 'show': 1, 'up': 1, 'in': 1, 'this': 1, 'niket': None, 'niket1': None, 'niket1:test': None})\n"
     ]
    }
   ],
   "source": [
    "print(Count)\n",
    "Count.setdefault(\"niket1\",5)\n",
    "print(Count)"
   ]
  },
  {
   "cell_type": "code",
   "execution_count": 76,
   "metadata": {},
   "outputs": [
    {
     "name": "stdout",
     "output_type": "stream",
     "text": [
      "Counter({'N': 1, 'i': 1, 'k': 1, 'e': 1, 't': 1})\n",
      "Counter({'e': 1, 't': 1, 'N': 0, 'i': 0, 'k': 0})\n"
     ]
    }
   ],
   "source": [
    "c3 = Counter(\"Niket\")\n",
    "print(c3)\n",
    "c3.subtract(\"Nik\")\n",
    "print(c3)"
   ]
  },
  {
   "cell_type": "code",
   "execution_count": 77,
   "metadata": {},
   "outputs": [
    {
     "name": "stdout",
     "output_type": "stream",
     "text": [
      "Counter({'N': 1, 'i': 1, 'k': 1, 'e': 1, 't': 1})\n",
      "Counter({'N': 2, 'i': 2, 'k': 2, 'e': 1, 't': 1})\n"
     ]
    }
   ],
   "source": [
    "c3 = Counter(\"Niket\")\n",
    "print(c3)\n",
    "c3.update(\"Nik\")\n",
    "print(c3)"
   ]
  },
  {
   "cell_type": "code",
   "execution_count": 78,
   "metadata": {},
   "outputs": [
    {
     "name": "stdout",
     "output_type": "stream",
     "text": [
      "Counter({'N': 1, 'i': 1, 'k': 1, 'e': 1, 't': 1})\n",
      "dict_values([1, 1, 1, 1, 1])\n"
     ]
    }
   ],
   "source": [
    "c3 = Counter(\"Niket\")\n",
    "print(c3)\n",
    "print (c3.values())\n"
   ]
  },
  {
   "cell_type": "markdown",
   "metadata": {},
   "source": [
    "    sum(c.values())                 # total of all counts\n",
    "    c.clear()                       # reset all counts\n",
    "    list(c)                         # list unique elements\n",
    "    set(c)                          # convert to a set\n",
    "    dict(c)                         # convert to a regular dictionary\n",
    "    c.items()                       # convert to a list of (elem, cnt) pairs\n",
    "    Counter(dict(list_of_pairs))    # convert from a list of (elem, cnt) pairs\n",
    "    c.most_common()[:-n-1:-1]       # n least common elements\n",
    "    c += Counter()                  # remove zero and negative counts"
   ]
  },
  {
   "cell_type": "code",
   "execution_count": 9,
   "metadata": {},
   "outputs": [
    {
     "name": "stdout",
     "output_type": "stream",
     "text": [
      "True\n"
     ]
    }
   ],
   "source": [
    "dic = {0: 1,1:1}\n",
    "\n",
    "print(any(dic))"
   ]
  },
  {
   "cell_type": "code",
   "execution_count": null,
   "metadata": {},
   "outputs": [],
   "source": []
  },
  {
   "cell_type": "code",
   "execution_count": null,
   "metadata": {},
   "outputs": [],
   "source": []
  }
 ],
 "metadata": {
  "kernelspec": {
   "display_name": "Python 3",
   "language": "python",
   "name": "python3"
  },
  "language_info": {
   "codemirror_mode": {
    "name": "ipython",
    "version": 3
   },
   "file_extension": ".py",
   "mimetype": "text/x-python",
   "name": "python",
   "nbconvert_exporter": "python",
   "pygments_lexer": "ipython3",
   "version": "3.6.5"
  }
 },
 "nbformat": 4,
 "nbformat_minor": 2
}
