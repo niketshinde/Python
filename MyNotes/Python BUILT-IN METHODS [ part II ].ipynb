{
 "cells": [
  {
   "cell_type": "markdown",
   "metadata": {},
   "source": [
    "# BUILT-IN METHODS"
   ]
  },
  {
   "cell_type": "markdown",
   "metadata": {},
   "source": [
    "31. hash(object)\n",
    "32. input([prompt])\n",
    "33. id(object)\n",
    "34. isinstance(object, classinfo)\n",
    "35. int(x=0, base=10)\n",
    "36. issubclass(object, classinfo)\n",
    "37. iter(object[, sentinel])\n",
    "38. list([iterable])\n",
    "39. locals()\n",
    "40. len(s)\n",
    "41. max(iterable, *iterables[,key, default])  / max(arg1, arg2, *args[, key])\n",
    "42. min(iterable, *iterables[,key, default])  /  min(arg1, arg2, *args[, key])\n",
    "43. map(function, iterable, ...)\n",
    "44. next(iterator, default)\n",
    "45. memoryview(obj)\n",
    "46. object()\n",
    "47. oct(x)\n",
    "48. ord(c)\n",
    "49. open(file, mode='r', buffering=-1, encoding=None, errors=None, newline=None, closefd=True, opener=None)\n",
    "50. pow(x, y[, z])\n",
    "51. print(*objects, sep=' ', end='\\n', file=sys.stdout, flush=False)\n",
    "52. property(fget=None, fset=None, fdel=None, doc=None)\n",
    "53. range(stop) / range(start, stop[, step])\n",
    "54. repr(obj)\n",
    "55. reversed(seq)\n",
    "56. round(number[, ndigits])\n",
    "57. set([iterable])\n",
    "58. setattr(object, name, value)\n",
    "59. slice(stop) \\ slice(start, stop, step)\n",
    "60. sorted(iterable[, key][, reverse])\n",
    "61. str(object='') / str(object=b'', encoding='utf-8', errors='strict')\n",
    "62. sum(iterable, start)\n",
    "63. tuple(iterable)\n",
    "64. vars(object)\n",
    "65. zip(*iterables)\n",
    "66. __import__(name, globals=None, locals=None, fromlist=(), level=0)\n",
    "67. super()"
   ]
  },
  {
   "cell_type": "markdown",
   "metadata": {},
   "source": [
    "### 31. hash(object)\n",
    "The hash() method returns the hash value of an object if it has one.\n",
    "\n",
    "- Hash values are just integers which are used to compare dictionary keys during a dictionary lookup quickly.\n",
    "\n",
    "- Internally, hash() method calls __hash__() method of an object which are set by default for any object. We'll look at this later."
   ]
  },
  {
   "cell_type": "code",
   "execution_count": 3,
   "metadata": {},
   "outputs": [
    {
     "name": "stdout",
     "output_type": "stream",
     "text": [
      "Hash for 181 is: 181\n",
      "Hash for 181.23 is: 530343892119126197\n",
      "Hash for Python is: -6094861145673445078\n"
     ]
    }
   ],
   "source": [
    "# hash for integer unchanged\n",
    "print('Hash for 181 is:', hash(181))\n",
    "\n",
    "# hash for decimal\n",
    "print('Hash for 181.23 is:',hash(181.23))\n",
    "\n",
    "# hash for string\n",
    "print('Hash for Python is:', hash('Python'))"
   ]
  },
  {
   "cell_type": "code",
   "execution_count": 4,
   "metadata": {},
   "outputs": [
    {
     "name": "stdout",
     "output_type": "stream",
     "text": [
      "The hash is: -8976551253661872762\n"
     ]
    }
   ],
   "source": [
    "# tuple of vowels\n",
    "vowels = ('a', 'e', 'i', 'o', 'u')\n",
    "\n",
    "print('The hash is:', hash(vowels))"
   ]
  },
  {
   "cell_type": "code",
   "execution_count": 5,
   "metadata": {},
   "outputs": [
    {
     "name": "stdout",
     "output_type": "stream",
     "text": [
      "The hash is:\n",
      "698714698898671550\n"
     ]
    }
   ],
   "source": [
    "class Person:\n",
    "    def __init__(self, age, name):\n",
    "        self.age = age\n",
    "        self.name = name\n",
    "\n",
    "    def __eq__(self, other):\n",
    "        return self.age == other.age and self.name == other.name\n",
    "\n",
    "    def __hash__(self):\n",
    "        print('The hash is:')\n",
    "        return hash((self.age, self.name))\n",
    "\n",
    "person = Person(23, 'Adam')\n",
    "print(hash(person))"
   ]
  },
  {
   "cell_type": "markdown",
   "metadata": {},
   "source": [
    "> Note: You don't have to implement the __eq__() method for the hash as it is created by default for all objects."
   ]
  },
  {
   "cell_type": "markdown",
   "metadata": {},
   "source": [
    "### 32. input([prompt])\n",
    "The input() method reads a line from input, converts into a string and returns it."
   ]
  },
  {
   "cell_type": "code",
   "execution_count": 6,
   "metadata": {},
   "outputs": [
    {
     "name": "stdout",
     "output_type": "stream",
     "text": [
      "test\n",
      "The inputted string is: test\n"
     ]
    }
   ],
   "source": [
    "inputString = input()\n",
    "\n",
    "print('The inputted string is:', inputString)"
   ]
  },
  {
   "cell_type": "code",
   "execution_count": 7,
   "metadata": {},
   "outputs": [
    {
     "name": "stdout",
     "output_type": "stream",
     "text": [
      "Enter a string:Niket\n",
      "The inputted string is: Niket\n"
     ]
    }
   ],
   "source": [
    "# get input from user\n",
    "\n",
    "inputString = input('Enter a string:')\n",
    "\n",
    "print('The inputted string is:', inputString)"
   ]
  },
  {
   "cell_type": "markdown",
   "metadata": {},
   "source": [
    "### 33. id(object)\n",
    "The id() function returns identity (unique integer) of an object."
   ]
  },
  {
   "cell_type": "code",
   "execution_count": 9,
   "metadata": {},
   "outputs": [
    {
     "name": "stdout",
     "output_type": "stream",
     "text": [
      "id of dummyFoo = 1992509487312\n"
     ]
    }
   ],
   "source": [
    "class Foo:\n",
    "    b = 5\n",
    "\n",
    "dummyFoo = Foo()\n",
    "print('id of dummyFoo =',id(dummyFoo))"
   ]
  },
  {
   "cell_type": "code",
   "execution_count": 10,
   "metadata": {},
   "outputs": [
    {
     "name": "stdout",
     "output_type": "stream",
     "text": [
      "id of 5 = 1828023488\n",
      "id of a = 1828023488\n",
      "id of b = 1828023488\n",
      "id of c = 1992498412160\n"
     ]
    }
   ],
   "source": [
    "print('id of 5 =',id(5))\n",
    "\n",
    "a = 5\n",
    "print('id of a =',id(a))\n",
    "\n",
    "b = a\n",
    "print('id of b =',id(b))\n",
    "\n",
    "c = 5.0\n",
    "print('id of c =',id(c))"
   ]
  },
  {
   "cell_type": "markdown",
   "metadata": {},
   "source": [
    "> Note : It's important to note that everything in Python is an object, even numbers and Classes.\n",
    "Hence, integer 5 has a unique id. The id of the integer 5 remains constant during the lifetime. Similar is the case for float 5.5 and other objects."
   ]
  },
  {
   "cell_type": "code",
   "execution_count": 11,
   "metadata": {},
   "outputs": [
    {
     "name": "stdout",
     "output_type": "stream",
     "text": [
      "<class 'int'>\n",
      "['__call__', '__class__', '__delattr__', '__dir__', '__doc__', '__eq__', '__format__', '__ge__', '__getattribute__', '__gt__', '__hash__', '__init__', '__init_subclass__', '__le__', '__lt__', '__module__', '__name__', '__ne__', '__new__', '__qualname__', '__reduce__', '__reduce_ex__', '__repr__', '__self__', '__setattr__', '__sizeof__', '__str__', '__subclasshook__', '__text_signature__']\n"
     ]
    }
   ],
   "source": [
    "print(type(id(1)))\n",
    "print(dir(id))"
   ]
  },
  {
   "cell_type": "markdown",
   "metadata": {},
   "source": [
    "### 34. isinstance(object, classinfo)\n",
    "The isinstance() function checks if the object (first argument) is an instance or subclass of classinfo class (second argument)."
   ]
  },
  {
   "cell_type": "code",
   "execution_count": 12,
   "metadata": {},
   "outputs": [
    {
     "name": "stdout",
     "output_type": "stream",
     "text": [
      "True\n",
      "False\n",
      "True\n"
     ]
    }
   ],
   "source": [
    "class Foo:\n",
    "  a = 5\n",
    "  \n",
    "fooInstance = Foo()\n",
    "\n",
    "print(isinstance(fooInstance, Foo))\n",
    "print(isinstance(fooInstance, (list, tuple)))\n",
    "print(isinstance(fooInstance, (list, tuple, Foo)))"
   ]
  },
  {
   "cell_type": "code",
   "execution_count": 13,
   "metadata": {},
   "outputs": [
    {
     "name": "stdout",
     "output_type": "stream",
     "text": [
      "[1, 2, 3] instance of list? True\n",
      "[1, 2, 3] instance of dict? False\n",
      "[1, 2, 3] instance of dict or list? True\n",
      "5 instance of list? False\n",
      "5 instance of int? True\n"
     ]
    }
   ],
   "source": [
    "numbers = [1, 2, 3]\n",
    "\n",
    "result = isinstance(numbers, list)\n",
    "print(numbers,'instance of list?', result)\n",
    "\n",
    "result = isinstance(numbers, dict)\n",
    "print(numbers,'instance of dict?', result)\n",
    "\n",
    "result = isinstance(numbers, (dict, list))\n",
    "print(numbers,'instance of dict or list?', result)\n",
    "\n",
    "number = 5\n",
    "\n",
    "result = isinstance(number, list)\n",
    "print(number,'instance of list?', result)\n",
    "\n",
    "result = isinstance(number, int)\n",
    "print(number,'instance of int?', result)"
   ]
  },
  {
   "cell_type": "markdown",
   "metadata": {},
   "source": [
    "### 35. int(x=0, base=10)\n",
    "The int() method returns an integer object from any number or string."
   ]
  },
  {
   "cell_type": "code",
   "execution_count": 14,
   "metadata": {},
   "outputs": [
    {
     "name": "stdout",
     "output_type": "stream",
     "text": [
      "int(123) is: 123\n",
      "int(123.23) is: 123\n",
      "int('123') is: 123\n"
     ]
    }
   ],
   "source": [
    "# integer\n",
    "print(\"int(123) is:\", int(123))\n",
    "\n",
    "# float\n",
    "print(\"int(123.23) is:\", int(123.23))\n",
    "\n",
    "# string\n",
    "print(\"int('123') is:\", int('123'))"
   ]
  },
  {
   "cell_type": "code",
   "execution_count": 9,
   "metadata": {},
   "outputs": [
    {
     "name": "stdout",
     "output_type": "stream",
     "text": [
      "<class 'int'>\n",
      "['__abs__', '__add__', '__and__', '__bool__', '__ceil__', '__class__', '__delattr__', '__dir__', '__divmod__', '__doc__', '__eq__', '__float__', '__floor__', '__floordiv__', '__format__', '__ge__', '__getattribute__', '__getnewargs__', '__gt__', '__hash__', '__index__', '__init__', '__init_subclass__', '__int__', '__invert__', '__le__', '__lshift__', '__lt__', '__mod__', '__mul__', '__ne__', '__neg__', '__new__', '__or__', '__pos__', '__pow__', '__radd__', '__rand__', '__rdivmod__', '__reduce__', '__reduce_ex__', '__repr__', '__rfloordiv__', '__rlshift__', '__rmod__', '__rmul__', '__ror__', '__round__', '__rpow__', '__rrshift__', '__rshift__', '__rsub__', '__rtruediv__', '__rxor__', '__setattr__', '__sizeof__', '__str__', '__sub__', '__subclasshook__', '__truediv__', '__trunc__', '__xor__', 'bit_length', 'conjugate', 'denominator', 'from_bytes', 'imag', 'numerator', 'real', 'to_bytes']\n"
     ]
    }
   ],
   "source": [
    "print(type(int()))\n",
    "print(dir(int))"
   ]
  },
  {
   "cell_type": "code",
   "execution_count": 15,
   "metadata": {},
   "outputs": [
    {
     "name": "stdout",
     "output_type": "stream",
     "text": [
      "For 1010, int is: 10\n",
      "For 0b1010, int is: 10\n",
      "For 12, int is: 10\n",
      "For 0o12, int is: 10\n",
      "For A, int is: 10\n",
      "For 0xA, int is: 10\n"
     ]
    }
   ],
   "source": [
    "# binary 0b or 0B\n",
    "print(\"For 1010, int is:\", int('1010', 2))\n",
    "print(\"For 0b1010, int is:\", int('0b1010', 2))\n",
    "\n",
    "# octal 0o or 0O\n",
    "print(\"For 12, int is:\", int('12', 8))\n",
    "print(\"For 0o12, int is:\", int('0o12', 8))\n",
    "\n",
    "# hexadecimal\n",
    "print(\"For A, int is:\", int('A', 16))\n",
    "print(\"For 0xA, int is:\", int('0xA', 16))"
   ]
  },
  {
   "cell_type": "markdown",
   "metadata": {},
   "source": [
    "Internally, int() method calls an object's __int__() method.\n",
    "\n",
    "So, even if an object isn't a number, you can convert the object into an integer object.\n",
    "\n",
    "You can do this by overriding the __index__() and __int__() methods of the class to return a number.\n",
    "\n",
    "These two methods should return the same value as older versions of Python uses __int__(), while newer uses __index__() method."
   ]
  },
  {
   "cell_type": "code",
   "execution_count": 16,
   "metadata": {},
   "outputs": [
    {
     "name": "stdout",
     "output_type": "stream",
     "text": [
      "int(person) is: 23\n"
     ]
    }
   ],
   "source": [
    "class Person:\n",
    "    age = 23\n",
    "\n",
    "    def __index__(self):\n",
    "        return self.age\n",
    "    \n",
    "    def __int__(self):\n",
    "        return self.age\n",
    "\n",
    "person = Person()\n",
    "print('int(person) is:', int(person))"
   ]
  },
  {
   "cell_type": "markdown",
   "metadata": {},
   "source": [
    "### 36. issubclass(object, classinfo)\n",
    "The issubclass() function checks if the object argument (first argument) is a subclass of classinfo class (second argument)."
   ]
  },
  {
   "cell_type": "code",
   "execution_count": 1,
   "metadata": {},
   "outputs": [
    {
     "name": "stdout",
     "output_type": "stream",
     "text": [
      "True\n",
      "False\n",
      "True\n",
      "True\n"
     ]
    }
   ],
   "source": [
    "class Polygon:\n",
    "  def __init__(polygonType):\n",
    "    print('Polygon is a ', polygonType)\n",
    "\n",
    "class Triangle(Polygon):\n",
    "  def __init__(self):\n",
    "    Polygon.__init__('triangle')\n",
    "    \n",
    "print(issubclass(Triangle, Polygon))\n",
    "print(issubclass(Triangle, list))\n",
    "print(issubclass(Triangle, (list, Polygon)))\n",
    "print(issubclass(Polygon, (list, Polygon)))"
   ]
  },
  {
   "cell_type": "markdown",
   "metadata": {},
   "source": [
    "### 37. iter(object[, sentinel])\n",
    "The iter() method returns an iterator for the given object."
   ]
  },
  {
   "cell_type": "code",
   "execution_count": 33,
   "metadata": {},
   "outputs": [
    {
     "name": "stdout",
     "output_type": "stream",
     "text": [
      "<class 'list_iterator'>\n",
      "<class 'dict_keyiterator'>\n",
      "<class 'set_iterator'>\n",
      "<class 'tuple_iterator'>\n"
     ]
    }
   ],
   "source": [
    "print (type(iter([1,2])))\n",
    "print (type(iter({1:'1',2:'2'})))\n",
    "print (type(iter({1,2})))\n",
    "print (type(iter((1,2))))"
   ]
  },
  {
   "cell_type": "code",
   "execution_count": 2,
   "metadata": {},
   "outputs": [
    {
     "name": "stdout",
     "output_type": "stream",
     "text": [
      "a\n",
      "e\n",
      "i\n",
      "o\n",
      "u\n"
     ]
    }
   ],
   "source": [
    "# list of vowels\n",
    "vowels = ['a', 'e', 'i', 'o', 'u']\n",
    "\n",
    "vowelsIter = iter(vowels)\n",
    "\n",
    "# prints 'a'\n",
    "print(next(vowelsIter))\n",
    "\n",
    "# prints 'e'\n",
    "print(next(vowelsIter))\n",
    "\n",
    "# prints 'i'\n",
    "print(next(vowelsIter))\n",
    "\n",
    "# prints 'o'\n",
    "print(next(vowelsIter))\n",
    "\n",
    "# prints 'u'\n",
    "print(next(vowelsIter))"
   ]
  },
  {
   "cell_type": "code",
   "execution_count": 3,
   "metadata": {},
   "outputs": [
    {
     "name": "stdout",
     "output_type": "stream",
     "text": [
      "1\n",
      "2\n",
      "3\n"
     ]
    },
    {
     "ename": "StopIteration",
     "evalue": "",
     "output_type": "error",
     "traceback": [
      "\u001b[1;31m---------------------------------------------------------------------------\u001b[0m",
      "\u001b[1;31mStopIteration\u001b[0m                             Traceback (most recent call last)",
      "\u001b[1;32m<ipython-input-3-99eebcdc9c76>\u001b[0m in \u001b[0;36m<module>\u001b[1;34m()\u001b[0m\n\u001b[0;32m     27\u001b[0m \u001b[1;33m\u001b[0m\u001b[0m\n\u001b[0;32m     28\u001b[0m \u001b[1;31m# raises StopIteration\u001b[0m\u001b[1;33m\u001b[0m\u001b[1;33m\u001b[0m\u001b[0m\n\u001b[1;32m---> 29\u001b[1;33m \u001b[0mprint\u001b[0m\u001b[1;33m(\u001b[0m\u001b[0mnext\u001b[0m\u001b[1;33m(\u001b[0m\u001b[0mprintNumIter\u001b[0m\u001b[1;33m)\u001b[0m\u001b[1;33m)\u001b[0m\u001b[1;33m\u001b[0m\u001b[0m\n\u001b[0m",
      "\u001b[1;32m<ipython-input-3-99eebcdc9c76>\u001b[0m in \u001b[0;36m__next__\u001b[1;34m(self)\u001b[0m\n\u001b[0;32m      9\u001b[0m     \u001b[1;32mdef\u001b[0m \u001b[0m__next__\u001b[0m\u001b[1;33m(\u001b[0m\u001b[0mself\u001b[0m\u001b[1;33m)\u001b[0m\u001b[1;33m:\u001b[0m\u001b[1;33m\u001b[0m\u001b[0m\n\u001b[0;32m     10\u001b[0m         \u001b[1;32mif\u001b[0m\u001b[1;33m(\u001b[0m\u001b[0mself\u001b[0m\u001b[1;33m.\u001b[0m\u001b[0mnum\u001b[0m \u001b[1;33m>=\u001b[0m \u001b[0mself\u001b[0m\u001b[1;33m.\u001b[0m\u001b[0mmax\u001b[0m\u001b[1;33m)\u001b[0m\u001b[1;33m:\u001b[0m\u001b[1;33m\u001b[0m\u001b[0m\n\u001b[1;32m---> 11\u001b[1;33m             \u001b[1;32mraise\u001b[0m \u001b[0mStopIteration\u001b[0m\u001b[1;33m\u001b[0m\u001b[0m\n\u001b[0m\u001b[0;32m     12\u001b[0m         \u001b[0mself\u001b[0m\u001b[1;33m.\u001b[0m\u001b[0mnum\u001b[0m \u001b[1;33m+=\u001b[0m \u001b[1;36m1\u001b[0m\u001b[1;33m\u001b[0m\u001b[0m\n\u001b[0;32m     13\u001b[0m         \u001b[1;32mreturn\u001b[0m \u001b[0mself\u001b[0m\u001b[1;33m.\u001b[0m\u001b[0mnum\u001b[0m\u001b[1;33m\u001b[0m\u001b[0m\n",
      "\u001b[1;31mStopIteration\u001b[0m: "
     ]
    }
   ],
   "source": [
    "class PrintNumber:\n",
    "    def __init__(self, max):\n",
    "        self.max = max\n",
    "\n",
    "    def __iter__(self):\n",
    "        self.num = 0\n",
    "        return self\n",
    "\n",
    "    def __next__(self):\n",
    "        if(self.num >= self.max):\n",
    "            raise StopIteration\n",
    "        self.num += 1\n",
    "        return self.num\n",
    "\n",
    "printNum = PrintNumber(3)\n",
    "\n",
    "printNumIter = iter(printNum)\n",
    "\n",
    "# prints '1'\n",
    "print(next(printNumIter))\n",
    "\n",
    "# prints '2'\n",
    "print(next(printNumIter))\n",
    "\n",
    "# prints '3'\n",
    "print(next(printNumIter))\n",
    "\n",
    "# raises StopIteration\n",
    "print(next(printNumIter))"
   ]
  },
  {
   "cell_type": "raw",
   "metadata": {},
   "source": [
    "with open('mydata.txt') as fp:\n",
    "    for line in iter(fp.readline, ''):\n",
    "        processLine(line)"
   ]
  },
  {
   "cell_type": "markdown",
   "metadata": {},
   "source": [
    "When you run the program, it will open mydata.txt in read mode.\n",
    "\n",
    "Then, the iter(fp.readline, '') in the for loop calls readline (which reads each line in the text file) until the sentinel character '' (empty string) is reached."
   ]
  },
  {
   "cell_type": "markdown",
   "metadata": {},
   "source": [
    "### 38. list([iterable])\n",
    "The list() constructor creates a list in Python."
   ]
  },
  {
   "cell_type": "code",
   "execution_count": 12,
   "metadata": {},
   "outputs": [
    {
     "name": "stdout",
     "output_type": "stream",
     "text": [
      "[]\n",
      "['a', 'e', 'i', 'o', 'u']\n",
      "['a', 'e', 'i', 'o', 'u']\n",
      "['a', 'e', 'i', 'o', 'u']\n"
     ]
    }
   ],
   "source": [
    "# empty list\n",
    "print(list())\n",
    "\n",
    "# vowel string\n",
    "vowelString = 'aeiou'\n",
    "print(list(vowelString))\n",
    "\n",
    "# vowel tuple\n",
    "vowelTuple = ('a', 'e', 'i', 'o', 'u')\n",
    "print(list(vowelTuple))\n",
    "\n",
    "# vowel list\n",
    "vowelList = ['a', 'e', 'i', 'o', 'u']\n",
    "print(list(vowelList))"
   ]
  },
  {
   "cell_type": "code",
   "execution_count": 15,
   "metadata": {},
   "outputs": [
    {
     "name": "stdout",
     "output_type": "stream",
     "text": [
      "['__add__', '__class__', '__contains__', '__delattr__', '__delitem__', '__dir__', '__doc__', '__eq__', '__format__', '__ge__', '__getattribute__', '__getitem__', '__gt__', '__hash__', '__iadd__', '__imul__', '__init__', '__init_subclass__', '__iter__', '__le__', '__len__', '__lt__', '__mul__', '__ne__', '__new__', '__reduce__', '__reduce_ex__', '__repr__', '__reversed__', '__rmul__', '__setattr__', '__setitem__', '__sizeof__', '__str__', '__subclasshook__', 'append', 'clear', 'copy', 'count', 'extend', 'index', 'insert', 'pop', 'remove', 'reverse', 'sort']\n"
     ]
    }
   ],
   "source": [
    "print(dir(list))"
   ]
  },
  {
   "cell_type": "code",
   "execution_count": 13,
   "metadata": {},
   "outputs": [
    {
     "name": "stdout",
     "output_type": "stream",
     "text": [
      "['o', 'e', 'a', 'u', 'i']\n",
      "['a', 'e', 'i', 'o', 'u']\n"
     ]
    }
   ],
   "source": [
    "# vowel set\n",
    "vowelSet = {'a', 'e', 'i', 'o', 'u'}\n",
    "print(list(vowelSet))\n",
    "\n",
    "# vowel dictionary\n",
    "vowelDictionary = {'a': 1, 'e': 2, 'i': 3, 'o':4, 'u':5}\n",
    "print(list(vowelDictionary))"
   ]
  },
  {
   "cell_type": "code",
   "execution_count": 14,
   "metadata": {},
   "outputs": [
    {
     "name": "stdout",
     "output_type": "stream",
     "text": [
      "[1, 2, 4, 8, 16]\n"
     ]
    }
   ],
   "source": [
    "class PowTwo:\n",
    "    def __init__(self, max):\n",
    "        self.max = max\n",
    "    \n",
    "    def __iter__(self):\n",
    "        self.num = 0\n",
    "        return self\n",
    "        \n",
    "    def __next__(self):\n",
    "        if(self.num >= self.max):\n",
    "            raise StopIteration\n",
    "        result = 2 ** self.num\n",
    "        self.num += 1\n",
    "        return result\n",
    "\n",
    "powTwo = PowTwo(5)\n",
    "powTwoIter = iter(powTwo)\n",
    "\n",
    "print(list(powTwoIter))"
   ]
  },
  {
   "cell_type": "markdown",
   "metadata": {},
   "source": [
    "### 39. locals()\n",
    "The locals() method updates and returns a dictionary of the current local symbol table."
   ]
  },
  {
   "cell_type": "code",
   "execution_count": 1,
   "metadata": {},
   "outputs": [
    {
     "data": {
      "text/plain": [
       "{'__name__': '__main__',\n",
       " '__doc__': 'Automatically created module for IPython interactive environment',\n",
       " '__package__': None,\n",
       " '__loader__': None,\n",
       " '__spec__': None,\n",
       " '__builtin__': <module 'builtins' (built-in)>,\n",
       " '__builtins__': <module 'builtins' (built-in)>,\n",
       " '_ih': ['', 'locals()'],\n",
       " '_oh': {},\n",
       " '_dh': ['C:\\\\Users\\\\shindnik\\\\MyProject\\\\python\\\\MyNotes'],\n",
       " 'In': ['', 'locals()'],\n",
       " 'Out': {},\n",
       " 'get_ipython': <bound method InteractiveShell.get_ipython of <ipykernel.zmqshell.ZMQInteractiveShell object at 0x00000287A1E99A20>>,\n",
       " 'exit': <IPython.core.autocall.ZMQExitAutocall at 0x287a1eeca58>,\n",
       " 'quit': <IPython.core.autocall.ZMQExitAutocall at 0x287a1eeca58>,\n",
       " '_': '',\n",
       " '__': '',\n",
       " '___': '',\n",
       " '_i': '',\n",
       " '_ii': '',\n",
       " '_iii': '',\n",
       " '_i1': 'locals()'}"
      ]
     },
     "execution_count": 1,
     "metadata": {},
     "output_type": "execute_result"
    }
   ],
   "source": [
    "locals()"
   ]
  },
  {
   "cell_type": "code",
   "execution_count": 3,
   "metadata": {},
   "outputs": [
    {
     "name": "stdout",
     "output_type": "stream",
     "text": [
      "['C:\\\\Users\\\\shindnik\\\\MyProject\\\\python\\\\MyNotes']\n",
      "<class 'list'>\n"
     ]
    }
   ],
   "source": [
    "print(_dh)\n",
    "print (type(_dh))"
   ]
  },
  {
   "cell_type": "code",
   "execution_count": 4,
   "metadata": {},
   "outputs": [
    {
     "name": "stdout",
     "output_type": "stream",
     "text": [
      "localsNotPresent: {}\n",
      "localsPresent: {'present': True}\n"
     ]
    }
   ],
   "source": [
    "def localsNotPresent():\n",
    "    return locals()\n",
    "\n",
    "def localsPresent():\n",
    "    present = True\n",
    "    return locals()\n",
    "\n",
    "print('localsNotPresent:', localsNotPresent())\n",
    "print('localsPresent:', localsPresent())"
   ]
  },
  {
   "cell_type": "code",
   "execution_count": 5,
   "metadata": {},
   "outputs": [
    {
     "name": "stdout",
     "output_type": "stream",
     "text": [
      "True\n",
      "True\n"
     ]
    }
   ],
   "source": [
    "def localsPresent():\n",
    "    present = True\n",
    "    print(present)\n",
    "    locals()['present'] = False;\n",
    "    print(present)\n",
    "\n",
    "localsPresent()"
   ]
  },
  {
   "cell_type": "code",
   "execution_count": 6,
   "metadata": {},
   "outputs": [
    {
     "name": "stdout",
     "output_type": "stream",
     "text": [
      "True\n",
      "True\n"
     ]
    }
   ],
   "source": [
    "def localsPresent():\n",
    "    present = True\n",
    "    print(present)\n",
    "    locals()['present'] = False;\n",
    "    print(present)\n",
    "\n",
    "localsPresent()"
   ]
  },
  {
   "cell_type": "markdown",
   "metadata": {},
   "source": [
    "### 40. len(s)\n",
    "\n",
    "The len() function returns the number of items (length) in an object.\n",
    "    - s : a sequence (string, bytes, tuple, list, or range) or a collection (dictionary, set or frozen set)"
   ]
  },
  {
   "cell_type": "code",
   "execution_count": 7,
   "metadata": {},
   "outputs": [
    {
     "name": "stdout",
     "output_type": "stream",
     "text": [
      "[] length is 0\n",
      "[1, 2, 3] length is 3\n",
      "(1, 2, 3) length is 3\n",
      "Length of range(1, 10) is 9\n"
     ]
    }
   ],
   "source": [
    "testList = []\n",
    "print(testList, 'length is', len(testList))\n",
    "\n",
    "testList = [1, 2, 3]\n",
    "print(testList, 'length is', len(testList))\n",
    "\n",
    "testTuple = (1, 2, 3)\n",
    "print(testTuple, 'length is', len(testTuple))\n",
    "\n",
    "testRange = range(1, 10)\n",
    "print('Length of', testRange, 'is', len(testRange))"
   ]
  },
  {
   "cell_type": "code",
   "execution_count": 8,
   "metadata": {},
   "outputs": [
    {
     "name": "stdout",
     "output_type": "stream",
     "text": [
      "Length of  is 0\n",
      "Length of Python is 6\n",
      "Length of b'Python' is 6\n",
      "Length of b'\\x01\\x02\\x03' is 3\n"
     ]
    }
   ],
   "source": [
    "testString = ''\n",
    "print('Length of', testString, 'is', len(testString))\n",
    "\n",
    "testString = 'Python'\n",
    "print('Length of', testString, 'is', len(testString))\n",
    "\n",
    "# byte object\n",
    "testByte = b'Python'\n",
    "print('Length of', testByte, 'is', len(testByte))\n",
    "\n",
    "testList = [1, 2, 3]\n",
    "\n",
    "# converting to bytes object\n",
    "testByte = bytes(testList)\n",
    "print('Length of', testByte, 'is', len(testByte))"
   ]
  },
  {
   "cell_type": "code",
   "execution_count": 9,
   "metadata": {},
   "outputs": [
    {
     "name": "stdout",
     "output_type": "stream",
     "text": [
      "{1, 2, 3} length is 3\n",
      "set() length is 0\n",
      "{1: 'one', 2: 'two'} length is 2\n",
      "{} length is 0\n",
      "frozenset({1, 2}) length is 2\n"
     ]
    }
   ],
   "source": [
    "testSet = {1, 2, 3}\n",
    "print(testSet, 'length is', len(testSet))\n",
    "\n",
    "# Empty Set\n",
    "testSet = set()\n",
    "print(testSet, 'length is', len(testSet))\n",
    "\n",
    "testDict = {1: 'one', 2: 'two'}\n",
    "print(testDict, 'length is', len(testDict))\n",
    "\n",
    "testDict = {}\n",
    "print(testDict, 'length is', len(testDict))\n",
    "\n",
    "testSet = {1, 2}\n",
    "# frozenSet\n",
    "frozenTestSet = frozenset(testSet)\n",
    "print(frozenTestSet, 'length is', len(frozenTestSet))"
   ]
  },
  {
   "cell_type": "code",
   "execution_count": 10,
   "metadata": {},
   "outputs": [
    {
     "name": "stdout",
     "output_type": "stream",
     "text": [
      "{1, 2, 3} length is 3\n",
      "set() length is 0\n",
      "{1: 'one', 2: 'two'} length is 2\n",
      "{} length is 0\n",
      "frozenset({1, 2}) length is 2\n"
     ]
    }
   ],
   "source": [
    "testSet = {1, 2, 3}\n",
    "print(testSet, 'length is', len(testSet))\n",
    "\n",
    "# Empty Set\n",
    "testSet = set()\n",
    "print(testSet, 'length is', len(testSet))\n",
    "\n",
    "testDict = {1: 'one', 2: 'two'}\n",
    "print(testDict, 'length is', len(testDict))\n",
    "\n",
    "testDict = {}\n",
    "print(testDict, 'length is', len(testDict))\n",
    "\n",
    "testSet = {1, 2}\n",
    "# frozenSet\n",
    "frozenTestSet = frozenset(testSet)\n",
    "print(frozenTestSet, 'length is', len(frozenTestSet))"
   ]
  },
  {
   "cell_type": "code",
   "execution_count": 11,
   "metadata": {},
   "outputs": [
    {
     "name": "stdout",
     "output_type": "stream",
     "text": [
      "0\n",
      "6\n"
     ]
    }
   ],
   "source": [
    "class Session:\n",
    "    def __init__(self, number = 0):\n",
    "      self.number = number\n",
    "    \n",
    "    def __len__(self):\n",
    "      return self.number\n",
    "\n",
    "\n",
    "# default length is 0\n",
    "s1 = Session()\n",
    "print(len(s1))\n",
    "\n",
    "# giving custom length\n",
    "s2 = Session(6)\n",
    "print(len(s2))"
   ]
  },
  {
   "cell_type": "markdown",
   "metadata": {},
   "source": [
    "### 41. max(iterable, *iterables[,key, default])\n",
    "### max(arg1, arg2, *args[, key])\n",
    "\n",
    "The max() method returns the largest element in an iterable or largest of two or more parameters."
   ]
  },
  {
   "cell_type": "markdown",
   "metadata": {},
   "source": [
    "max(iterable, *iterables[, key, default])\n",
    "    - iterable - sequence (tuple, string), collection (set, dictionary) or an iterator object whose largest element is to be found\n",
    "    - *iterables (Optional) - any number of iterables whose largest is to be found\n",
    "    - key (Optional) - key function where the iterables are passed and comparison is performed based on its return value\n",
    "    - default (Optional) - default value if the given iterable is empty"
   ]
  },
  {
   "cell_type": "markdown",
   "metadata": {},
   "source": [
    "max(arg1, arg2, *args[, key])\n",
    " - arg1 - mandatory first object for comparison (could be number, string or other object)\n",
    " - arg2 - mandatory second object for comparison (could be number, string or other object)\n",
    " - *args​ (Optional) - other objects for comparison\n",
    " - key - key function where each argument is passed, and comparison is performed based on its return value"
   ]
  },
  {
   "cell_type": "code",
   "execution_count": 16,
   "metadata": {},
   "outputs": [
    {
     "name": "stdout",
     "output_type": "stream",
     "text": [
      "Maximum is: 5\n",
      "Maximum is: 10\n"
     ]
    }
   ],
   "source": [
    "# using max(arg1, arg2, *args)\n",
    "print('Maximum is:', max(1, 3, 2, 5, 4))\n",
    "\n",
    "# using max(iterable)\n",
    "num = [1, 3, 2, 8, 5, 10, 6]\n",
    "print('Maximum is:', max(num))"
   ]
  },
  {
   "cell_type": "code",
   "execution_count": 17,
   "metadata": {},
   "outputs": [
    {
     "name": "stdout",
     "output_type": "stream",
     "text": [
      "Maximum is: 267\n",
      "Maximum is: 821\n"
     ]
    }
   ],
   "source": [
    "def sumDigit(num):\n",
    "    sum = 0\n",
    "    while(num):\n",
    "        sum += num % 10\n",
    "        num = int(num / 10)\n",
    "    return sum\n",
    "\n",
    "# using max(arg1, arg2, *args, key)\n",
    "print('Maximum is:', max(100, 321, 267, 59, 40, key=sumDigit))\n",
    "\n",
    "# using max(iterable, key)\n",
    "num = [15, 300, 2700, 821, 52, 10, 6]\n",
    "print('Maximum is:', max(num, key=sumDigit))"
   ]
  },
  {
   "cell_type": "code",
   "execution_count": 23,
   "metadata": {},
   "outputs": [
    {
     "name": "stdout",
     "output_type": "stream",
     "text": [
      "[34, 567, 78]\n"
     ]
    }
   ],
   "source": [
    "num = [15, 300, 2700, 821]\n",
    "num1 = [12, 2]\n",
    "num2 = [34, 567, 78]\n",
    "print(max(num, num1, num2))"
   ]
  },
  {
   "cell_type": "code",
   "execution_count": 18,
   "metadata": {},
   "outputs": [
    {
     "name": "stdout",
     "output_type": "stream",
     "text": [
      "Maximum is: [15, 300, 2700, 821]\n"
     ]
    }
   ],
   "source": [
    "num = [15, 300, 2700, 821]\n",
    "num1 = [12, 2]\n",
    "num2 = [34, 567, 78]\n",
    "\n",
    "# using max(iterable, *iterables, key)\n",
    "print('Maximum is:', max(num, num1, num2, key=len))"
   ]
  },
  {
   "cell_type": "code",
   "execution_count": 20,
   "metadata": {},
   "outputs": [
    {
     "name": "stdout",
     "output_type": "stream",
     "text": [
      "3\n"
     ]
    }
   ],
   "source": [
    "d = {1:'1',2:'2',3:'3'}\n",
    "print(max(d))"
   ]
  },
  {
   "cell_type": "code",
   "execution_count": 25,
   "metadata": {},
   "outputs": [
    {
     "ename": "TypeError",
     "evalue": "'>' not supported between instances of 'dict' and 'dict'",
     "output_type": "error",
     "traceback": [
      "\u001b[1;31m---------------------------------------------------------------------------\u001b[0m",
      "\u001b[1;31mTypeError\u001b[0m                                 Traceback (most recent call last)",
      "\u001b[1;32m<ipython-input-25-a07529280e54>\u001b[0m in \u001b[0;36m<module>\u001b[1;34m()\u001b[0m\n\u001b[0;32m      1\u001b[0m \u001b[0md1\u001b[0m \u001b[1;33m=\u001b[0m \u001b[1;33m{\u001b[0m\u001b[1;36m1\u001b[0m\u001b[1;33m:\u001b[0m\u001b[1;34m'1'\u001b[0m\u001b[1;33m,\u001b[0m\u001b[1;36m2\u001b[0m\u001b[1;33m:\u001b[0m\u001b[1;34m'2'\u001b[0m\u001b[1;33m,\u001b[0m\u001b[1;36m3\u001b[0m\u001b[1;33m:\u001b[0m\u001b[1;34m'3'\u001b[0m\u001b[1;33m}\u001b[0m\u001b[1;33m\u001b[0m\u001b[0m\n\u001b[0;32m      2\u001b[0m \u001b[0md2\u001b[0m \u001b[1;33m=\u001b[0m \u001b[1;33m{\u001b[0m\u001b[1;36m4\u001b[0m\u001b[1;33m:\u001b[0m\u001b[1;34m'4'\u001b[0m\u001b[1;33m,\u001b[0m\u001b[1;36m5\u001b[0m\u001b[1;33m:\u001b[0m\u001b[1;34m'5'\u001b[0m\u001b[1;33m,\u001b[0m\u001b[1;36m6\u001b[0m\u001b[1;33m:\u001b[0m\u001b[1;34m'7'\u001b[0m\u001b[1;33m}\u001b[0m\u001b[1;33m\u001b[0m\u001b[0m\n\u001b[1;32m----> 3\u001b[1;33m \u001b[0mprint\u001b[0m\u001b[1;33m(\u001b[0m\u001b[0mmax\u001b[0m\u001b[1;33m(\u001b[0m\u001b[0md1\u001b[0m\u001b[1;33m,\u001b[0m \u001b[0md2\u001b[0m\u001b[1;33m)\u001b[0m\u001b[1;33m)\u001b[0m\u001b[1;33m\u001b[0m\u001b[0m\n\u001b[0m",
      "\u001b[1;31mTypeError\u001b[0m: '>' not supported between instances of 'dict' and 'dict'"
     ]
    }
   ],
   "source": [
    "d1 = {1:'1',2:'2',3:'3'}\n",
    "d2 = {4:'4',5:'5',6:'7'}\n",
    "print(max(d1, d2))"
   ]
  },
  {
   "cell_type": "markdown",
   "metadata": {},
   "source": [
    "### 42. min(iterable, *iterables[,key, default])\n",
    "### min(arg1, arg2, *args[, key])\n",
    "he min() method returns the smallest element in an iterable or smallest of two or more parameters."
   ]
  },
  {
   "cell_type": "code",
   "execution_count": 26,
   "metadata": {},
   "outputs": [
    {
     "name": "stdout",
     "output_type": "stream",
     "text": [
      "Minimum is: 1\n",
      "Minimum is: 2\n"
     ]
    }
   ],
   "source": [
    "# using min(arg1, arg2, *args)\n",
    "print('Minimum is:', min(1, 3, 2, 5, 4))\n",
    "\n",
    "# using min(iterable)\n",
    "num = [3, 2, 8, 5, 10, 6]\n",
    "print('Minimum is:', min(num))"
   ]
  },
  {
   "cell_type": "code",
   "execution_count": 27,
   "metadata": {},
   "outputs": [
    {
     "name": "stdout",
     "output_type": "stream",
     "text": [
      "Minimum is: 100\n",
      "Minimum is: 10\n"
     ]
    }
   ],
   "source": [
    "def sumDigit(num):\n",
    "    sum = 0\n",
    "    while(num):\n",
    "        sum += num % 10\n",
    "        num = int(num / 10)\n",
    "    return sum\n",
    "\n",
    "# using min(arg1, arg2, *args, key)\n",
    "print('Minimum is:', min(100, 321, 267, 59, 40, key=sumDigit))\n",
    "\n",
    "# using min(iterable, key)\n",
    "num = [15, 300, 2700, 821, 52, 10, 6]\n",
    "print('Minimum is:', min(num, key=sumDigit))"
   ]
  },
  {
   "cell_type": "code",
   "execution_count": 1,
   "metadata": {},
   "outputs": [
    {
     "name": "stdout",
     "output_type": "stream",
     "text": [
      "Minimum is: [12, 2]\n"
     ]
    }
   ],
   "source": [
    "num = [15, 300, 2700, 821]\n",
    "num1 = [12, 2]\n",
    "num2 = [34, 567, 78]\n",
    "\n",
    "# using min(iterable, *iterables, key)\n",
    "print('Minimum is:', min(num, num1, num2))"
   ]
  },
  {
   "cell_type": "code",
   "execution_count": 28,
   "metadata": {},
   "outputs": [
    {
     "name": "stdout",
     "output_type": "stream",
     "text": [
      "Minimum is: [12, 2]\n"
     ]
    }
   ],
   "source": [
    "num = [15, 300, 2700, 821]\n",
    "num1 = [12, 2]\n",
    "num2 = [34, 567, 78]\n",
    "\n",
    "# using min(iterable, *iterables, key)\n",
    "print('Minimum is:', min(num, num1, num2, key=len))"
   ]
  },
  {
   "cell_type": "markdown",
   "metadata": {},
   "source": [
    "> In this program, each iterable num, num1 and num2 is passed to the built-in method len().\n",
    "Based on the result, i.e. length of each list, the list with minimum length is returned."
   ]
  },
  {
   "cell_type": "markdown",
   "metadata": {},
   "source": [
    "### 43. map(function, iterable, ...)\n",
    "The map() function applies a given function to each item of an iterable (list, tuple etc.) and returns a list of the results."
   ]
  },
  {
   "cell_type": "code",
   "execution_count": 40,
   "metadata": {
    "scrolled": false
   },
   "outputs": [
    {
     "name": "stdout",
     "output_type": "stream",
     "text": [
      "<map object at 0x0000029C56BEAE10>\n",
      "{16, 1, 4, 9}\n",
      "set()\n"
     ]
    }
   ],
   "source": [
    "def calculateSquare(n):\n",
    "  return n*n\n",
    "\n",
    "numbers = (1, 2, 3, 4)\n",
    "result = map(calculateSquare, numbers)\n",
    "print(result)\n",
    "\n",
    "# converting map object to set\n",
    "numbersSquare1 = set(result)\n",
    "print(numbersSquare1)\n",
    "\n",
    "numbersSquare2 = set(result)\n",
    "print(numbersSquare2)\n",
    "\n"
   ]
  },
  {
   "cell_type": "code",
   "execution_count": 41,
   "metadata": {},
   "outputs": [
    {
     "name": "stdout",
     "output_type": "stream",
     "text": [
      "['__class__', '__delattr__', '__dir__', '__doc__', '__eq__', '__format__', '__ge__', '__getattribute__', '__gt__', '__hash__', '__init__', '__init_subclass__', '__iter__', '__le__', '__lt__', '__ne__', '__new__', '__next__', '__reduce__', '__reduce_ex__', '__repr__', '__setattr__', '__sizeof__', '__str__', '__subclasshook__']\n"
     ]
    }
   ],
   "source": [
    "print(dir(result))"
   ]
  },
  {
   "cell_type": "code",
   "execution_count": 38,
   "metadata": {},
   "outputs": [
    {
     "ename": "NameError",
     "evalue": "name 'calculateSquare' is not defined",
     "output_type": "error",
     "traceback": [
      "\u001b[1;31m---------------------------------------------------------------------------\u001b[0m",
      "\u001b[1;31mNameError\u001b[0m                                 Traceback (most recent call last)",
      "\u001b[1;32m<ipython-input-38-7df19d0f9a81>\u001b[0m in \u001b[0;36m<module>\u001b[1;34m()\u001b[0m\n\u001b[0;32m      1\u001b[0m \u001b[0mnumbers\u001b[0m \u001b[1;33m=\u001b[0m \u001b[1;33m(\u001b[0m\u001b[1;36m1\u001b[0m\u001b[1;33m,\u001b[0m \u001b[1;36m2\u001b[0m\u001b[1;33m,\u001b[0m \u001b[1;36m3\u001b[0m\u001b[1;33m,\u001b[0m \u001b[1;36m4\u001b[0m\u001b[1;33m)\u001b[0m\u001b[1;33m\u001b[0m\u001b[0m\n\u001b[1;32m----> 2\u001b[1;33m \u001b[0mresult\u001b[0m \u001b[1;33m=\u001b[0m \u001b[0mmap\u001b[0m\u001b[1;33m(\u001b[0m\u001b[0mcalculateSquare\u001b[0m\u001b[1;33m,\u001b[0m \u001b[0mnumbers\u001b[0m\u001b[1;33m)\u001b[0m\u001b[1;33m\u001b[0m\u001b[0m\n\u001b[0m\u001b[0;32m      3\u001b[0m \u001b[0mprint\u001b[0m\u001b[1;33m(\u001b[0m\u001b[0mdir\u001b[0m\u001b[1;33m(\u001b[0m\u001b[0mresult\u001b[0m\u001b[1;33m)\u001b[0m\u001b[1;33m)\u001b[0m\u001b[1;33m\u001b[0m\u001b[0m\n",
      "\u001b[1;31mNameError\u001b[0m: name 'calculateSquare' is not defined"
     ]
    }
   ],
   "source": [
    "def calculateSquare(n):\n",
    "  return n*n\n",
    "\n",
    "numbers = (1, 2, 3, 4)\n",
    "result = map(calculateSquare, numbers)\n",
    "print(dir(result))"
   ]
  },
  {
   "cell_type": "code",
   "execution_count": 16,
   "metadata": {},
   "outputs": [
    {
     "name": "stdout",
     "output_type": "stream",
     "text": [
      "<map object at 0x0000014FA2781630>\n",
      "{16, 1, 4, 9}\n",
      "[1, 4, 9, 16]\n",
      "(1, 4, 9, 16)\n"
     ]
    }
   ],
   "source": [
    "def calculateSquare(n):\n",
    "  return n*n\n",
    "\n",
    "numbers = (1, 2, 3, 4)\n",
    "result = map(calculateSquare, numbers)\n",
    "print(result)\n",
    "\n",
    "# converting map object to set\n",
    "numbersSquare1 = set(result)\n",
    "print(numbersSquare1)\n",
    "\n",
    "result = map(calculateSquare, numbers)\n",
    "numbersSquare2 = list(result)\n",
    "print(numbersSquare2)\n",
    "\n",
    "result = map(calculateSquare, numbers)\n",
    "numbersSquare2 = tuple(result)\n",
    "print(numbersSquare2)\n"
   ]
  },
  {
   "cell_type": "code",
   "execution_count": 17,
   "metadata": {},
   "outputs": [
    {
     "name": "stdout",
     "output_type": "stream",
     "text": [
      "<map object at 0x0000014FA2781160>\n",
      "{16, 1, 4, 9}\n"
     ]
    }
   ],
   "source": [
    "numbers = (1, 2, 3, 4)\n",
    "result = map(lambda x: x*x, numbers)\n",
    "print(result)\n",
    "\n",
    "# converting map object to set\n",
    "numbersSquare = set(result)\n",
    "print(numbersSquare)"
   ]
  },
  {
   "cell_type": "code",
   "execution_count": 14,
   "metadata": {},
   "outputs": [
    {
     "name": "stdout",
     "output_type": "stream",
     "text": [
      "[1, 4, 9, 16, 25, 36, 49, 64, 81]\n"
     ]
    }
   ],
   "source": [
    "print(list(map(lambda x: x*x, range(1,10))))"
   ]
  },
  {
   "cell_type": "code",
   "execution_count": 13,
   "metadata": {},
   "outputs": [
    {
     "name": "stdout",
     "output_type": "stream",
     "text": [
      "[4, 16, 36, 64, 100, 144, 196, 256, 324, 400, 484, 576, 676, 784, 900, 1024, 1156, 1296, 1444, 1600, 1764, 1936, 2116, 2304, 2500, 2704, 2916, 3136, 3364, 3600, 3844, 4096, 4356, 4624, 4900, 5184, 5476, 5776, 6084, 6400, 6724, 7056, 7396, 7744, 8100, 8464, 8836, 9216, 9604]\n"
     ]
    }
   ],
   "source": [
    "\n",
    "print(list( filter (lambda x : x != None,list(map(lambda x: x*x if x % 2 == 0 else None, range(1,100))))))"
   ]
  },
  {
   "cell_type": "code",
   "execution_count": 6,
   "metadata": {},
   "outputs": [
    {
     "name": "stdout",
     "output_type": "stream",
     "text": [
      "[2, 4, 6, 8, 10, 12, 14, 16, 18, 20, 22, 24, 26, 28, 30, 32, 34, 36, 38, 40, 42, 44, 46, 48, 50, 52, 54, 56, 58, 60, 62, 64, 66, 68, 70, 72, 74, 76, 78, 80, 82, 84, 86, 88, 90, 92, 94, 96, 98]\n"
     ]
    }
   ],
   "source": [
    "print (list( filter (lambda x : x%2 == 0,range(1,100))))"
   ]
  },
  {
   "cell_type": "code",
   "execution_count": 19,
   "metadata": {},
   "outputs": [
    {
     "name": "stdout",
     "output_type": "stream",
     "text": [
      "[4, 16, 36, 64, 100, 144, 196, 256, 324, 400, 484, 576, 676, 784, 900, 1024, 1156, 1296, 1444, 1600, 1764, 1936, 2116, 2304, 2500, 2704, 2916, 3136, 3364, 3600, 3844, 4096, 4356, 4624, 4900, 5184, 5476, 5776, 6084, 6400, 6724, 7056, 7396, 7744, 8100, 8464, 8836, 9216, 9604]\n"
     ]
    }
   ],
   "source": [
    "\n",
    "print( list(map(lambda x: x*x,list( filter(lambda x : x%2 == 0,range(1,100))))))"
   ]
  },
  {
   "cell_type": "markdown",
   "metadata": {},
   "source": [
    "### 44. next(iterator, default)\n",
    "The next() function returns the next item from the iterator.\n",
    "\n",
    "-The next() returns the next item from the iterator.\n",
    "If the iterator is exhausted, it returns default value (if provided).\n",
    "If the default parameter is omitted and iterator is exhausted, it raises StopIteration."
   ]
  },
  {
   "cell_type": "code",
   "execution_count": 20,
   "metadata": {},
   "outputs": [
    {
     "name": "stdout",
     "output_type": "stream",
     "text": [
      "<list_iterator object at 0x0000029C56BDB400>\n",
      "5\n",
      "9\n",
      "cat\n"
     ]
    },
    {
     "ename": "StopIteration",
     "evalue": "",
     "output_type": "error",
     "traceback": [
      "\u001b[1;31m---------------------------------------------------------------------------\u001b[0m",
      "\u001b[1;31mStopIteration\u001b[0m                             Traceback (most recent call last)",
      "\u001b[1;32m<ipython-input-20-5896228ee335>\u001b[0m in \u001b[0;36m<module>\u001b[1;34m()\u001b[0m\n\u001b[0;32m     16\u001b[0m \u001b[1;31m# This will raise Error\u001b[0m\u001b[1;33m\u001b[0m\u001b[1;33m\u001b[0m\u001b[0m\n\u001b[0;32m     17\u001b[0m \u001b[1;31m# iterator is exhausted\u001b[0m\u001b[1;33m\u001b[0m\u001b[1;33m\u001b[0m\u001b[0m\n\u001b[1;32m---> 18\u001b[1;33m \u001b[0mprint\u001b[0m\u001b[1;33m(\u001b[0m\u001b[0mnext\u001b[0m\u001b[1;33m(\u001b[0m\u001b[0mrandomIterator\u001b[0m\u001b[1;33m)\u001b[0m\u001b[1;33m)\u001b[0m\u001b[1;33m\u001b[0m\u001b[0m\n\u001b[0m",
      "\u001b[1;31mStopIteration\u001b[0m: "
     ]
    }
   ],
   "source": [
    "random = [5, 9, 'cat']\n",
    "\n",
    "# converting list to iterator\n",
    "randomIterator = iter(random)\n",
    "print(randomIterator)\n",
    "\n",
    "# Output: 5\n",
    "print(next(randomIterator))\n",
    "\n",
    "# Output: 9\n",
    "print(next(randomIterator))\n",
    "\n",
    "# Output: 'cat'\n",
    "print(next(randomIterator))\n",
    "\n",
    "# This will raise Error\n",
    "# iterator is exhausted\n",
    "print(next(randomIterator))"
   ]
  },
  {
   "cell_type": "code",
   "execution_count": 34,
   "metadata": {},
   "outputs": [
    {
     "name": "stdout",
     "output_type": "stream",
     "text": [
      "5\n",
      "9\n",
      "-1\n",
      "-1\n",
      "-1\n"
     ]
    }
   ],
   "source": [
    "random = [5, 9]\n",
    "\n",
    "# converting list to iterator\n",
    "randomIterator = iter(random)\n",
    "\n",
    "# Output: 5\n",
    "print(next(randomIterator, '-1'))\n",
    "\n",
    "# Output: 9\n",
    "print(next(randomIterator, '-1'))\n",
    "\n",
    "# randomIterator is exhausted\n",
    "# Output: '-1'\n",
    "print(next(randomIterator, '-1'))\n",
    "print(next(randomIterator, '-1'))\n",
    "print(next(randomIterator, '-1'))"
   ]
  },
  {
   "cell_type": "markdown",
   "metadata": {},
   "source": [
    "### 45. memoryview(obj)\n",
    "The memoryview() method returns a memory view object of the given argument."
   ]
  },
  {
   "cell_type": "markdown",
   "metadata": {},
   "source": [
    "obj - object whose internal data is to be exposed.\n",
    "obj must support buffer protocol (bytes, bytearray)"
   ]
  },
  {
   "cell_type": "markdown",
   "metadata": {},
   "source": [
    "> **buffer protocol** provides a way to access the internal data of an object. This internal data is a memory array or a buffer."
   ]
  },
  {
   "cell_type": "markdown",
   "metadata": {},
   "source": [
    ">**Memory view** is a safe way to expose the buffer protocol in Python.\n",
    "It allows you to access the internal buffers of an object by creating a memory view object."
   ]
  },
  {
   "cell_type": "markdown",
   "metadata": {},
   "source": [
    "We need to remember that whenever we perform some action on an object (call a function of an object, slice an array), we (or Python) need to create a copy of the object.\n",
    "\n",
    "If we have a large data to work with (eg. binary data of an image), we would unnecessarily create copies of huge chunks of data, which serves almost no use.\n",
    "\n",
    "Using buffer protocol, we can give another object access to use/modify the large data without copying it. This makes the program use less memory and increases the execution speed."
   ]
  },
  {
   "cell_type": "code",
   "execution_count": 44,
   "metadata": {},
   "outputs": [
    {
     "name": "stdout",
     "output_type": "stream",
     "text": [
      "65\n",
      "b'AB'\n",
      "[65, 66, 67]\n",
      "[65, 66, 67]\n"
     ]
    }
   ],
   "source": [
    "#random bytearray\n",
    "randomByteArray = bytearray('ABC', 'utf-8')\n",
    "\n",
    "mv = memoryview(randomByteArray)\n",
    "\n",
    "# access memory view's zeroth index\n",
    "print(mv[0])\n",
    "\n",
    "# create byte from memory view\n",
    "print(bytes(mv[0:2]))\n",
    "\n",
    "# create list from memory view\n",
    "print(list(mv[0:3]))\n",
    "\n",
    "# create list from memory view\n",
    "print(list(mv[:]))"
   ]
  },
  {
   "cell_type": "code",
   "execution_count": 45,
   "metadata": {},
   "outputs": [
    {
     "name": "stdout",
     "output_type": "stream",
     "text": [
      "Before updation: bytearray(b'ABC')\n",
      "After updation: bytearray(b'AZC')\n"
     ]
    }
   ],
   "source": [
    "#random bytearray\n",
    "randomByteArray = bytearray('ABC', 'utf-8')\n",
    "print('Before updation:', randomByteArray)\n",
    "\n",
    "mv = memoryview(randomByteArray)\n",
    "\n",
    "# update 1st index of mv to Z\n",
    "mv[1] = 90\n",
    "print('After updation:', randomByteArray)"
   ]
  },
  {
   "cell_type": "markdown",
   "metadata": {},
   "source": [
    "### 46. object()\n",
    "This returns a featureless object which is a base for all classes."
   ]
  },
  {
   "cell_type": "code",
   "execution_count": 46,
   "metadata": {},
   "outputs": [
    {
     "name": "stdout",
     "output_type": "stream",
     "text": [
      "<class 'object'>\n",
      "['__class__', '__delattr__', '__dir__', '__doc__', '__eq__', '__format__', '__ge__', '__getattribute__', '__gt__', '__hash__', '__init__', '__init_subclass__', '__le__', '__lt__', '__ne__', '__new__', '__reduce__', '__reduce_ex__', '__repr__', '__setattr__', '__sizeof__', '__str__', '__subclasshook__']\n"
     ]
    }
   ],
   "source": [
    "test = object()\n",
    "\n",
    "print(type(test))\n",
    "print(dir(test))\n"
   ]
  },
  {
   "cell_type": "markdown",
   "metadata": {},
   "source": [
    "### 47. oct(x)\n",
    "The oct() method takes an integer number and returns its octal representation. If the given number is an int, it must implement __index__() method to return an integer."
   ]
  },
  {
   "cell_type": "code",
   "execution_count": 47,
   "metadata": {},
   "outputs": [
    {
     "name": "stdout",
     "output_type": "stream",
     "text": [
      "oct(10) is: 0o12\n",
      "oct(0b101) is: 0o5\n",
      "oct(0XA) is: 0o12\n"
     ]
    }
   ],
   "source": [
    "# decimal number\n",
    "print('oct(10) is:', oct(10))\n",
    "\n",
    "# binary number\n",
    "print('oct(0b101) is:', oct(0b101))\n",
    "\n",
    "# hexadecimal number\n",
    "print('oct(0XA) is:', oct(0XA))"
   ]
  },
  {
   "cell_type": "code",
   "execution_count": 48,
   "metadata": {},
   "outputs": [
    {
     "name": "stdout",
     "output_type": "stream",
     "text": [
      "The oct is: 0o27\n"
     ]
    }
   ],
   "source": [
    "class Person:\n",
    "    age = 23\n",
    "\n",
    "    def __index__(self):\n",
    "        return self.age\n",
    "\n",
    "    def __int__(self):\n",
    "        return self.age\n",
    "\n",
    "person = Person()\n",
    "print('The oct is:', oct(person))"
   ]
  },
  {
   "cell_type": "markdown",
   "metadata": {},
   "source": [
    "### 48. ord(c)\n",
    "The ord() method returns an integer representing Unicode code point for the given Unicode character."
   ]
  },
  {
   "cell_type": "markdown",
   "metadata": {},
   "source": [
    ">The ord() method is the inverse of chr()."
   ]
  },
  {
   "cell_type": "code",
   "execution_count": 49,
   "metadata": {
    "scrolled": true
   },
   "outputs": [
    {
     "name": "stdout",
     "output_type": "stream",
     "text": [
      "53\n",
      "65\n",
      "36\n"
     ]
    }
   ],
   "source": [
    "# code point of integer\n",
    "print(ord('5'))\n",
    "\n",
    "# code point of alphabet \n",
    "print(ord('A'))\n",
    "\n",
    "# code point of character\n",
    "print(ord('$'))"
   ]
  },
  {
   "cell_type": "markdown",
   "metadata": {},
   "source": [
    "### 49. open(file, mode='r', buffering=-1, encoding=None, errors=None, newline=None, closefd=True, opener=None)\n",
    "\n",
    "\n",
    "The open() function opens the file (if possible) and returns a corresponding file object."
   ]
  },
  {
   "cell_type": "markdown",
   "metadata": {},
   "source": [
    "- file - path-like object (representing a file system path) giving the pathname\n",
    "- mode (optional) - mode while opening a file. If not provided, it defaults to 'r' (open for reading in text mode). Available file modes are:\n",
    "     - 'r'\tOpen a file for reading. (default)\n",
    "     - 'w'\tOpen a file for writing. Creates a new file if it does not exist or truncates the file if it exists.\n",
    "    - 'x'\tOpen a file for exclusive creation. If the file already exists, the operation fails.\n",
    "    - 'a'\tOpen for appending at the end of the file without truncating it. Creates a new file if it does not exist.\n",
    "    - 't'\tOpen in text mode. (default)\n",
    "    - 'b'\tOpen in binary mode.\n",
    "    - '+'\tOpen a file for updating (reading and writing)\n",
    "- buffering (optional) - used for setting buffering policy\n",
    "- encoding (optional) - name of the encoding to encode or decode the file\n",
    "- errors (optional) - string specifying how to handle encoding/decoding errors\n",
    "- newline​ (optional) - how newlines mode works (available values: None, ' ', '\\n', 'r', and '\\r\\n'\n",
    "- closefd (optional) - must be True (default) if given otherwise an exception will be raised\n",
    "- opener (optional) - a custom opener; must return an open file descriptor"
   ]
  },
  {
   "cell_type": "code",
   "execution_count": 60,
   "metadata": {},
   "outputs": [
    {
     "name": "stdout",
     "output_type": "stream",
     "text": [
      "<class '_io.TextIOWrapper'>\n",
      "['_CHUNK_SIZE', '__class__', '__del__', '__delattr__', '__dict__', '__dir__', '__doc__', '__enter__', '__eq__', '__exit__', '__format__', '__ge__', '__getattribute__', '__getstate__', '__gt__', '__hash__', '__init__', '__init_subclass__', '__iter__', '__le__', '__lt__', '__ne__', '__new__', '__next__', '__reduce__', '__reduce_ex__', '__repr__', '__setattr__', '__sizeof__', '__str__', '__subclasshook__', '_checkClosed', '_checkReadable', '_checkSeekable', '_checkWritable', '_finalizing', 'buffer', 'close', 'closed', 'detach', 'encoding', 'errors', 'fileno', 'flush', 'isatty', 'line_buffering', 'mode', 'name', 'newlines', 'read', 'readable', 'readline', 'readlines', 'seek', 'seekable', 'tell', 'truncate', 'writable', 'write', 'writelines']\n"
     ]
    }
   ],
   "source": [
    "# opens test.text file of the current directory\n",
    "f = open(\"copy.txt\")\n",
    "\n",
    "print(type(f))\n",
    "print(dir(f))\n",
    "\n",
    "f.close()"
   ]
  },
  {
   "cell_type": "markdown",
   "metadata": {},
   "source": [
    "### 50. pow(x, y[, z])\n",
    "the pow() method returns x to the power of y. If the third argument (z) is given, it returns x to the power of y modulus z, i.e. pow(x, y) % z.\n",
    "\n",
    ">The pow(x, y) is equivalent to: x ** y"
   ]
  },
  {
   "cell_type": "code",
   "execution_count": 54,
   "metadata": {},
   "outputs": [
    {
     "name": "stdout",
     "output_type": "stream",
     "text": [
      "4\n",
      "4\n",
      "0.25\n",
      "0.25\n"
     ]
    }
   ],
   "source": [
    "# positive x, positive y (x**y)\n",
    "print(pow(2, 2))\n",
    "\n",
    "# negative x, positive y\n",
    "print(pow(-2, 2))\n",
    "\n",
    "# positive x, negative y (x**-y)\n",
    "print(pow(2, -2))\n",
    "\n",
    "# negative x, negative y\n",
    "print(pow(-2, -2))"
   ]
  },
  {
   "cell_type": "code",
   "execution_count": 56,
   "metadata": {},
   "outputs": [
    {
     "name": "stdout",
     "output_type": "stream",
     "text": [
      "4\n",
      "4\n"
     ]
    }
   ],
   "source": [
    "x = 7\n",
    "y = 2\n",
    "z = 5\n",
    "print((x**y)%z)\n",
    "print(pow(x, y, z))"
   ]
  },
  {
   "cell_type": "markdown",
   "metadata": {},
   "source": [
    "### 51. print(*objects, sep=' ', end='\\n', file=sys.stdout, flush=False)\n",
    "\n",
    "The print() function prints the given object to the standard output device (screen) or to the text stream file.\n",
    "\n",
    "- objects - object to the printed. * indicates that there may be more than one object\n",
    "- sep - objects are separated by sep. Default value: ' '\n",
    "- end - end is printed at last\n",
    "- file - must be an object with write(string) method. If omitted it, sys.stdout will be used which prints objects on the screen.\n",
    "- flush - If True, the stream is forcibly flushed. Default value: False"
   ]
  },
  {
   "cell_type": "code",
   "execution_count": 57,
   "metadata": {},
   "outputs": [
    {
     "name": "stdout",
     "output_type": "stream",
     "text": [
      "Python is fun.\n",
      "a = 5\n",
      "a = 5 = b\n"
     ]
    }
   ],
   "source": [
    "print(\"Python is fun.\")\n",
    "\n",
    "a = 5\n",
    "# Two objects are passed\n",
    "print(\"a =\", a)\n",
    "\n",
    "b = a\n",
    "# Three objects are passed\n",
    "print('a =', a, '= b')"
   ]
  },
  {
   "cell_type": "code",
   "execution_count": 58,
   "metadata": {},
   "outputs": [
    {
     "name": "stdout",
     "output_type": "stream",
     "text": [
      "a =000005\n",
      "\n",
      "\n",
      "a =05"
     ]
    }
   ],
   "source": [
    "a = 5\n",
    "print(\"a =\", a, sep='00000', end='\\n\\n\\n')\n",
    "print(\"a =\", a, sep='0', end='')"
   ]
  },
  {
   "cell_type": "code",
   "execution_count": 63,
   "metadata": {},
   "outputs": [
    {
     "name": "stdout",
     "output_type": "stream",
     "text": [
      "Pretty cool, huh!\n",
      "\n"
     ]
    }
   ],
   "source": [
    "sourceFile = open('python.txt', 'w')\n",
    "print('Pretty cool, huh!', file = sourceFile)\n",
    "\n",
    "sourceFile.close()\n",
    "\n",
    "print( open('python.txt').read())\n"
   ]
  },
  {
   "cell_type": "markdown",
   "metadata": {},
   "source": [
    "### 52. property(fget=None, fset=None, fdel=None, doc=None)\n",
    "The property() method a returns a property attribute.\n",
    "\n",
    "##### property() Parameters\n",
    "- The property() method takes four optional parameters:\n",
    "\n",
    "    - fget (Optional) - function for getting the attribute value\n",
    "    - fset (Optional) - function for setting the attribute value\n",
    "    - fdel (Optional) - function for deleting the attribute value\n",
    "    - doc (Optional) - string that contains the documentation (docstring) for the attribute"
   ]
  },
  {
   "cell_type": "code",
   "execution_count": null,
   "metadata": {},
   "outputs": [],
   "source": []
  },
  {
   "cell_type": "code",
   "execution_count": 65,
   "metadata": {},
   "outputs": [
    {
     "name": "stdout",
     "output_type": "stream",
     "text": [
      "Getting name\n",
      "Adam\n",
      "Setting name to John\n"
     ]
    }
   ],
   "source": [
    "class Person:\n",
    "    def __init__(self, name):\n",
    "        self._name = name\n",
    "\n",
    "    def getName(self):\n",
    "        print('Getting name')\n",
    "        return self._name\n",
    "\n",
    "    def setName(self, value):\n",
    "        print('Setting name to ' + value)\n",
    "        self._name = value\n",
    "\n",
    "    def delName(self):\n",
    "        print('Deleting name')\n",
    "        del self._name\n",
    "\n",
    "    # Set property to use getName, setName\n",
    "    # and delName methods\n",
    "    name = property(getName, setName, delName, 'Name property')\n",
    "\n",
    "\n",
    "p = Person('Adam')\n",
    "print(p.name)\n",
    "\n",
    "p.name = 'John'\n"
   ]
  },
  {
   "cell_type": "code",
   "execution_count": 66,
   "metadata": {},
   "outputs": [
    {
     "name": "stdout",
     "output_type": "stream",
     "text": [
      "Getting name\n",
      "The name is: Adam\n",
      "Setting name to John\n",
      "Deleting name\n"
     ]
    }
   ],
   "source": [
    "class Person:\n",
    "    def __init__(self, name):\n",
    "        self._name = name\n",
    "\n",
    "    @property\n",
    "    def name(self):\n",
    "        print('Getting name')\n",
    "        return self._name\n",
    "\n",
    "    @name.setter\n",
    "    def name(self, value):\n",
    "        print('Setting name to ' + value)\n",
    "        self._name = value\n",
    "\n",
    "    @name.deleter\n",
    "    def name(self):\n",
    "        print('Deleting name')\n",
    "        del self._name\n",
    "\n",
    "p = Person('Adam')\n",
    "print('The name is:', p.name)\n",
    "\n",
    "p.name = 'John'\n",
    "\n",
    "del p.name"
   ]
  },
  {
   "cell_type": "markdown",
   "metadata": {},
   "source": [
    "### 53. range(stop)\n",
    "### range(start, stop[, step])\n",
    "\n",
    "The range() type returns an immutable sequence of numbers between the given start integer to the stop integer.\n",
    "\n",
    "- (If no step) Step defaults to 1. Returns a sequence of numbers starting from start and ending at stop - 1.\n",
    "- (if step is zero) Raises a ValueError exception\n",
    "- (if step is non-zero) Checks if the value constraint is met and returns a sequence according to the formula\n",
    "If it doesn't meet the value constraint, Empty sequence is returned.\n"
   ]
  },
  {
   "cell_type": "code",
   "execution_count": 67,
   "metadata": {
    "scrolled": true
   },
   "outputs": [
    {
     "name": "stdout",
     "output_type": "stream",
     "text": [
      "[]\n",
      "[0, 1, 2, 3, 4, 5, 6, 7, 8, 9]\n",
      "[1, 2, 3, 4, 5, 6, 7, 8, 9]\n"
     ]
    }
   ],
   "source": [
    "# empty range\n",
    "print(list(range(0)))\n",
    "\n",
    "# using range(stop)\n",
    "print(list(range(10)))\n",
    "\n",
    "# using range(start, stop)\n",
    "print(list(range(1, 10)))"
   ]
  },
  {
   "cell_type": "code",
   "execution_count": 68,
   "metadata": {},
   "outputs": [
    {
     "name": "stdout",
     "output_type": "stream",
     "text": [
      "[2, 4, 6, 8, 10, 12]\n"
     ]
    }
   ],
   "source": [
    "start = 2\n",
    "stop = 14\n",
    "step = 2\n",
    "\n",
    "print(list(range(start, stop, step)))"
   ]
  },
  {
   "cell_type": "code",
   "execution_count": 69,
   "metadata": {},
   "outputs": [
    {
     "name": "stdout",
     "output_type": "stream",
     "text": [
      "[2, 0, -2, -4, -6, -8, -10, -12]\n",
      "[]\n"
     ]
    }
   ],
   "source": [
    "start = 2\n",
    "stop = -14\n",
    "step = -2\n",
    "\n",
    "print(list(range(start, stop, step)))\n",
    "\n",
    "# value constraint not met\n",
    "print(list(range(start, 14, step)))"
   ]
  },
  {
   "cell_type": "markdown",
   "metadata": {},
   "source": [
    "### 54.repr(obj)\n",
    "The repr() method returns a printable representation of the given object.\n",
    "\n",
    "\n",
    "- The repr() method returns a printable representational string of the given object.\n",
    "- It returns a string that would yield an object with the same value when passed to eval().\n",
    "- eval(repr(obj)) = obj (approximation that holds true for most of built-in types)"
   ]
  },
  {
   "cell_type": "code",
   "execution_count": 70,
   "metadata": {},
   "outputs": [
    {
     "data": {
      "text/plain": [
       "\"'foo'\""
      ]
     },
     "execution_count": 70,
     "metadata": {},
     "output_type": "execute_result"
    }
   ],
   "source": [
    "var = 'foo'\n",
    "\n",
    "repr(var)"
   ]
  },
  {
   "cell_type": "code",
   "execution_count": 71,
   "metadata": {},
   "outputs": [
    {
     "data": {
      "text/plain": [
       "\"'Adam'\""
      ]
     },
     "execution_count": 71,
     "metadata": {},
     "output_type": "execute_result"
    }
   ],
   "source": [
    "class Person:\n",
    "    name = 'Adam'\n",
    "\n",
    "    def __repr__(self):\n",
    "        return repr(self.name)\n",
    "\n",
    "repr(Person())"
   ]
  },
  {
   "cell_type": "markdown",
   "metadata": {},
   "source": [
    "### 55. reversed(seq)\n",
    "\n",
    "The reversed() method returns the reversed iterator of the given sequence."
   ]
  },
  {
   "cell_type": "code",
   "execution_count": 73,
   "metadata": {
    "scrolled": true
   },
   "outputs": [
    {
     "name": "stdout",
     "output_type": "stream",
     "text": [
      "<class 'reversed'>\n"
     ]
    }
   ],
   "source": [
    "print(type(reversed('niket')))"
   ]
  },
  {
   "cell_type": "code",
   "execution_count": 74,
   "metadata": {},
   "outputs": [
    {
     "name": "stdout",
     "output_type": "stream",
     "text": [
      "['__class__', '__delattr__', '__dir__', '__doc__', '__eq__', '__format__', '__ge__', '__getattribute__', '__gt__', '__hash__', '__init__', '__init_subclass__', '__iter__', '__le__', '__length_hint__', '__lt__', '__ne__', '__new__', '__next__', '__reduce__', '__reduce_ex__', '__repr__', '__setattr__', '__setstate__', '__sizeof__', '__str__', '__subclasshook__']\n"
     ]
    }
   ],
   "source": [
    "print(dir(reversed('niket')))"
   ]
  },
  {
   "cell_type": "code",
   "execution_count": 72,
   "metadata": {},
   "outputs": [
    {
     "name": "stdout",
     "output_type": "stream",
     "text": [
      "['n', 'o', 'h', 't', 'y', 'P']\n",
      "['n', 'o', 'h', 't', 'y', 'P']\n",
      "[8, 7, 6, 5]\n",
      "[5, 3, 4, 2, 1]\n"
     ]
    }
   ],
   "source": [
    "# for string\n",
    "seqString = 'Python'\n",
    "print(list(reversed(seqString)))\n",
    "\n",
    "# for tuple\n",
    "seqTuple = ('P', 'y', 't', 'h', 'o', 'n')\n",
    "print(list(reversed(seqTuple)))\n",
    "\n",
    "# for range\n",
    "seqRange = range(5, 9)\n",
    "print(list(reversed(seqRange)))\n",
    "\n",
    "# for list\n",
    "seqList = [1, 2, 4, 3, 5]\n",
    "print(list(reversed(seqList)))"
   ]
  },
  {
   "cell_type": "code",
   "execution_count": 75,
   "metadata": {},
   "outputs": [
    {
     "name": "stdout",
     "output_type": "stream",
     "text": [
      "['u', 'o', 'i', 'e', 'a']\n"
     ]
    }
   ],
   "source": [
    "class Vowels:\n",
    "    vowels = ['a', 'e', 'i', 'o', 'u']\n",
    "\n",
    "    def __reversed__(self):\n",
    "        return reversed(self.vowels)\n",
    "\n",
    "v = Vowels()\n",
    "print(list(reversed(v)))"
   ]
  },
  {
   "cell_type": "markdown",
   "metadata": {},
   "source": [
    "### 56. round(number[, ndigits])\n",
    "\n",
    "The round() method returns the floating point number rounded off to the given ndigits digits after the decimal point. If no ndigits is provided, it rounds off the number to the nearest integer."
   ]
  },
  {
   "cell_type": "code",
   "execution_count": 76,
   "metadata": {},
   "outputs": [
    {
     "name": "stdout",
     "output_type": "stream",
     "text": [
      "10\n",
      "11\n",
      "6\n"
     ]
    }
   ],
   "source": [
    "# for integers\n",
    "print(round(10))\n",
    "\n",
    "# for floating point\n",
    "print(round(10.7))\n",
    "\n",
    "# even choice\n",
    "print(round(5.5))"
   ]
  },
  {
   "cell_type": "code",
   "execution_count": 77,
   "metadata": {},
   "outputs": [
    {
     "name": "stdout",
     "output_type": "stream",
     "text": [
      "2.67\n",
      "2.67\n"
     ]
    }
   ],
   "source": [
    "print(round(2.665, 2))\n",
    "\n",
    "# cannot be represented exactly as float\n",
    "print(round(2.675, 2))"
   ]
  },
  {
   "cell_type": "markdown",
   "metadata": {},
   "source": [
    "> Here, both numbers result to the same output 2.67, when 2.675 should have been rounded to 2.68.\n",
    "This isn't a bug but it is because, most decimal numbers cannot be represented exactly as a float."
   ]
  },
  {
   "cell_type": "markdown",
   "metadata": {},
   "source": [
    "### 57. set([iterable])\n",
    "The set() constructor constructs a Python set from the given iterable and returns it.\n"
   ]
  },
  {
   "cell_type": "code",
   "execution_count": 1,
   "metadata": {},
   "outputs": [
    {
     "name": "stdout",
     "output_type": "stream",
     "text": [
      "set()\n",
      "{'o', 'P', 'y', 'n', 'h', 't'}\n",
      "{'o', 'e', 'i', 'u', 'a'}\n",
      "{'o', 'e', 'i', 'u', 'a'}\n",
      "{0, 1, 2, 3, 4}\n"
     ]
    }
   ],
   "source": [
    "# empty set\n",
    "print(set())\n",
    "\n",
    "# from string\n",
    "print(set('Python'))\n",
    "\n",
    "# from tuple\n",
    "print(set(('a', 'e', 'i', 'o', 'u')))\n",
    "\n",
    "# from list\n",
    "print(set(['a', 'e', 'i', 'o', 'u']))\n",
    "\n",
    "# from range\n",
    "print(set(range(5)))"
   ]
  },
  {
   "cell_type": "markdown",
   "metadata": {},
   "source": [
    "### 58. setattr(object, name, value)\n",
    "\n",
    "The setattr() method sets the value of given attribute of an object.\n",
    "    - object - object whose attribute has to be set\n",
    "    - name - string which contains the name of the attribute to be set\n",
    "    - value - value of the attribute to be set"
   ]
  },
  {
   "cell_type": "code",
   "execution_count": 2,
   "metadata": {},
   "outputs": [
    {
     "name": "stdout",
     "output_type": "stream",
     "text": [
      "Before modification: Adam\n",
      "After modification: John\n"
     ]
    }
   ],
   "source": [
    "class Person:\n",
    "    name = 'Adam'\n",
    "    \n",
    "p = Person()\n",
    "print('Before modification:', p.name)\n",
    "\n",
    "# setting name to 'John'\n",
    "setattr(p, 'name', 'John')\n",
    "\n",
    "print('After modification:', p.name)"
   ]
  },
  {
   "cell_type": "markdown",
   "metadata": {},
   "source": [
    "If the attribute is not found, setattr() creates a new attribute by the given name and value.\n",
    "\n",
    "However, this is only possible if the object implements __dict__() method.\n",
    "\n",
    "You can check if it does by using dir() method."
   ]
  },
  {
   "cell_type": "code",
   "execution_count": 6,
   "metadata": {},
   "outputs": [
    {
     "name": "stdout",
     "output_type": "stream",
     "text": [
      "Name is: None\n",
      "Age is: 23\n",
      "['__class__', '__delattr__', '__dict__', '__dir__', '__doc__', '__eq__', '__format__', '__ge__', '__getattribute__', '__gt__', '__hash__', '__init__', '__init_subclass__', '__le__', '__lt__', '__module__', '__ne__', '__new__', '__reduce__', '__reduce_ex__', '__repr__', '__setattr__', '__sizeof__', '__str__', '__subclasshook__', '__weakref__', 'age', 'name']\n",
      "['__class__', '__delattr__', '__dict__', '__dir__', '__doc__', '__eq__', '__format__', '__ge__', '__getattribute__', '__gt__', '__hash__', '__init__', '__init_subclass__', '__le__', '__lt__', '__module__', '__ne__', '__new__', '__reduce__', '__reduce_ex__', '__repr__', '__setattr__', '__sizeof__', '__str__', '__subclasshook__', '__weakref__', 'name']\n"
     ]
    }
   ],
   "source": [
    "class Person:\n",
    "    name = 'Adam'\n",
    "    \n",
    "p = Person()\n",
    "\n",
    "# setting attribute name to None\n",
    "setattr(p, 'name', None)\n",
    "print('Name is:', p.name)\n",
    "\n",
    "# setting an attribute not present\n",
    "# in Person\n",
    "setattr(p, 'age', 23)\n",
    "print('Age is:', p.age)\n",
    "\n",
    "print(dir (p))\n",
    "\n",
    "p1 = Person()\n",
    "\n",
    "print(dir (p1))\n"
   ]
  },
  {
   "cell_type": "markdown",
   "metadata": {},
   "source": [
    "### 59. slice(stop)\n",
    "### slice(start, stop, step)\n",
    "The slice() constructor creates a slice object representing the set of indices specified by range(start, stop, step)."
   ]
  },
  {
   "cell_type": "code",
   "execution_count": 7,
   "metadata": {},
   "outputs": [
    {
     "name": "stdout",
     "output_type": "stream",
     "text": [
      "slice(None, 3, None)\n",
      "slice(1, 5, 2)\n"
     ]
    }
   ],
   "source": [
    "# contains indices (0, 1, 2)\n",
    "print(slice(3))\n",
    "\n",
    "# contains indices (1, 3)\n",
    "print(slice(1, 5, 2))"
   ]
  },
  {
   "cell_type": "code",
   "execution_count": 8,
   "metadata": {},
   "outputs": [
    {
     "name": "stdout",
     "output_type": "stream",
     "text": [
      "Pyt\n",
      "yh\n"
     ]
    }
   ],
   "source": [
    "pyString = 'Python'\n",
    "\n",
    "# contains indices (0, 1, 2)\n",
    "# i.e. P, y and t\n",
    "sObject = slice(3)\n",
    "\n",
    "print(pyString[sObject])\n",
    "\n",
    "# contains indices (1, 3)\n",
    "# i.e. y and h\n",
    "sObject = slice(1, 5, 2)\n",
    "\n",
    "print(pyString[sObject])"
   ]
  },
  {
   "cell_type": "code",
   "execution_count": 10,
   "metadata": {},
   "outputs": [
    {
     "name": "stdout",
     "output_type": "stream",
     "text": [
      "noh\n"
     ]
    }
   ],
   "source": [
    "pyString = 'Python'\n",
    "\n",
    "# contains indices (-1, -2, -3)\n",
    "# i.e. n, o and h\n",
    "sObject = slice(-1, -4, -1)\n",
    "\n",
    "print(pyString[sObject])"
   ]
  },
  {
   "cell_type": "code",
   "execution_count": 11,
   "metadata": {},
   "outputs": [
    {
     "name": "stdout",
     "output_type": "stream",
     "text": [
      "['P', 'y', 't']\n",
      "('y', 'h')\n"
     ]
    }
   ],
   "source": [
    "pyList = ['P', 'y', 't', 'h', 'o', 'n']\n",
    "pyTuple = ('P', 'y', 't', 'h', 'o', 'n')\n",
    "\n",
    "# contains indices (0, 1, 2)\n",
    "# i.e. P, y and t\n",
    "sObject = slice(3)\n",
    "\n",
    "# slice a list\n",
    "print(pyList[sObject])\n",
    "\n",
    "# contains indices (1, 3)\n",
    "# i.e. y and h\n",
    "sObject = slice(1, 5, 2)\n",
    "\n",
    "# slice a tuple\n",
    "print(pyTuple[sObject])"
   ]
  },
  {
   "cell_type": "code",
   "execution_count": 12,
   "metadata": {},
   "outputs": [
    {
     "name": "stdout",
     "output_type": "stream",
     "text": [
      "['n', 'o', 'h']\n",
      "('n', 'h')\n"
     ]
    }
   ],
   "source": [
    "pyList = ['P', 'y', 't', 'h', 'o', 'n']\n",
    "pyTuple = ('P', 'y', 't', 'h', 'o', 'n')\n",
    "\n",
    "# contains indices (-1, -2, -3)\n",
    "# i.e. n, o and h\n",
    "sObject = slice(-1, -4, -1)\n",
    "\n",
    "# slice a list\n",
    "print(pyList[sObject])\n",
    "\n",
    "# contains indices (-1, -3)\n",
    "# i.e. n and h\n",
    "sObject = slice(-1, -5, -2)\n",
    "\n",
    "# slice a tuple\n",
    "print(pyTuple[sObject])"
   ]
  },
  {
   "cell_type": "code",
   "execution_count": 13,
   "metadata": {},
   "outputs": [
    {
     "name": "stdout",
     "output_type": "stream",
     "text": [
      "Pyt\n",
      "yh\n"
     ]
    }
   ],
   "source": [
    "pyString = 'Python'\n",
    "\n",
    "# contains indices (0, 1, 2)\n",
    "# i.e. P, y and t\n",
    "print(pyString[0:3])\n",
    "\n",
    "# contains indices (1, 3)\n",
    "# i.e. y and h\n",
    "print(pyString[1:5:2])"
   ]
  },
  {
   "cell_type": "markdown",
   "metadata": {},
   "source": [
    "### 60. sorted(iterable[, key][, reverse])\n",
    "The sorted() method sorts the elements of a given iterable in a specific order - Ascending or Descending.\n",
    "    - iterable - sequence (string, tuple, list) or collection (set, dictionary, frozen set) or any iterator \n",
    "    - reverse (Optional) - If true, the sorted list is reversed (or sorted in Descending order)\n",
    "    - key (Optional) - function that serves as a key for the sort comparison"
   ]
  },
  {
   "cell_type": "code",
   "execution_count": 14,
   "metadata": {},
   "outputs": [
    {
     "name": "stdout",
     "output_type": "stream",
     "text": [
      "['a', 'e', 'i', 'o', 'u']\n",
      "['P', 'h', 'n', 'o', 't', 'y']\n",
      "['a', 'e', 'i', 'o', 'u']\n"
     ]
    }
   ],
   "source": [
    "# vowels list\n",
    "pyList = ['e', 'a', 'u', 'o', 'i']\n",
    "print(sorted(pyList))\n",
    "\n",
    "# string \n",
    "pyString = 'Python'\n",
    "print(sorted(pyString))\n",
    "\n",
    "# vowels tuple\n",
    "pyTuple = ('e', 'a', 'u', 'o', 'i')\n",
    "print(sorted(pyTuple))"
   ]
  },
  {
   "cell_type": "code",
   "execution_count": 15,
   "metadata": {},
   "outputs": [
    {
     "name": "stdout",
     "output_type": "stream",
     "text": [
      "['u', 'o', 'i', 'e', 'a']\n",
      "['u', 'o', 'i', 'e', 'a']\n",
      "['u', 'o', 'i', 'e', 'a']\n"
     ]
    }
   ],
   "source": [
    "# set\n",
    "pySet = {'e', 'a', 'u', 'o', 'i'}\n",
    "print(sorted(pySet, reverse=True))\n",
    "\n",
    "# dictionary\n",
    "pyDict = {'e': 1, 'a': 2, 'u': 3, 'o': 4, 'i': 5}\n",
    "print(sorted(pyDict, reverse=True))\n",
    "\n",
    "# frozen set\n",
    "pyFSet = frozenset(('e', 'a', 'u', 'o', 'i'))\n",
    "print(sorted(pyFSet, reverse=True))"
   ]
  },
  {
   "cell_type": "code",
   "execution_count": 16,
   "metadata": {},
   "outputs": [
    {
     "name": "stdout",
     "output_type": "stream",
     "text": [
      "Sorted list: [(4, 1), (2, 2), (1, 3), (3, 4)]\n"
     ]
    }
   ],
   "source": [
    "# take second element for sort\n",
    "def takeSecond(elem):\n",
    "    return elem[1]\n",
    "\n",
    "# random list\n",
    "random = [(2, 2), (3, 4), (4, 1), (1, 3)]\n",
    "\n",
    "# sort list with key\n",
    "sortedList = sorted(random, key=takeSecond)\n",
    "\n",
    "# print list\n",
    "print('Sorted list:', sortedList)"
   ]
  },
  {
   "cell_type": "markdown",
   "metadata": {},
   "source": [
    "### 61. str(object='')\n",
    "### str(object=b'', encoding='utf-8', errors='strict')\n",
    "\n",
    "The str() method returns the \"informal\" or nicely printable representation of a given object.\n",
    "\n",
    "    - object - object whose informal representation is to be returned\n",
    "    - encoding - Defaults of UTF-8. Encoding of the given object\n",
    "    - errors - response when decoding fails. There are six types of error response\n",
    "    - strict - default response which raises a UnicodeDecodeError exception on failure\n",
    "    - ignore - ignores the unencodable unicode from the result\n",
    "    - replace - replaces the unencodable unicode to a question mark ?\n",
    "    - xmlcharrefreplace - inserts XML character reference instead of unencodable unicode\n",
    "    - backslashreplace - inserts a \\uNNNN espace sequence instead of unencodable unicode\n",
    "    - namereplace - inserts a \\N{...} escape sequence instead of unencodable unicode"
   ]
  },
  {
   "cell_type": "code",
   "execution_count": 17,
   "metadata": {},
   "outputs": [
    {
     "data": {
      "text/plain": [
       "'10'"
      ]
     },
     "execution_count": 17,
     "metadata": {},
     "output_type": "execute_result"
    }
   ],
   "source": [
    "str('10')"
   ]
  },
  {
   "cell_type": "code",
   "execution_count": 18,
   "metadata": {},
   "outputs": [
    {
     "name": "stdout",
     "output_type": "stream",
     "text": [
      "pythn\n"
     ]
    }
   ],
   "source": [
    "# bytes\n",
    "b = bytes('pythön', encoding='utf-8')\n",
    "\n",
    "print(str(b, encoding='ascii', errors='ignore'))"
   ]
  },
  {
   "cell_type": "markdown",
   "metadata": {},
   "source": [
    "### 62. sum(iterable, start)\n",
    "\n",
    "The sum() function adds the items of an iterable and returns the sum."
   ]
  },
  {
   "cell_type": "code",
   "execution_count": 19,
   "metadata": {},
   "outputs": [
    {
     "name": "stdout",
     "output_type": "stream",
     "text": [
      "4.5\n",
      "14.5\n"
     ]
    }
   ],
   "source": [
    "numbers = [2.5, 3, 4, -5]\n",
    "\n",
    "# start parameter is not provided\n",
    "numbersSum = sum(numbers)\n",
    "print(numbersSum)\n",
    "\n",
    "# start = 10\n",
    "numbersSum = sum(numbers, 10)\n",
    "print(numbersSum)"
   ]
  },
  {
   "cell_type": "markdown",
   "metadata": {},
   "source": [
    "### 63. tuple(iterable)\n",
    "The tuple() built-in is used to create a tuple in Python."
   ]
  },
  {
   "cell_type": "code",
   "execution_count": 20,
   "metadata": {
    "scrolled": true
   },
   "outputs": [
    {
     "name": "stdout",
     "output_type": "stream",
     "text": [
      "t1= ()\n",
      "t2= (1, 4, 6)\n",
      "t1= ('P', 'y', 't', 'h', 'o', 'n')\n",
      "t1= (1, 2)\n"
     ]
    }
   ],
   "source": [
    "t1 = tuple()\n",
    "print('t1=', t1)\n",
    "\n",
    "# creating a tuple from a list\n",
    "t2 = tuple([1, 4, 6])\n",
    "print('t2=', t2)\n",
    "\n",
    "# creating a tuple from a string\n",
    "t1 = tuple('Python')\n",
    "print('t1=',t1)\n",
    "\n",
    "# creating a tuple from a dictionary\n",
    "t1 = tuple({1: 'one', 2: 'two'})\n",
    "print('t1=',t1)"
   ]
  },
  {
   "cell_type": "markdown",
   "metadata": {},
   "source": [
    "### 64. vars(object)\n",
    "\n",
    "The vars() function returns the __dict__ attribute of the given object if the object has __dict__ attribute."
   ]
  },
  {
   "cell_type": "code",
   "execution_count": 22,
   "metadata": {},
   "outputs": [
    {
     "name": "stdout",
     "output_type": "stream",
     "text": [
      "{'a': 5, 'b': 10}\n"
     ]
    }
   ],
   "source": [
    "class Foo:\n",
    "  def __init__(self, a = 5, b = 10):\n",
    "    self.a = a\n",
    "    self.b = b\n",
    "  \n",
    "InstanceOfFoo = Foo()\n",
    "print(vars(InstanceOfFoo))"
   ]
  },
  {
   "cell_type": "code",
   "execution_count": 25,
   "metadata": {},
   "outputs": [
    {
     "data": {
      "text/plain": [
       "mappingproxy({'__repr__': <slot wrapper '__repr__' of 'list' objects>,\n",
       "              '__hash__': None,\n",
       "              '__getattribute__': <slot wrapper '__getattribute__' of 'list' objects>,\n",
       "              '__lt__': <slot wrapper '__lt__' of 'list' objects>,\n",
       "              '__le__': <slot wrapper '__le__' of 'list' objects>,\n",
       "              '__eq__': <slot wrapper '__eq__' of 'list' objects>,\n",
       "              '__ne__': <slot wrapper '__ne__' of 'list' objects>,\n",
       "              '__gt__': <slot wrapper '__gt__' of 'list' objects>,\n",
       "              '__ge__': <slot wrapper '__ge__' of 'list' objects>,\n",
       "              '__iter__': <slot wrapper '__iter__' of 'list' objects>,\n",
       "              '__init__': <slot wrapper '__init__' of 'list' objects>,\n",
       "              '__len__': <slot wrapper '__len__' of 'list' objects>,\n",
       "              '__getitem__': <method '__getitem__' of 'list' objects>,\n",
       "              '__setitem__': <slot wrapper '__setitem__' of 'list' objects>,\n",
       "              '__delitem__': <slot wrapper '__delitem__' of 'list' objects>,\n",
       "              '__add__': <slot wrapper '__add__' of 'list' objects>,\n",
       "              '__mul__': <slot wrapper '__mul__' of 'list' objects>,\n",
       "              '__rmul__': <slot wrapper '__rmul__' of 'list' objects>,\n",
       "              '__contains__': <slot wrapper '__contains__' of 'list' objects>,\n",
       "              '__iadd__': <slot wrapper '__iadd__' of 'list' objects>,\n",
       "              '__imul__': <slot wrapper '__imul__' of 'list' objects>,\n",
       "              '__new__': <function list.__new__(*args, **kwargs)>,\n",
       "              '__reversed__': <method '__reversed__' of 'list' objects>,\n",
       "              '__sizeof__': <method '__sizeof__' of 'list' objects>,\n",
       "              'clear': <method 'clear' of 'list' objects>,\n",
       "              'copy': <method 'copy' of 'list' objects>,\n",
       "              'append': <method 'append' of 'list' objects>,\n",
       "              'insert': <method 'insert' of 'list' objects>,\n",
       "              'extend': <method 'extend' of 'list' objects>,\n",
       "              'pop': <method 'pop' of 'list' objects>,\n",
       "              'remove': <method 'remove' of 'list' objects>,\n",
       "              'index': <method 'index' of 'list' objects>,\n",
       "              'count': <method 'count' of 'list' objects>,\n",
       "              'reverse': <method 'reverse' of 'list' objects>,\n",
       "              'sort': <method 'sort' of 'list' objects>,\n",
       "              '__doc__': \"list() -> new empty list\\nlist(iterable) -> new list initialized from iterable's items\"})"
      ]
     },
     "execution_count": 25,
     "metadata": {},
     "output_type": "execute_result"
    }
   ],
   "source": [
    "vars(list)"
   ]
  },
  {
   "cell_type": "markdown",
   "metadata": {},
   "source": [
    "### 65. zip(*iterables)\n",
    "\n",
    "The zip() function take iterables (can be zero or more), makes iterator that aggregates elements based on the iterables passed, and returns an iterator of tuples."
   ]
  },
  {
   "cell_type": "code",
   "execution_count": 29,
   "metadata": {
    "scrolled": true
   },
   "outputs": [
    {
     "name": "stdout",
     "output_type": "stream",
     "text": [
      "<class 'zip'>\n"
     ]
    }
   ],
   "source": [
    "print(type(zip()))"
   ]
  },
  {
   "cell_type": "code",
   "execution_count": 30,
   "metadata": {},
   "outputs": [
    {
     "name": "stdout",
     "output_type": "stream",
     "text": [
      "['__class__', '__delattr__', '__dir__', '__doc__', '__eq__', '__format__', '__ge__', '__getattribute__', '__gt__', '__hash__', '__init__', '__init_subclass__', '__iter__', '__le__', '__lt__', '__ne__', '__new__', '__next__', '__reduce__', '__reduce_ex__', '__repr__', '__setattr__', '__sizeof__', '__str__', '__subclasshook__']\n"
     ]
    }
   ],
   "source": [
    "print(dir(zip))"
   ]
  },
  {
   "cell_type": "code",
   "execution_count": 28,
   "metadata": {
    "scrolled": true
   },
   "outputs": [
    {
     "name": "stdout",
     "output_type": "stream",
     "text": [
      "[]\n",
      "{(3, 'three'), (2, 'two'), (1, 'one')}\n"
     ]
    }
   ],
   "source": [
    "numberList = [1, 2, 3]\n",
    "strList = ['one', 'two', 'three']\n",
    "\n",
    "# No iterables are passed\n",
    "result = zip()\n",
    "\n",
    "# Converting itertor to list\n",
    "resultList = list(result)\n",
    "print(resultList)\n",
    "\n",
    "# Two iterables are passed\n",
    "result = zip(numberList, strList)\n",
    "\n",
    "# Converting itertor to set\n",
    "resultSet = set(result)\n",
    "print(resultSet)"
   ]
  },
  {
   "cell_type": "code",
   "execution_count": 31,
   "metadata": {},
   "outputs": [
    {
     "name": "stdout",
     "output_type": "stream",
     "text": [
      "{(2, 'TWO'), (1, 'ONE'), (3, 'THREE')}\n"
     ]
    }
   ],
   "source": [
    "numbersList = [1, 2, 3]\n",
    "strList = ['one', 'two']\n",
    "numbersTuple = ('ONE', 'TWO', 'THREE', 'FOUR')\n",
    "\n",
    "result = zip(numbersList, numbersTuple)\n",
    "\n",
    "# Converting to set\n",
    "resultSet = set(result)\n",
    "print(resultSet)\n",
    "\n",
    "result = zip(numbersList, strList, numbersTuple)\n",
    "\n",
    "# Converting to set\n",
    "resultSet = set(result)"
   ]
  },
  {
   "cell_type": "code",
   "execution_count": 32,
   "metadata": {},
   "outputs": [
    {
     "name": "stdout",
     "output_type": "stream",
     "text": [
      "[('x', 3), ('y', 4), ('z', 5)]\n",
      "c = ('x', 'y', 'z')\n",
      "v = (3, 4, 5)\n"
     ]
    }
   ],
   "source": [
    "coordinate = ['x', 'y', 'z']\n",
    "value = [3, 4, 5, 0, 9]\n",
    "\n",
    "result = zip(coordinate, value)\n",
    "resultList = list(result)\n",
    "print(resultList)\n",
    "\n",
    "c, v =  zip(*resultList)\n",
    "print('c =', c)\n",
    "print('v =', v)"
   ]
  },
  {
   "cell_type": "markdown",
   "metadata": {},
   "source": [
    "66. __import__(name, globals=None, locals=None, fromlist=(), level=0)\n",
    "\n",
    "The __import__() is an advanced function that is called by the import statement.\n",
    "   \n",
    "   - name - name of the module you want to import\n",
    "   - globals and locals - determines how to interpert name\n",
    "   - fromlist - objects or submodules that should be imported by name\n",
    "   - level - specifies whether to use absolute or relative imports"
   ]
  },
  {
   "cell_type": "code",
   "execution_count": 33,
   "metadata": {},
   "outputs": [
    {
     "name": "stdout",
     "output_type": "stream",
     "text": [
      "2.5\n"
     ]
    }
   ],
   "source": [
    "mathematics = __import__('math', globals(), locals(), [], 0)\n",
    "\n",
    "print(mathematics.fabs(-2.5))"
   ]
  },
  {
   "cell_type": "markdown",
   "metadata": {},
   "source": [
    "### 67. super()\n",
    "The super() builtin returns a proxy object that allows you to refer parent class by 'super'.\n",
    "\n",
    "In Python, super() built-in has two major use cases:\n",
    "\n",
    "        - Allows us to avoid using base class explicitly\n",
    "        - Working with Multiple Inheritance"
   ]
  },
  {
   "cell_type": "code",
   "execution_count": 1,
   "metadata": {},
   "outputs": [
    {
     "name": "stdout",
     "output_type": "stream",
     "text": [
      "Dog has four legs.\n",
      "Dog is a warm-blooded animal.\n"
     ]
    }
   ],
   "source": [
    "class Mammal(object):\n",
    "  def __init__(self, mammalName):\n",
    "    print(mammalName, 'is a warm-blooded animal.')\n",
    "    \n",
    "class Dog(Mammal):\n",
    "  def __init__(self):\n",
    "    print('Dog has four legs.')\n",
    "    super().__init__('Dog')\n",
    "    \n",
    "d1 = Dog()"
   ]
  },
  {
   "cell_type": "code",
   "execution_count": 3,
   "metadata": {},
   "outputs": [
    {
     "name": "stdout",
     "output_type": "stream",
     "text": [
      "Dog has 4 legs.\n",
      "Dog can't swim.\n",
      "Dog can't fly.\n",
      "Dog is a warm-blooded animal.\n",
      "Dog is an animal.\n",
      "\n",
      "Bat can't swim.\n",
      "Bat is a warm-blooded animal.\n",
      "Bat is an animal.\n"
     ]
    }
   ],
   "source": [
    "class Animal:\n",
    "  def __init__(self, animalName):\n",
    "    print(animalName, 'is an animal.');\n",
    "\n",
    "class Mammal(Animal):\n",
    "  def __init__(self, mammalName):\n",
    "    print(mammalName, 'is a warm-blooded animal.')\n",
    "    super().__init__(mammalName)\n",
    "    \n",
    "class NonWingedMammal(Mammal):\n",
    "  def __init__(self, NonWingedMammalName):\n",
    "    print(NonWingedMammalName, \"can't fly.\")\n",
    "    super().__init__(NonWingedMammalName)\n",
    "\n",
    "class NonMarineMammal(Mammal):\n",
    "  def __init__(self, NonMarineMammalName):\n",
    "    print(NonMarineMammalName, \"can't swim.\")\n",
    "    super().__init__(NonMarineMammalName)\n",
    "\n",
    "class Dog(NonMarineMammal, NonWingedMammal):\n",
    "  def __init__(self):\n",
    "    print('Dog has 4 legs.');\n",
    "    super().__init__('Dog')\n",
    "    \n",
    "d = Dog()\n",
    "print('')\n",
    "\n",
    "\n",
    "bat = NonMarineMammal('Bat') "
   ]
  },
  {
   "cell_type": "markdown",
   "metadata": {},
   "source": [
    "#### ______________________________Method Resolution Order (MRO)__________________________________________________"
   ]
  },
  {
   "cell_type": "code",
   "execution_count": 4,
   "metadata": {},
   "outputs": [
    {
     "data": {
      "text/plain": [
       "(__main__.Dog,\n",
       " __main__.NonMarineMammal,\n",
       " __main__.NonWingedMammal,\n",
       " __main__.Mammal,\n",
       " __main__.Animal,\n",
       " object)"
      ]
     },
     "execution_count": 4,
     "metadata": {},
     "output_type": "execute_result"
    }
   ],
   "source": [
    "Dog.__mro__"
   ]
  },
  {
   "cell_type": "markdown",
   "metadata": {},
   "source": [
    "Here is how MRO is calculated in Python:\n",
    "\n",
    "- A method in the derived calls is always called before the method of the base class. \n",
    "- In our example, Dog class is called before NonMarineMammal or NoneWingedMammal. These two classes are called before Mammal which is called before Animal, and Animal class is called before object.\n",
    "- If there are multiple parents like Dog(NonMarineMammal, NonWingedMammal), method of NonMarineMammal is invoked first because it appears first."
   ]
  },
  {
   "cell_type": "code",
   "execution_count": 2,
   "metadata": {},
   "outputs": [
    {
     "name": "stdout",
     "output_type": "stream",
     "text": [
      "Dog has 4 legs.\n",
      "Dog can't swim.\n",
      "Dog can't fly.\n",
      "Dog is a warm-blooded animal.\n",
      "Dog is an animal.\n",
      "\n",
      "Bat can't swim.\n",
      "Bat is a warm-blooded animal.\n",
      "Bat is an animal.\n"
     ]
    }
   ],
   "source": [
    "class Animal:\n",
    "  def __init__(self, animalName):\n",
    "    print(animalName, 'is an animal.');\n",
    "\n",
    "class Mammal(Animal):\n",
    "  def __init__(self, mammalName):\n",
    "    print(mammalName, 'is a warm-blooded animal.')\n",
    "    super().__init__(mammalName)\n",
    "    \n",
    "class NonMarineMammal(Mammal):\n",
    "  def __init__(self, NonMarineMammalName):\n",
    "    print(NonMarineMammalName, \"can't swim.\")\n",
    "    super().__init__(NonMarineMammalName)\n",
    "\n",
    "class NonWingedMammal(Mammal):\n",
    "  def __init__(self, NonWingedMammalName):\n",
    "    print(NonWingedMammalName, \"can't fly.\")\n",
    "    super().__init__(NonWingedMammalName)\n",
    "\n",
    "\n",
    "class Dog(NonMarineMammal, NonWingedMammal):\n",
    "  def __init__(self):\n",
    "    print('Dog has 4 legs.');\n",
    "    super().__init__('Dog')\n",
    "    \n",
    "d = Dog()\n",
    "print('')\n",
    "\n",
    "\n",
    "bat = NonMarineMammal('Bat') "
   ]
  }
 ],
 "metadata": {
  "kernelspec": {
   "display_name": "Python 3",
   "language": "python",
   "name": "python3"
  },
  "language_info": {
   "codemirror_mode": {
    "name": "ipython",
    "version": 3
   },
   "file_extension": ".py",
   "mimetype": "text/x-python",
   "name": "python",
   "nbconvert_exporter": "python",
   "pygments_lexer": "ipython3",
   "version": "3.6.5"
  }
 },
 "nbformat": 4,
 "nbformat_minor": 2
}
