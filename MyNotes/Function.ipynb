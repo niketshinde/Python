{
 "cells": [
  {
   "cell_type": "markdown",
   "metadata": {},
   "source": [
    "If you pass immutable arguments like integers, strings or tuples to a function, the passing acts like call-by-value. The object reference is passed to the function parameters. They can't be changed within the function, because they can't be changed at all, i.e. they are immutable. It's different, if we pass mutable arguments. They are also passed by object reference, but they can be changed in place in the function. If we pass a list to a function, we have to consider two cases: Elements of a list can be changed in place, i.e. the list will be changed even in the caller's scope. If a new list is assigned to the name, the old list will not be affected, i.e. the list in the caller's scope will remain untouched."
   ]
  },
  {
   "cell_type": "code",
   "execution_count": 22,
   "metadata": {
    "scrolled": true
   },
   "outputs": [
    {
     "name": "stdout",
     "output_type": "stream",
     "text": [
      "x= 9  id= 1811770688\n",
      "x= 42  id= 1811771744\n",
      "1811770688\n",
      "9\n"
     ]
    }
   ],
   "source": [
    "# Call by Value \n",
    "def ref_demo(x):\n",
    "    print(\"x=\",x,\" id=\",id(x))\n",
    "    x=42\n",
    "    print(\"x=\",x,\" id=\",id(x))\n",
    "    \n",
    "x = 9\n",
    "id(x)\n",
    "\n",
    "ref_demo(x)\n",
    "\n",
    "print (id(x))\n",
    "\n",
    "print(x)\n"
   ]
  },
  {
   "cell_type": "markdown",
   "metadata": {},
   "source": [
    "# Side Effect"
   ]
  },
  {
   "cell_type": "markdown",
   "metadata": {},
   "source": [
    "A function is said to have a side effect, if, in addition to producing a return value, it modifies the caller's environment in other ways. For example, a function might modify a global or static variable, modify one of its arguments, raise an exception, write data to a display or file and so on. \n",
    "\n",
    "There are situations, in which these side effects are intended, i.e. they are part of the functions specification. But in other cases, they are not wanted , they are hidden side effects. In this chapter we are only interested in the side effects, which change one or more global variables, which have been passed as arguments to a function. \n",
    "Let's assume, we are passing a list to a function. We expect that the function is not changing this list. First let's have a look at a function which has no side effects. As a new list is assigned to the parameter list in func1(), a new memory location is created for list and list becomes a local variable"
   ]
  },
  {
   "cell_type": "code",
   "execution_count": 28,
   "metadata": {},
   "outputs": [
    {
     "name": "stdout",
     "output_type": "stream",
     "text": [
      "['London', 'Leeds', 'Glasgow', 'Sheffield']\n",
      "Cities :  ['London', 'Leeds', 'Glasgow', 'Sheffield', 'Birmingham', 'Bradford']\n",
      "locations :  ['London', 'Leeds', 'Glasgow', 'Sheffield']\n"
     ]
    }
   ],
   "source": [
    "def no_side_effects(cities):\n",
    "    print(cities)\n",
    "    cities = cities + [\"Birmingham\", \"Bradford\"]\n",
    "    print(\"Cities : \",cities)\n",
    "    \n",
    "          \n",
    "locations= [\"London\", \"Leeds\", \"Glasgow\", \"Sheffield\"]\n",
    "no_side_effects(locations)\n",
    "print(\"locations : \",locations)"
   ]
  },
  {
   "cell_type": "code",
   "execution_count": 32,
   "metadata": {},
   "outputs": [
    {
     "name": "stdout",
     "output_type": "stream",
     "text": [
      "cities :  ['London', 'Leeds', 'Glasgow', 'Sheffield']\n",
      "cities :  ['London', 'Leeds', 'Glasgow', 'Sheffield', 'Birmingham', 'Bradford']\n",
      "locations :  ['London', 'Leeds', 'Glasgow', 'Sheffield', 'Birmingham', 'Bradford']\n"
     ]
    }
   ],
   "source": [
    "def side_effects(cities):\n",
    "    print(\"cities : \", cities)\n",
    "    cities += [\"Birmingham\", \"Bradford\"]\n",
    "    print('cities : ', cities)\n",
    "\n",
    "locations = [\"London\", \"Leeds\", \"Glasgow\", \"Sheffield\"]\n",
    "side_effects(locations)\n",
    "\n",
    "print(\"locations : \",locations)\n"
   ]
  },
  {
   "cell_type": "code",
   "execution_count": 33,
   "metadata": {},
   "outputs": [
    {
     "name": "stdout",
     "output_type": "stream",
     "text": [
      "cities :  ['London', 'Leeds', 'Glasgow', 'Sheffield']\n",
      "cities :  ['London', 'Leeds', 'Glasgow', 'Sheffield', 'Birmingham', 'Bradford']\n",
      "locations :  ['London', 'Leeds', 'Glasgow', 'Sheffield']\n"
     ]
    }
   ],
   "source": [
    "def side_effects(cities):\n",
    "    print(\"cities : \", cities)\n",
    "    cities += [\"Birmingham\", \"Bradford\"]\n",
    "    print('cities : ', cities)\n",
    "\n",
    "locations = [\"London\", \"Leeds\", \"Glasgow\", \"Sheffield\"]\n",
    "side_effects(locations[:])\n",
    "\n",
    "print(\"locations : \",locations)"
   ]
  },
  {
   "cell_type": "code",
   "execution_count": 34,
   "metadata": {},
   "outputs": [],
   "source": [
    "def arithmetic_mean(x, *l):\n",
    "    \"\"\" The function calculates the arithmetic mean of a non-empty\n",
    "        arbitrary number of numbers \"\"\"\n",
    "    sum = x\n",
    "    for i in l:\n",
    "        sum += i\n",
    "\n",
    "    return sum / (1.0 + len(l))"
   ]
  },
  {
   "cell_type": "code",
   "execution_count": 35,
   "metadata": {
    "scrolled": true
   },
   "outputs": [
    {
     "data": {
      "text/plain": [
       "6.666666666666667"
      ]
     },
     "execution_count": 35,
     "metadata": {},
     "output_type": "execute_result"
    }
   ],
   "source": [
    "arithmetic_mean(4,7,9)"
   ]
  },
  {
   "cell_type": "code",
   "execution_count": 36,
   "metadata": {
    "scrolled": true
   },
   "outputs": [
    {
     "ename": "TypeError",
     "evalue": "unsupported operand type(s) for /: 'list' and 'float'",
     "output_type": "error",
     "traceback": [
      "\u001b[1;31m---------------------------------------------------------------------------\u001b[0m",
      "\u001b[1;31mTypeError\u001b[0m                                 Traceback (most recent call last)",
      "\u001b[1;32m<ipython-input-36-b0693d70ca11>\u001b[0m in \u001b[0;36m<module>\u001b[1;34m()\u001b[0m\n\u001b[0;32m      1\u001b[0m \u001b[0ml\u001b[0m \u001b[1;33m=\u001b[0m \u001b[1;33m[\u001b[0m\u001b[1;36m4\u001b[0m\u001b[1;33m,\u001b[0m\u001b[1;36m7\u001b[0m\u001b[1;33m,\u001b[0m\u001b[1;36m9\u001b[0m\u001b[1;33m,\u001b[0m\u001b[1;36m45\u001b[0m\u001b[1;33m,\u001b[0m\u001b[1;33m-\u001b[0m\u001b[1;36m3.7\u001b[0m\u001b[1;33m,\u001b[0m\u001b[1;36m99\u001b[0m\u001b[1;33m]\u001b[0m\u001b[1;33m\u001b[0m\u001b[0m\n\u001b[1;32m----> 2\u001b[1;33m \u001b[0marithmetic_mean\u001b[0m\u001b[1;33m(\u001b[0m\u001b[0ml\u001b[0m\u001b[1;33m)\u001b[0m\u001b[1;33m\u001b[0m\u001b[0m\n\u001b[0m",
      "\u001b[1;32m<ipython-input-34-d4fa5dcb9d83>\u001b[0m in \u001b[0;36marithmetic_mean\u001b[1;34m(x, *l)\u001b[0m\n\u001b[0;32m      6\u001b[0m         \u001b[0msum\u001b[0m \u001b[1;33m+=\u001b[0m \u001b[0mi\u001b[0m\u001b[1;33m\u001b[0m\u001b[0m\n\u001b[0;32m      7\u001b[0m \u001b[1;33m\u001b[0m\u001b[0m\n\u001b[1;32m----> 8\u001b[1;33m     \u001b[1;32mreturn\u001b[0m \u001b[0msum\u001b[0m \u001b[1;33m/\u001b[0m \u001b[1;33m(\u001b[0m\u001b[1;36m1.0\u001b[0m \u001b[1;33m+\u001b[0m \u001b[0mlen\u001b[0m\u001b[1;33m(\u001b[0m\u001b[0ml\u001b[0m\u001b[1;33m)\u001b[0m\u001b[1;33m)\u001b[0m\u001b[1;33m\u001b[0m\u001b[0m\n\u001b[0m",
      "\u001b[1;31mTypeError\u001b[0m: unsupported operand type(s) for /: 'list' and 'float'"
     ]
    }
   ],
   "source": [
    "l = [4,7,9,45,-3.7,99]\n",
    "arithmetic_mean(l)"
   ]
  },
  {
   "cell_type": "code",
   "execution_count": 37,
   "metadata": {},
   "outputs": [
    {
     "data": {
      "text/plain": [
       "26.71666666666667"
      ]
     },
     "execution_count": 37,
     "metadata": {},
     "output_type": "execute_result"
    }
   ],
   "source": [
    "l = [4,7,9,45,-3.7,99]\n",
    "arithmetic_mean(*l)"
   ]
  },
  {
   "cell_type": "code",
   "execution_count": null,
   "metadata": {},
   "outputs": [],
   "source": [
    "l = [4,7,9,45,-3.7,99]\n",
    "arithmetic_mean(l)"
   ]
  },
  {
   "cell_type": "code",
   "execution_count": 39,
   "metadata": {},
   "outputs": [
    {
     "name": "stdout",
     "output_type": "stream",
     "text": [
      "47 11 12\n"
     ]
    }
   ],
   "source": [
    "def f(x,y,z):\n",
    "    print(x,y,z)\n",
    " \n",
    "p = (47,11,12)\n",
    "f(*p)\n"
   ]
  },
  {
   "cell_type": "code",
   "execution_count": 41,
   "metadata": {},
   "outputs": [
    {
     "name": "stdout",
     "output_type": "stream",
     "text": [
      "append block extract yes\n"
     ]
    }
   ],
   "source": [
    "def f(a,b,x,y):\n",
    "    print(a,b,x,y)\n",
    "\n",
    "d = {'a':'append', 'b':'block','x':'extract','y':'yes'}\n",
    "f(**d)\n"
   ]
  },
  {
   "cell_type": "code",
   "execution_count": 23,
   "metadata": {},
   "outputs": [
    {
     "name": "stdout",
     "output_type": "stream",
     "text": [
      "20\n",
      "30\n",
      "30\n",
      "20\n"
     ]
    }
   ],
   "source": [
    "def fun(a,b,c=10,d=0):\n",
    "    return (a+b+c-d)\n",
    "\n",
    "print(fun(10,10,0))\n",
    "print(fun(10,10))\n",
    "print(fun(10,10,))\n",
    "print(fun(10,10,c=10,d=10))"
   ]
  },
  {
   "cell_type": "code",
   "execution_count": 7,
   "metadata": {},
   "outputs": [
    {
     "ename": "SyntaxError",
     "evalue": "non-default argument follows default argument (<ipython-input-7-06bc50e745f9>, line 1)",
     "output_type": "error",
     "traceback": [
      "\u001b[1;36m  File \u001b[1;32m\"<ipython-input-7-06bc50e745f9>\"\u001b[1;36m, line \u001b[1;32m1\u001b[0m\n\u001b[1;33m    def fun(a,b=1,c):\u001b[0m\n\u001b[1;37m           ^\u001b[0m\n\u001b[1;31mSyntaxError\u001b[0m\u001b[1;31m:\u001b[0m non-default argument follows default argument\n"
     ]
    }
   ],
   "source": [
    "def fun(a,b=1,c):\n",
    "    return (a+b)\n",
    "\n",
    "\n",
    "print(fun(10,30))"
   ]
  },
  {
   "cell_type": "code",
   "execution_count": 15,
   "metadata": {},
   "outputs": [
    {
     "name": "stdout",
     "output_type": "stream",
     "text": [
      "(1, 2, 4)\n",
      "7\n"
     ]
    }
   ],
   "source": [
    "def fun1(*args):\n",
    "    test=0\n",
    "    print(args)\n",
    "    for num in args: \n",
    "        test+=num \n",
    "    return test\n",
    "print(fun1(1,2,4))"
   ]
  },
  {
   "cell_type": "code",
   "execution_count": 14,
   "metadata": {},
   "outputs": [
    {
     "name": "stdout",
     "output_type": "stream",
     "text": [
      "[1, 2, 3]\n"
     ]
    }
   ],
   "source": [
    "numbers1 = [1, 2, 3,2] \n",
    "numbers2 = [4, 5, 6] \n",
    "numbers3 = [4, 5, 6] \n",
    "  \n",
    "result = map(lambda x, y, z: x + y-z, numbers1, numbers2, numbers3) \n",
    "print(list(result)) "
   ]
  },
  {
   "cell_type": "code",
   "execution_count": 48,
   "metadata": {},
   "outputs": [
    {
     "name": "stdout",
     "output_type": "stream",
     "text": [
      "4\n"
     ]
    }
   ],
   "source": [
    "x =2\n",
    "y = lambda x: x*x\n",
    "print(y(x))\n"
   ]
  },
  {
   "cell_type": "code",
   "execution_count": 47,
   "metadata": {},
   "outputs": [
    {
     "data": {
      "text/plain": [
       "7"
      ]
     },
     "execution_count": 47,
     "metadata": {},
     "output_type": "execute_result"
    }
   ],
   "source": [
    "sum = lambda x, y : x + y\n",
    "sum(3,4)"
   ]
  },
  {
   "cell_type": "code",
   "execution_count": 53,
   "metadata": {},
   "outputs": [
    {
     "name": "stdout",
     "output_type": "stream",
     "text": [
      "<map object at 0x00000197E9330B38>\n",
      "<map object at 0x00000197E9330E48>\n",
      "temperatures_in_Fahrenheit [97.7, 98.60000000000001, 99.5, 100.4, 102.2]\n",
      "temperatures_in_Celsius [36.5, 37.00000000000001, 37.5, 38.00000000000001, 39.0]\n"
     ]
    }
   ],
   "source": [
    "def fahrenheit(T):\n",
    "    return ((float(9)/5)*T + 32)\n",
    "\n",
    "def celsius(T):\n",
    "    return (float(5)/9)*(T-32)\n",
    "\n",
    "temperatures = (36.5, 37, 37.5, 38, 39)\n",
    "F = map(fahrenheit, temperatures)\n",
    "print(F)\n",
    "C = map(celsius, F)\n",
    "print(C)\n",
    "\n",
    "temperatures_in_Fahrenheit = list(map(fahrenheit, temperatures))\n",
    "print (\"temperatures_in_Fahrenheit\", temperatures_in_Fahrenheit)\n",
    "temperatures_in_Celsius = list(map(celsius, temperatures_in_Fahrenheit))\n",
    "\n",
    "print(\"temperatures_in_Celsius\" ,temperatures_in_Celsius)"
   ]
  },
  {
   "cell_type": "code",
   "execution_count": 54,
   "metadata": {},
   "outputs": [
    {
     "name": "stdout",
     "output_type": "stream",
     "text": [
      "[102.56, 97.7, 99.14, 100.4, 100.03999999999999]\n",
      "[39.2, 36.5, 37.300000000000004, 38.00000000000001, 37.8]\n"
     ]
    }
   ],
   "source": [
    "C = [39.2, 36.5, 37.3, 38, 37.8] \n",
    "F = list(map(lambda x: (float(9)/5)*x + 32, C))\n",
    "print(F)\n",
    "\n",
    "C = list(map(lambda x: (float(5)/9)*(x-32), F))\n",
    "print(C)"
   ]
  },
  {
   "cell_type": "code",
   "execution_count": 55,
   "metadata": {},
   "outputs": [
    {
     "data": {
      "text/plain": [
       "[37.5, 33.0, 24.5]"
      ]
     },
     "execution_count": 55,
     "metadata": {},
     "output_type": "execute_result"
    }
   ],
   "source": [
    "# If one list has fewer elements than the others, map will stop when the shortest list has been consumed:\n",
    "a = [1, 2, 3]\n",
    "b = [17, 12, 11, 10]\n",
    "c = [-1, -4, 5, 9]\n",
    "\n",
    "list(map(lambda x, y, z : 2.5*x + 2*y - z, a, b, c))\n"
   ]
  },
  {
   "cell_type": "markdown",
   "metadata": {},
   "source": [
    "# Mapping a List of Functions"
   ]
  },
  {
   "cell_type": "code",
   "execution_count": 56,
   "metadata": {},
   "outputs": [
    {
     "name": "stdout",
     "output_type": "stream",
     "text": [
      "[1.2246467991473532e-16, -1.0, -1.2246467991473532e-16]\n"
     ]
    }
   ],
   "source": [
    "from math import sin, cos, tan, pi\n",
    "\n",
    "def map_functions(x, functions):\n",
    "     \"\"\" map an iterable of functions on the the object x \"\"\"\n",
    "     res = []\n",
    "     for func in functions:\n",
    "         res.append(func(x))\n",
    "     return res\n",
    "\n",
    "family_of_functions = (sin, cos, tan)\n",
    "print(map_functions(pi, family_of_functions))"
   ]
  },
  {
   "cell_type": "code",
   "execution_count": 57,
   "metadata": {},
   "outputs": [
    {
     "name": "stdout",
     "output_type": "stream",
     "text": [
      "[1.2246467991473532e-16, -1.0, -1.2246467991473532e-16]\n"
     ]
    }
   ],
   "source": [
    "def map_functions(x, functions):\n",
    "     return [ func(x) for func in functions ]\n",
    "    \n",
    "family_of_functions = (sin, cos, tan)\n",
    "print(map_functions(pi, family_of_functions))"
   ]
  },
  {
   "cell_type": "code",
   "execution_count": 62,
   "metadata": {},
   "outputs": [
    {
     "name": "stdout",
     "output_type": "stream",
     "text": [
      "odd_numbers [1, 1, 3, 5, 13, 21, 55]\n",
      "even_numbers [0, 2, 8, 34]\n",
      "even_number [0, 2, 8, 34]\n"
     ]
    }
   ],
   "source": [
    "fibonacci = [0,1,1,2,3,5,8,13,21,34,55]\n",
    "odd_numbers = list(filter(lambda x: x % 2, fibonacci))\n",
    "print(\"odd_numbers\",odd_numbers)\n",
    "[1, 1, 3, 5, 13, 21, 55]\n",
    "even_numbers = list(filter(lambda x: x % 2 == 0, fibonacci))\n",
    "print(\"even_numbers\",even_numbers)\n",
    "[0, 2, 8, 34]\n",
    "\n",
    "\n",
    "# or alternatively:\n",
    "... \n",
    "even_numbers = list(filter(lambda x: x % 2 -1, fibonacci))\n",
    "print(\"even_number\", even_numbers)\n"
   ]
  },
  {
   "cell_type": "code",
   "execution_count": 71,
   "metadata": {},
   "outputs": [
    {
     "name": "stdout",
     "output_type": "stream",
     "text": [
      "1\n"
     ]
    }
   ],
   "source": [
    "print(11 % 3 -1)"
   ]
  },
  {
   "cell_type": "code",
   "execution_count": 73,
   "metadata": {},
   "outputs": [
    {
     "name": "stdout",
     "output_type": "stream",
     "text": [
      "[(3, 4, 5), (5, 12, 13), (6, 8, 10), (7, 24, 25), (8, 15, 17), (9, 12, 15), (10, 24, 26), (12, 16, 20), (15, 20, 25), (20, 21, 29)]\n"
     ]
    }
   ],
   "source": [
    "print ([(x,y,z) for x in range(1,30) for y in range(x,30) for z in range(y,30) if x**2 + y**2 == z**2])\n"
   ]
  },
  {
   "cell_type": "code",
   "execution_count": 74,
   "metadata": {},
   "outputs": [
    {
     "name": "stdout",
     "output_type": "stream",
     "text": [
      "[('red', 'house'), ('red', 'car'), ('red', 'tree'), ('green', 'house'), ('green', 'car'), ('green', 'tree'), ('yellow', 'house'), ('yellow', 'car'), ('yellow', 'tree'), ('blue', 'house'), ('blue', 'car'), ('blue', 'tree')]\n"
     ]
    }
   ],
   "source": [
    "colours = [ \"red\", \"green\", \"yellow\", \"blue\" ]\n",
    "things = [ \"house\", \"car\", \"tree\" ]\n",
    "coloured_things = [ (x,y) for x in colours for y in things ]\n",
    "print(coloured_things)"
   ]
  },
  {
   "cell_type": "code",
   "execution_count": 75,
   "metadata": {},
   "outputs": [
    {
     "name": "stdout",
     "output_type": "stream",
     "text": [
      "[2, 0, -2, -4, -6, -8, -10, -12]\n",
      "[]\n"
     ]
    }
   ],
   "source": [
    "start = 2\n",
    "stop = -14\n",
    "step = -2\n",
    "\n",
    "print(list(range(start, stop, step)))\n",
    "\n",
    "# value constraint not met\n",
    "print(list(range(start, 14, step)))"
   ]
  },
  {
   "cell_type": "code",
   "execution_count": 76,
   "metadata": {},
   "outputs": [
    {
     "name": "stdout",
     "output_type": "stream",
     "text": [
      "<generator object <genexpr> at 0x00000197E940BA40>\n",
      "[0, 1, 4, 9, 16, 25, 36, 49, 64, 81, 100, 121, 144, 169, 196, 225, 256, 289, 324, 361]\n"
     ]
    }
   ],
   "source": [
    "x = (x **2 for x in range(20))\n",
    "print(x)\n",
    "\n",
    "x = list(x)\n",
    "print(x)\n"
   ]
  },
  {
   "cell_type": "code",
   "execution_count": 79,
   "metadata": {},
   "outputs": [
    {
     "name": "stdout",
     "output_type": "stream",
     "text": [
      "[4, 6, 8, 10, 12, 14, 16, 18, 20, 22, 24, 26, 28, 30, 32, 34, 36, 38, 40, 42, 44, 46, 48, 50, 52, 54, 56, 58, 60, 62, 64, 66, 68, 70, 72, 74, 76, 78, 80, 82, 84, 86, 88, 90, 92, 94, 96, 98, 6, 9, 12, 15, 18, 21, 24, 27, 30, 33, 36, 39, 42, 45, 48, 51, 54, 57, 60, 63, 66, 69, 72, 75, 78, 81, 84, 87, 90, 93, 96, 99, 8, 12, 16, 20, 24, 28, 32, 36, 40, 44, 48, 52, 56, 60, 64, 68, 72, 76, 80, 84, 88, 92, 96, 10, 15, 20, 25, 30, 35, 40, 45, 50, 55, 60, 65, 70, 75, 80, 85, 90, 95, 12, 18, 24, 30, 36, 42, 48, 54, 60, 66, 72, 78, 84, 90, 96, 14, 21, 28, 35, 42, 49, 56, 63, 70, 77, 84, 91, 98, 16, 24, 32, 40, 48, 56, 64, 72, 80, 88, 96, 18, 27, 36, 45, 54, 63, 72, 81, 90, 99, 20, 30, 40, 50, 60, 70, 80, 90]\n"
     ]
    }
   ],
   "source": [
    "from math import sqrt\n",
    "n = 100\n",
    "sqrt_n = int(sqrt(n))\n",
    "no_primes = [j for i in range(2, sqrt_n+1) for j in range(i*2, n, i)]\n",
    "print(no_primes)"
   ]
  },
  {
   "cell_type": "code",
   "execution_count": 1,
   "metadata": {},
   "outputs": [
    {
     "name": "stdout",
     "output_type": "stream",
     "text": [
      "[4, 6, 8, 10, 12, 14, 16, 18, 20, 22, 24, 26, 28, 30, 32, 34, 36, 38, 40, 42, 44, 46, 48, 50, 52, 54, 56, 58, 60, 62, 64, 66, 68, 70, 72, 74, 76, 78, 80, 82, 84, 86, 88, 90, 92, 94, 96, 98, 6, 9, 12, 15, 18, 21, 24, 27, 30, 33, 36, 39, 42, 45, 48, 51, 54, 57, 60, 63, 66, 69, 72, 75, 78, 81, 84, 87, 90, 93, 96, 99, 8, 12, 16, 20, 24, 28, 32, 36, 40, 44, 48, 52, 56, 60, 64, 68, 72, 76, 80, 84, 88, 92, 96, 10, 15, 20, 25, 30, 35, 40, 45, 50, 55, 60, 65, 70, 75, 80, 85, 90, 95, 12, 18, 24, 30, 36, 42, 48, 54, 60, 66, 72, 78, 84, 90, 96, 14, 21, 28, 35, 42, 49, 56, 63, 70, 77, 84, 91, 98, 16, 24, 32, 40, 48, 56, 64, 72, 80, 88, 96, 18, 27, 36, 45, 54, 63, 72, 81, 90, 99, 20, 30, 40, 50, 60, 70, 80, 90]\n"
     ]
    }
   ],
   "source": [
    "from math import sqrt\n",
    "n = 100\n",
    "sqrt_n = int(sqrt(n))\n",
    "no_primes = [j for i in range(2, sqrt_n+1) for j in range(i*2, n, i)]\n",
    "print(no_primes)"
   ]
  },
  {
   "cell_type": "code",
   "execution_count": null,
   "metadata": {},
   "outputs": [],
   "source": []
  }
 ],
 "metadata": {
  "kernelspec": {
   "display_name": "Python 3",
   "language": "python",
   "name": "python3"
  },
  "language_info": {
   "codemirror_mode": {
    "name": "ipython",
    "version": 3
   },
   "file_extension": ".py",
   "mimetype": "text/x-python",
   "name": "python",
   "nbconvert_exporter": "python",
   "pygments_lexer": "ipython3",
   "version": "3.6.5"
  }
 },
 "nbformat": 4,
 "nbformat_minor": 2
}
